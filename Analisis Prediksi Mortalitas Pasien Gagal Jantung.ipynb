{
  "cells": [
    {
      "cell_type": "markdown",
      "metadata": {
        "id": "ko7vfqQlYWym"
      },
      "source": [
        "<center><img src=\"https://dinus.ac.id/wp-content/uploads/2024/11/Logo-Web-Udinus-Putih.png\"  width=\"400\">\n",
        "\n",
        "\n",
        "# Jawaban Ujian BK Associate Data Scientist - Teknik Informatika S1 - 11 Januari 2025\n",
        "</center>"
      ]
    },
    {
      "cell_type": "markdown",
      "metadata": {
        "id": "XqhePs6nYdty"
      },
      "source": [
        "PANDUAN:\n",
        "- **WAJIB MENGISI SEMUA UNIT**\n",
        "- DIPERBOLEHKAN MEMBUKA FILE LAMPAU, TAPI TIDAK BOLEH MENGGUNAKAN CHATGPT, GEMINI, CLAUDE, DAN LLM LAINNYA\n",
        "- JIKA SUDAH SELESAI, SILAKAN MENGABARI PENGUJI UNTUK DINILAI"
      ]
    },
    {
      "cell_type": "markdown",
      "metadata": {
        "id": "2mFf-EPkYprQ"
      },
      "source": [
        "# Latar Belakang Masalah\n",
        "Kesehatan adalah pilar utama kehidupan. Salah satu ancaman serius yang dihadapi masyarakat saat ini adalah **gagal jantung**, penyakit kronis yang menjadi penyebab utama kematian di seluruh dunia. Gagal jantung terjadi ketika jantung tidak mampu memompa darah yang cukup untuk memenuhi kebutuhan tubuh, yang sering kali berujung pada komplikasi yang mengancam jiwa.\n",
        "\n",
        "Menyadari pentingnya penanganan dini dan akurat terhadap penyakit ini, dunia medis dan teknologi bekerja sama untuk menghadirkan solusi berbasis data. Salah satu langkah penting adalah pemanfaatan dataset medis untuk membangun model prediksi yang dapat membantu dokter dan tenaga medis dalam mengidentifikasi pasien berisiko tinggi.\n",
        "\n",
        "Dataset **Heart Failure Clinical Records**, yang terdiri dari 299 catatan medis pasien gagal jantung, menyediakan data penting yang mencakup berbagai faktor seperti `age`, `anaemia`, `creatinine_phosphokinase`, `diabetes`, `ejection_fraction`, `high_blood_pressure`, `platelets`, `serum_creatinine`, `serum_sodium`, `sex`, `smoking`, `time`, `death_event`. Informasi ini menjadi fondasi untuk mengembangkan model prediktif yang akurat.\n",
        "\n",
        "# Tujuan Ujian Sertifikasi\n",
        "Tujuan utama dari analisis dataset ini adalah:\n",
        "1. **Mengidentifikasi variabel kunci** yang memengaruhi risiko mortalitas pasien gagal jantung.\n",
        "2. **Membangun model prediktif** yang dapat membantu memprediksi kelangsungan hidup pasien gagal jantung.\n",
        "\n",
        "Dengan hasil analisis ini, diharapkan dataset dapat memberikan wawasan yang berharga kepada rumah sakit, tenaga medis, dan pembuat kebijakan dalam mengurangi angka kematian akibat gagal jantung.\n",
        "\n",
        "# Terkait Dataset\n",
        "- **Sumber Data**: [Heart Failure Clinical Records Dataset - UCI Machine Learning Repository](https://archive.ics.uci.edu/dataset/519/heart+failure+clinical+records)\n",
        "- **Jumlah Sampel Data**: 299 pasien\n",
        "- **Jumlah Atribut**: 13 atribut, meliputi: `age`, `anaemia`, `creatinine_phosphokinase`, `diabetes`, dan lainnya.\n",
        "- **Label**: Kematian pasien selama periode tindak lanjut (0 = hidup, 1 = meninggal).\n",
        "\n",
        "# Pendekatan Analisis\n",
        "Untuk mendukung analisis dataset ini, akan dibuat skema komparasi model prediksi yang dilakukan dengan dua pendekatan berbeda:\n",
        "\n",
        "1. **Menggunakan Dua Fitur Penting**: Model akan dibangun hanya dengan menggunakan dua fitur kunci, yaitu `serum_creatinine` dan `ejection_fraction`. Kedua fitur ini dipilih karena memiliki hubungan signifikan dengan fungsi ginjal dan keseimbangan elektrolit yang berdampak pada kondisi gagal jantung.\n",
        "\n",
        "2. **Menggunakan Semua Fitur**: Model akan dibangun dengan memanfaatkan semua 13 fitur yang tersedia dalam dataset untuk melihat seberapa besar peningkatan akurasi dan performa jika semua informasi digunakan.\n",
        "\n",
        "Studi ini berfokus pada dataset 299 pasien yang dikumpulkan pada tahun 2015 untuk mengevaluasi apakah dua faktor klinis utama **serum creatinine** dan **ejection fraction** cukup, untuk memprediksi kelangsungan hidup pasien dengan lebih akurat dibandingkan menggunakan seluruh data fitur klinis.\n",
        "\n",
        "\n"
      ]
    },
    {
      "cell_type": "markdown",
      "metadata": {
        "id": "pJlN5Sx_bJeH"
      },
      "source": [
        "## LOAD LIBRARY - MASUKKAN LIBRARY PYTHON YANG AKAN ANDA GUNAKAN"
      ]
    },
    {
      "cell_type": "code",
      "execution_count": null,
      "metadata": {
        "id": "Mx_n7bsbXcnB"
      },
      "outputs": [],
      "source": [
        "# Import Library\n",
        "import pandas as pd\n",
        "import matplotlib.pyplot as plt\n",
        "import seaborn as sns\n",
        "import numpy as np"
      ]
    },
    {
      "cell_type": "markdown",
      "metadata": {
        "id": "xtEQMJIobeFY"
      },
      "source": [
        "## BAB 1 - (J.62DMI00.004.1) Mengumpulkan data\n",
        "- Load Data dan Ganti nama kolom yang masih berupa index dan ganti menjadi berikut pada dataframe :\n",
        "\n",
        "  age, anaemia, creatinine_phosphokinase,diabetes,ejection_fraction,high_blood_pressure,platelets,serum_creatinine, serum_sodium, sex, smoking,time,death_event"
      ]
    },
    {
      "cell_type": "markdown",
      "metadata": {
        "id": "q2lQNp-QBkkE"
      },
      "source": [
        "###Load Dataset\n",
        "Metode: Load dari Google Drive"
      ]
    },
    {
      "cell_type": "code",
      "execution_count": null,
      "metadata": {
        "colab": {
          "base_uri": "https://localhost:8080/"
        },
        "id": "OzT27JoudOie",
        "outputId": "3b5bd52d-7832-450a-8352-38e65fb9f2c6"
      },
      "outputs": [
        {
          "name": "stdout",
          "output_type": "stream",
          "text": [
            "Drive already mounted at /content/drive; to attempt to forcibly remount, call drive.mount(\"/content/drive\", force_remount=True).\n"
          ]
        }
      ],
      "source": [
        "# Buat akses dari google drive\n",
        "from google.colab import drive\n",
        "drive.mount('/content/drive')"
      ]
    },
    {
      "cell_type": "code",
      "execution_count": null,
      "metadata": {
        "colab": {
          "base_uri": "https://localhost:8080/",
          "height": 206
        },
        "id": "_PEgF4EDBzMh",
        "outputId": "719ce9bf-5798-4e2f-edac-be9fc9e3cb98"
      },
      "outputs": [
        {
          "data": {
            "application/vnd.google.colaboratory.intrinsic+json": {
              "summary": "{\n  \"name\": \"df\",\n  \"rows\": 299,\n  \"fields\": [\n    {\n      \"column\": \"0\",\n      \"properties\": {\n        \"dtype\": \"number\",\n        \"std\": 12.09652529407865,\n        \"min\": 40.0,\n        \"max\": 95.0,\n        \"num_unique_values\": 46,\n        \"samples\": [\n          60.667,\n          42.0,\n          67.0\n        ],\n        \"semantic_type\": \"\",\n        \"description\": \"\"\n      }\n    },\n    {\n      \"column\": \"1\",\n      \"properties\": {\n        \"dtype\": \"number\",\n        \"std\": 0,\n        \"min\": 0,\n        \"max\": 1,\n        \"num_unique_values\": 2,\n        \"samples\": [\n          1,\n          0\n        ],\n        \"semantic_type\": \"\",\n        \"description\": \"\"\n      }\n    },\n    {\n      \"column\": \"2\",\n      \"properties\": {\n        \"dtype\": \"number\",\n        \"std\": 973.3489893923182,\n        \"min\": 23.0,\n        \"max\": 7861.0,\n        \"num_unique_values\": 200,\n        \"samples\": [\n          1082.0,\n          149.0\n        ],\n        \"semantic_type\": \"\",\n        \"description\": \"\"\n      }\n    },\n    {\n      \"column\": \"3\",\n      \"properties\": {\n        \"dtype\": \"number\",\n        \"std\": 0,\n        \"min\": 0,\n        \"max\": 1,\n        \"num_unique_values\": 2,\n        \"samples\": [\n          1,\n          0\n        ],\n        \"semantic_type\": \"\",\n        \"description\": \"\"\n      }\n    },\n    {\n      \"column\": \"4\",\n      \"properties\": {\n        \"dtype\": \"number\",\n        \"std\": 11.77871973783191,\n        \"min\": 14.0,\n        \"max\": 80.0,\n        \"num_unique_values\": 17,\n        \"samples\": [\n          20.0,\n          38.0\n        ],\n        \"semantic_type\": \"\",\n        \"description\": \"\"\n      }\n    },\n    {\n      \"column\": \"5\",\n      \"properties\": {\n        \"dtype\": \"number\",\n        \"std\": 0,\n        \"min\": 0,\n        \"max\": 1,\n        \"num_unique_values\": 2,\n        \"samples\": [\n          0,\n          1\n        ],\n        \"semantic_type\": \"\",\n        \"description\": \"\"\n      }\n    },\n    {\n      \"column\": \"6\",\n      \"properties\": {\n        \"dtype\": \"number\",\n        \"std\": 98953.72191170609,\n        \"min\": 25100.0,\n        \"max\": 850000.0,\n        \"num_unique_values\": 162,\n        \"samples\": [\n          179000.0,\n          224000.0\n        ],\n        \"semantic_type\": \"\",\n        \"description\": \"\"\n      }\n    },\n    {\n      \"column\": \"7\",\n      \"properties\": {\n        \"dtype\": \"number\",\n        \"std\": 1.034510064089853,\n        \"min\": 0.5,\n        \"max\": 9.4,\n        \"num_unique_values\": 40,\n        \"samples\": [\n          4.4,\n          3.5\n        ],\n        \"semantic_type\": \"\",\n        \"description\": \"\"\n      }\n    },\n    {\n      \"column\": \"8\",\n      \"properties\": {\n        \"dtype\": \"number\",\n        \"std\": 4,\n        \"min\": 113,\n        \"max\": 148,\n        \"num_unique_values\": 27,\n        \"samples\": [\n          133,\n          134\n        ],\n        \"semantic_type\": \"\",\n        \"description\": \"\"\n      }\n    },\n    {\n      \"column\": \"9\",\n      \"properties\": {\n        \"dtype\": \"number\",\n        \"std\": 0,\n        \"min\": 0,\n        \"max\": 1,\n        \"num_unique_values\": 2,\n        \"samples\": [\n          0,\n          1\n        ],\n        \"semantic_type\": \"\",\n        \"description\": \"\"\n      }\n    },\n    {\n      \"column\": \"10\",\n      \"properties\": {\n        \"dtype\": \"number\",\n        \"std\": 0.46871607375568786,\n        \"min\": 0.0,\n        \"max\": 1.0,\n        \"num_unique_values\": 2,\n        \"samples\": [\n          1.0,\n          0.0\n        ],\n        \"semantic_type\": \"\",\n        \"description\": \"\"\n      }\n    },\n    {\n      \"column\": \"11\",\n      \"properties\": {\n        \"dtype\": \"number\",\n        \"std\": 77,\n        \"min\": 4,\n        \"max\": 285,\n        \"num_unique_values\": 148,\n        \"samples\": [\n          215,\n          79\n        ],\n        \"semantic_type\": \"\",\n        \"description\": \"\"\n      }\n    },\n    {\n      \"column\": \"12\",\n      \"properties\": {\n        \"dtype\": \"number\",\n        \"std\": 0,\n        \"min\": 0,\n        \"max\": 1,\n        \"num_unique_values\": 2,\n        \"samples\": [\n          0,\n          1\n        ],\n        \"semantic_type\": \"\",\n        \"description\": \"\"\n      }\n    }\n  ]\n}",
              "type": "dataframe",
              "variable_name": "df"
            },
            "text/html": [
              "\n",
              "  <div id=\"df-0025ac1e-8348-4992-ad0b-85cda827d8ef\" class=\"colab-df-container\">\n",
              "    <div>\n",
              "<style scoped>\n",
              "    .dataframe tbody tr th:only-of-type {\n",
              "        vertical-align: middle;\n",
              "    }\n",
              "\n",
              "    .dataframe tbody tr th {\n",
              "        vertical-align: top;\n",
              "    }\n",
              "\n",
              "    .dataframe thead th {\n",
              "        text-align: right;\n",
              "    }\n",
              "</style>\n",
              "<table border=\"1\" class=\"dataframe\">\n",
              "  <thead>\n",
              "    <tr style=\"text-align: right;\">\n",
              "      <th></th>\n",
              "      <th>0</th>\n",
              "      <th>1</th>\n",
              "      <th>2</th>\n",
              "      <th>3</th>\n",
              "      <th>4</th>\n",
              "      <th>5</th>\n",
              "      <th>6</th>\n",
              "      <th>7</th>\n",
              "      <th>8</th>\n",
              "      <th>9</th>\n",
              "      <th>10</th>\n",
              "      <th>11</th>\n",
              "      <th>12</th>\n",
              "    </tr>\n",
              "  </thead>\n",
              "  <tbody>\n",
              "    <tr>\n",
              "      <th>0</th>\n",
              "      <td>75.0</td>\n",
              "      <td>0</td>\n",
              "      <td>582.0</td>\n",
              "      <td>0</td>\n",
              "      <td>20.0</td>\n",
              "      <td>1</td>\n",
              "      <td>265000.00</td>\n",
              "      <td>1.9</td>\n",
              "      <td>130</td>\n",
              "      <td>1</td>\n",
              "      <td>0.0</td>\n",
              "      <td>4</td>\n",
              "      <td>1</td>\n",
              "    </tr>\n",
              "    <tr>\n",
              "      <th>1</th>\n",
              "      <td>55.0</td>\n",
              "      <td>0</td>\n",
              "      <td>7861.0</td>\n",
              "      <td>0</td>\n",
              "      <td>38.0</td>\n",
              "      <td>0</td>\n",
              "      <td>263358.03</td>\n",
              "      <td>1.1</td>\n",
              "      <td>136</td>\n",
              "      <td>1</td>\n",
              "      <td>0.0</td>\n",
              "      <td>6</td>\n",
              "      <td>1</td>\n",
              "    </tr>\n",
              "    <tr>\n",
              "      <th>2</th>\n",
              "      <td>65.0</td>\n",
              "      <td>0</td>\n",
              "      <td>146.0</td>\n",
              "      <td>0</td>\n",
              "      <td>20.0</td>\n",
              "      <td>0</td>\n",
              "      <td>162000.00</td>\n",
              "      <td>1.3</td>\n",
              "      <td>129</td>\n",
              "      <td>1</td>\n",
              "      <td>1.0</td>\n",
              "      <td>7</td>\n",
              "      <td>1</td>\n",
              "    </tr>\n",
              "    <tr>\n",
              "      <th>3</th>\n",
              "      <td>50.0</td>\n",
              "      <td>1</td>\n",
              "      <td>111.0</td>\n",
              "      <td>0</td>\n",
              "      <td>20.0</td>\n",
              "      <td>0</td>\n",
              "      <td>210000.00</td>\n",
              "      <td>1.9</td>\n",
              "      <td>137</td>\n",
              "      <td>1</td>\n",
              "      <td>0.0</td>\n",
              "      <td>7</td>\n",
              "      <td>1</td>\n",
              "    </tr>\n",
              "    <tr>\n",
              "      <th>4</th>\n",
              "      <td>65.0</td>\n",
              "      <td>1</td>\n",
              "      <td>160.0</td>\n",
              "      <td>1</td>\n",
              "      <td>NaN</td>\n",
              "      <td>0</td>\n",
              "      <td>327000.00</td>\n",
              "      <td>2.7</td>\n",
              "      <td>116</td>\n",
              "      <td>0</td>\n",
              "      <td>0.0</td>\n",
              "      <td>8</td>\n",
              "      <td>1</td>\n",
              "    </tr>\n",
              "  </tbody>\n",
              "</table>\n",
              "</div>\n",
              "    <div class=\"colab-df-buttons\">\n",
              "\n",
              "  <div class=\"colab-df-container\">\n",
              "    <button class=\"colab-df-convert\" onclick=\"convertToInteractive('df-0025ac1e-8348-4992-ad0b-85cda827d8ef')\"\n",
              "            title=\"Convert this dataframe to an interactive table.\"\n",
              "            style=\"display:none;\">\n",
              "\n",
              "  <svg xmlns=\"http://www.w3.org/2000/svg\" height=\"24px\" viewBox=\"0 -960 960 960\">\n",
              "    <path d=\"M120-120v-720h720v720H120Zm60-500h600v-160H180v160Zm220 220h160v-160H400v160Zm0 220h160v-160H400v160ZM180-400h160v-160H180v160Zm440 0h160v-160H620v160ZM180-180h160v-160H180v160Zm440 0h160v-160H620v160Z\"/>\n",
              "  </svg>\n",
              "    </button>\n",
              "\n",
              "  <style>\n",
              "    .colab-df-container {\n",
              "      display:flex;\n",
              "      gap: 12px;\n",
              "    }\n",
              "\n",
              "    .colab-df-convert {\n",
              "      background-color: #E8F0FE;\n",
              "      border: none;\n",
              "      border-radius: 50%;\n",
              "      cursor: pointer;\n",
              "      display: none;\n",
              "      fill: #1967D2;\n",
              "      height: 32px;\n",
              "      padding: 0 0 0 0;\n",
              "      width: 32px;\n",
              "    }\n",
              "\n",
              "    .colab-df-convert:hover {\n",
              "      background-color: #E2EBFA;\n",
              "      box-shadow: 0px 1px 2px rgba(60, 64, 67, 0.3), 0px 1px 3px 1px rgba(60, 64, 67, 0.15);\n",
              "      fill: #174EA6;\n",
              "    }\n",
              "\n",
              "    .colab-df-buttons div {\n",
              "      margin-bottom: 4px;\n",
              "    }\n",
              "\n",
              "    [theme=dark] .colab-df-convert {\n",
              "      background-color: #3B4455;\n",
              "      fill: #D2E3FC;\n",
              "    }\n",
              "\n",
              "    [theme=dark] .colab-df-convert:hover {\n",
              "      background-color: #434B5C;\n",
              "      box-shadow: 0px 1px 3px 1px rgba(0, 0, 0, 0.15);\n",
              "      filter: drop-shadow(0px 1px 2px rgba(0, 0, 0, 0.3));\n",
              "      fill: #FFFFFF;\n",
              "    }\n",
              "  </style>\n",
              "\n",
              "    <script>\n",
              "      const buttonEl =\n",
              "        document.querySelector('#df-0025ac1e-8348-4992-ad0b-85cda827d8ef button.colab-df-convert');\n",
              "      buttonEl.style.display =\n",
              "        google.colab.kernel.accessAllowed ? 'block' : 'none';\n",
              "\n",
              "      async function convertToInteractive(key) {\n",
              "        const element = document.querySelector('#df-0025ac1e-8348-4992-ad0b-85cda827d8ef');\n",
              "        const dataTable =\n",
              "          await google.colab.kernel.invokeFunction('convertToInteractive',\n",
              "                                                    [key], {});\n",
              "        if (!dataTable) return;\n",
              "\n",
              "        const docLinkHtml = 'Like what you see? Visit the ' +\n",
              "          '<a target=\"_blank\" href=https://colab.research.google.com/notebooks/data_table.ipynb>data table notebook</a>'\n",
              "          + ' to learn more about interactive tables.';\n",
              "        element.innerHTML = '';\n",
              "        dataTable['output_type'] = 'display_data';\n",
              "        await google.colab.output.renderOutput(dataTable, element);\n",
              "        const docLink = document.createElement('div');\n",
              "        docLink.innerHTML = docLinkHtml;\n",
              "        element.appendChild(docLink);\n",
              "      }\n",
              "    </script>\n",
              "  </div>\n",
              "\n",
              "\n",
              "<div id=\"df-ceade330-964a-4d61-892a-9f02bc55810b\">\n",
              "  <button class=\"colab-df-quickchart\" onclick=\"quickchart('df-ceade330-964a-4d61-892a-9f02bc55810b')\"\n",
              "            title=\"Suggest charts\"\n",
              "            style=\"display:none;\">\n",
              "\n",
              "<svg xmlns=\"http://www.w3.org/2000/svg\" height=\"24px\"viewBox=\"0 0 24 24\"\n",
              "     width=\"24px\">\n",
              "    <g>\n",
              "        <path d=\"M19 3H5c-1.1 0-2 .9-2 2v14c0 1.1.9 2 2 2h14c1.1 0 2-.9 2-2V5c0-1.1-.9-2-2-2zM9 17H7v-7h2v7zm4 0h-2V7h2v10zm4 0h-2v-4h2v4z\"/>\n",
              "    </g>\n",
              "</svg>\n",
              "  </button>\n",
              "\n",
              "<style>\n",
              "  .colab-df-quickchart {\n",
              "      --bg-color: #E8F0FE;\n",
              "      --fill-color: #1967D2;\n",
              "      --hover-bg-color: #E2EBFA;\n",
              "      --hover-fill-color: #174EA6;\n",
              "      --disabled-fill-color: #AAA;\n",
              "      --disabled-bg-color: #DDD;\n",
              "  }\n",
              "\n",
              "  [theme=dark] .colab-df-quickchart {\n",
              "      --bg-color: #3B4455;\n",
              "      --fill-color: #D2E3FC;\n",
              "      --hover-bg-color: #434B5C;\n",
              "      --hover-fill-color: #FFFFFF;\n",
              "      --disabled-bg-color: #3B4455;\n",
              "      --disabled-fill-color: #666;\n",
              "  }\n",
              "\n",
              "  .colab-df-quickchart {\n",
              "    background-color: var(--bg-color);\n",
              "    border: none;\n",
              "    border-radius: 50%;\n",
              "    cursor: pointer;\n",
              "    display: none;\n",
              "    fill: var(--fill-color);\n",
              "    height: 32px;\n",
              "    padding: 0;\n",
              "    width: 32px;\n",
              "  }\n",
              "\n",
              "  .colab-df-quickchart:hover {\n",
              "    background-color: var(--hover-bg-color);\n",
              "    box-shadow: 0 1px 2px rgba(60, 64, 67, 0.3), 0 1px 3px 1px rgba(60, 64, 67, 0.15);\n",
              "    fill: var(--button-hover-fill-color);\n",
              "  }\n",
              "\n",
              "  .colab-df-quickchart-complete:disabled,\n",
              "  .colab-df-quickchart-complete:disabled:hover {\n",
              "    background-color: var(--disabled-bg-color);\n",
              "    fill: var(--disabled-fill-color);\n",
              "    box-shadow: none;\n",
              "  }\n",
              "\n",
              "  .colab-df-spinner {\n",
              "    border: 2px solid var(--fill-color);\n",
              "    border-color: transparent;\n",
              "    border-bottom-color: var(--fill-color);\n",
              "    animation:\n",
              "      spin 1s steps(1) infinite;\n",
              "  }\n",
              "\n",
              "  @keyframes spin {\n",
              "    0% {\n",
              "      border-color: transparent;\n",
              "      border-bottom-color: var(--fill-color);\n",
              "      border-left-color: var(--fill-color);\n",
              "    }\n",
              "    20% {\n",
              "      border-color: transparent;\n",
              "      border-left-color: var(--fill-color);\n",
              "      border-top-color: var(--fill-color);\n",
              "    }\n",
              "    30% {\n",
              "      border-color: transparent;\n",
              "      border-left-color: var(--fill-color);\n",
              "      border-top-color: var(--fill-color);\n",
              "      border-right-color: var(--fill-color);\n",
              "    }\n",
              "    40% {\n",
              "      border-color: transparent;\n",
              "      border-right-color: var(--fill-color);\n",
              "      border-top-color: var(--fill-color);\n",
              "    }\n",
              "    60% {\n",
              "      border-color: transparent;\n",
              "      border-right-color: var(--fill-color);\n",
              "    }\n",
              "    80% {\n",
              "      border-color: transparent;\n",
              "      border-right-color: var(--fill-color);\n",
              "      border-bottom-color: var(--fill-color);\n",
              "    }\n",
              "    90% {\n",
              "      border-color: transparent;\n",
              "      border-bottom-color: var(--fill-color);\n",
              "    }\n",
              "  }\n",
              "</style>\n",
              "\n",
              "  <script>\n",
              "    async function quickchart(key) {\n",
              "      const quickchartButtonEl =\n",
              "        document.querySelector('#' + key + ' button');\n",
              "      quickchartButtonEl.disabled = true;  // To prevent multiple clicks.\n",
              "      quickchartButtonEl.classList.add('colab-df-spinner');\n",
              "      try {\n",
              "        const charts = await google.colab.kernel.invokeFunction(\n",
              "            'suggestCharts', [key], {});\n",
              "      } catch (error) {\n",
              "        console.error('Error during call to suggestCharts:', error);\n",
              "      }\n",
              "      quickchartButtonEl.classList.remove('colab-df-spinner');\n",
              "      quickchartButtonEl.classList.add('colab-df-quickchart-complete');\n",
              "    }\n",
              "    (() => {\n",
              "      let quickchartButtonEl =\n",
              "        document.querySelector('#df-ceade330-964a-4d61-892a-9f02bc55810b button');\n",
              "      quickchartButtonEl.style.display =\n",
              "        google.colab.kernel.accessAllowed ? 'block' : 'none';\n",
              "    })();\n",
              "  </script>\n",
              "</div>\n",
              "\n",
              "    </div>\n",
              "  </div>\n"
            ],
            "text/plain": [
              "      0  1       2  3     4  5          6    7    8  9   10  11  12\n",
              "0  75.0  0   582.0  0  20.0  1  265000.00  1.9  130  1  0.0   4   1\n",
              "1  55.0  0  7861.0  0  38.0  0  263358.03  1.1  136  1  0.0   6   1\n",
              "2  65.0  0   146.0  0  20.0  0  162000.00  1.3  129  1  1.0   7   1\n",
              "3  50.0  1   111.0  0  20.0  0  210000.00  1.9  137  1  0.0   7   1\n",
              "4  65.0  1   160.0  1   NaN  0  327000.00  2.7  116  0  0.0   8   1"
            ]
          },
          "execution_count": 3,
          "metadata": {},
          "output_type": "execute_result"
        }
      ],
      "source": [
        "# Baca dataset menggunakan library pandas dan masukkan ke sebuah variabel (misalnya df)\n",
        "df = pd.read_csv('/content/drive/MyDrive/Bengkod/LSP/heart_failure_clinical_records_dataset_missing_new.csv')\n",
        "\n",
        "# Tampilkan 5 data teratas dari dataset\n",
        "df.head()"
      ]
    },
    {
      "cell_type": "markdown",
      "metadata": {
        "id": "xP9lZuDKCJTK"
      },
      "source": [
        "> Terlihat bahwa kolom belum terdapat nama, sehingga dibutuhkan penamaan pada masing-masing kolom"
      ]
    },
    {
      "cell_type": "markdown",
      "metadata": {
        "id": "kHrXAPezCNEK"
      },
      "source": [
        "###Masukkan Nama Fitur ke Dataset"
      ]
    },
    {
      "cell_type": "code",
      "execution_count": null,
      "metadata": {
        "id": "CnPZAqrMdkO7"
      },
      "outputs": [],
      "source": [
        "cols =['age', 'anemia', 'creatinine_phosphokinase','diabetes','ejection_fraction','high_blood_pressure','platelets','serum_creatinine', 'serum_sodium', 'sex', 'smoking','time','death_event']\n",
        "\n",
        "# Mengganti nama kolom dataframe dengan cols\n",
        "df.columns = cols"
      ]
    },
    {
      "cell_type": "code",
      "execution_count": null,
      "metadata": {
        "colab": {
          "base_uri": "https://localhost:8080/",
          "height": 206
        },
        "id": "11A4zxD1dmmA",
        "outputId": "d37a1bc9-6269-4686-8224-72e90c616e02"
      },
      "outputs": [
        {
          "data": {
            "application/vnd.google.colaboratory.intrinsic+json": {
              "summary": "{\n  \"name\": \"df\",\n  \"rows\": 299,\n  \"fields\": [\n    {\n      \"column\": \"age\",\n      \"properties\": {\n        \"dtype\": \"number\",\n        \"std\": 12.09652529407865,\n        \"min\": 40.0,\n        \"max\": 95.0,\n        \"num_unique_values\": 46,\n        \"samples\": [\n          60.667,\n          42.0,\n          67.0\n        ],\n        \"semantic_type\": \"\",\n        \"description\": \"\"\n      }\n    },\n    {\n      \"column\": \"anemia\",\n      \"properties\": {\n        \"dtype\": \"number\",\n        \"std\": 0,\n        \"min\": 0,\n        \"max\": 1,\n        \"num_unique_values\": 2,\n        \"samples\": [\n          1,\n          0\n        ],\n        \"semantic_type\": \"\",\n        \"description\": \"\"\n      }\n    },\n    {\n      \"column\": \"creatinine_phosphokinase\",\n      \"properties\": {\n        \"dtype\": \"number\",\n        \"std\": 973.3489893923182,\n        \"min\": 23.0,\n        \"max\": 7861.0,\n        \"num_unique_values\": 200,\n        \"samples\": [\n          1082.0,\n          149.0\n        ],\n        \"semantic_type\": \"\",\n        \"description\": \"\"\n      }\n    },\n    {\n      \"column\": \"diabetes\",\n      \"properties\": {\n        \"dtype\": \"number\",\n        \"std\": 0,\n        \"min\": 0,\n        \"max\": 1,\n        \"num_unique_values\": 2,\n        \"samples\": [\n          1,\n          0\n        ],\n        \"semantic_type\": \"\",\n        \"description\": \"\"\n      }\n    },\n    {\n      \"column\": \"ejection_fraction\",\n      \"properties\": {\n        \"dtype\": \"number\",\n        \"std\": 11.77871973783191,\n        \"min\": 14.0,\n        \"max\": 80.0,\n        \"num_unique_values\": 17,\n        \"samples\": [\n          20.0,\n          38.0\n        ],\n        \"semantic_type\": \"\",\n        \"description\": \"\"\n      }\n    },\n    {\n      \"column\": \"high_blood_pressure\",\n      \"properties\": {\n        \"dtype\": \"number\",\n        \"std\": 0,\n        \"min\": 0,\n        \"max\": 1,\n        \"num_unique_values\": 2,\n        \"samples\": [\n          0,\n          1\n        ],\n        \"semantic_type\": \"\",\n        \"description\": \"\"\n      }\n    },\n    {\n      \"column\": \"platelets\",\n      \"properties\": {\n        \"dtype\": \"number\",\n        \"std\": 98953.72191170609,\n        \"min\": 25100.0,\n        \"max\": 850000.0,\n        \"num_unique_values\": 162,\n        \"samples\": [\n          179000.0,\n          224000.0\n        ],\n        \"semantic_type\": \"\",\n        \"description\": \"\"\n      }\n    },\n    {\n      \"column\": \"serum_creatinine\",\n      \"properties\": {\n        \"dtype\": \"number\",\n        \"std\": 1.034510064089853,\n        \"min\": 0.5,\n        \"max\": 9.4,\n        \"num_unique_values\": 40,\n        \"samples\": [\n          4.4,\n          3.5\n        ],\n        \"semantic_type\": \"\",\n        \"description\": \"\"\n      }\n    },\n    {\n      \"column\": \"serum_sodium\",\n      \"properties\": {\n        \"dtype\": \"number\",\n        \"std\": 4,\n        \"min\": 113,\n        \"max\": 148,\n        \"num_unique_values\": 27,\n        \"samples\": [\n          133,\n          134\n        ],\n        \"semantic_type\": \"\",\n        \"description\": \"\"\n      }\n    },\n    {\n      \"column\": \"sex\",\n      \"properties\": {\n        \"dtype\": \"number\",\n        \"std\": 0,\n        \"min\": 0,\n        \"max\": 1,\n        \"num_unique_values\": 2,\n        \"samples\": [\n          0,\n          1\n        ],\n        \"semantic_type\": \"\",\n        \"description\": \"\"\n      }\n    },\n    {\n      \"column\": \"smoking\",\n      \"properties\": {\n        \"dtype\": \"number\",\n        \"std\": 0.46871607375568786,\n        \"min\": 0.0,\n        \"max\": 1.0,\n        \"num_unique_values\": 2,\n        \"samples\": [\n          1.0,\n          0.0\n        ],\n        \"semantic_type\": \"\",\n        \"description\": \"\"\n      }\n    },\n    {\n      \"column\": \"time\",\n      \"properties\": {\n        \"dtype\": \"number\",\n        \"std\": 77,\n        \"min\": 4,\n        \"max\": 285,\n        \"num_unique_values\": 148,\n        \"samples\": [\n          215,\n          79\n        ],\n        \"semantic_type\": \"\",\n        \"description\": \"\"\n      }\n    },\n    {\n      \"column\": \"death_event\",\n      \"properties\": {\n        \"dtype\": \"number\",\n        \"std\": 0,\n        \"min\": 0,\n        \"max\": 1,\n        \"num_unique_values\": 2,\n        \"samples\": [\n          0,\n          1\n        ],\n        \"semantic_type\": \"\",\n        \"description\": \"\"\n      }\n    }\n  ]\n}",
              "type": "dataframe",
              "variable_name": "df"
            },
            "text/html": [
              "\n",
              "  <div id=\"df-6924b3c0-c724-4085-8d70-bf31cdf7428b\" class=\"colab-df-container\">\n",
              "    <div>\n",
              "<style scoped>\n",
              "    .dataframe tbody tr th:only-of-type {\n",
              "        vertical-align: middle;\n",
              "    }\n",
              "\n",
              "    .dataframe tbody tr th {\n",
              "        vertical-align: top;\n",
              "    }\n",
              "\n",
              "    .dataframe thead th {\n",
              "        text-align: right;\n",
              "    }\n",
              "</style>\n",
              "<table border=\"1\" class=\"dataframe\">\n",
              "  <thead>\n",
              "    <tr style=\"text-align: right;\">\n",
              "      <th></th>\n",
              "      <th>age</th>\n",
              "      <th>anemia</th>\n",
              "      <th>creatinine_phosphokinase</th>\n",
              "      <th>diabetes</th>\n",
              "      <th>ejection_fraction</th>\n",
              "      <th>high_blood_pressure</th>\n",
              "      <th>platelets</th>\n",
              "      <th>serum_creatinine</th>\n",
              "      <th>serum_sodium</th>\n",
              "      <th>sex</th>\n",
              "      <th>smoking</th>\n",
              "      <th>time</th>\n",
              "      <th>death_event</th>\n",
              "    </tr>\n",
              "  </thead>\n",
              "  <tbody>\n",
              "    <tr>\n",
              "      <th>0</th>\n",
              "      <td>75.0</td>\n",
              "      <td>0</td>\n",
              "      <td>582.0</td>\n",
              "      <td>0</td>\n",
              "      <td>20.0</td>\n",
              "      <td>1</td>\n",
              "      <td>265000.00</td>\n",
              "      <td>1.9</td>\n",
              "      <td>130</td>\n",
              "      <td>1</td>\n",
              "      <td>0.0</td>\n",
              "      <td>4</td>\n",
              "      <td>1</td>\n",
              "    </tr>\n",
              "    <tr>\n",
              "      <th>1</th>\n",
              "      <td>55.0</td>\n",
              "      <td>0</td>\n",
              "      <td>7861.0</td>\n",
              "      <td>0</td>\n",
              "      <td>38.0</td>\n",
              "      <td>0</td>\n",
              "      <td>263358.03</td>\n",
              "      <td>1.1</td>\n",
              "      <td>136</td>\n",
              "      <td>1</td>\n",
              "      <td>0.0</td>\n",
              "      <td>6</td>\n",
              "      <td>1</td>\n",
              "    </tr>\n",
              "    <tr>\n",
              "      <th>2</th>\n",
              "      <td>65.0</td>\n",
              "      <td>0</td>\n",
              "      <td>146.0</td>\n",
              "      <td>0</td>\n",
              "      <td>20.0</td>\n",
              "      <td>0</td>\n",
              "      <td>162000.00</td>\n",
              "      <td>1.3</td>\n",
              "      <td>129</td>\n",
              "      <td>1</td>\n",
              "      <td>1.0</td>\n",
              "      <td>7</td>\n",
              "      <td>1</td>\n",
              "    </tr>\n",
              "    <tr>\n",
              "      <th>3</th>\n",
              "      <td>50.0</td>\n",
              "      <td>1</td>\n",
              "      <td>111.0</td>\n",
              "      <td>0</td>\n",
              "      <td>20.0</td>\n",
              "      <td>0</td>\n",
              "      <td>210000.00</td>\n",
              "      <td>1.9</td>\n",
              "      <td>137</td>\n",
              "      <td>1</td>\n",
              "      <td>0.0</td>\n",
              "      <td>7</td>\n",
              "      <td>1</td>\n",
              "    </tr>\n",
              "    <tr>\n",
              "      <th>4</th>\n",
              "      <td>65.0</td>\n",
              "      <td>1</td>\n",
              "      <td>160.0</td>\n",
              "      <td>1</td>\n",
              "      <td>NaN</td>\n",
              "      <td>0</td>\n",
              "      <td>327000.00</td>\n",
              "      <td>2.7</td>\n",
              "      <td>116</td>\n",
              "      <td>0</td>\n",
              "      <td>0.0</td>\n",
              "      <td>8</td>\n",
              "      <td>1</td>\n",
              "    </tr>\n",
              "  </tbody>\n",
              "</table>\n",
              "</div>\n",
              "    <div class=\"colab-df-buttons\">\n",
              "\n",
              "  <div class=\"colab-df-container\">\n",
              "    <button class=\"colab-df-convert\" onclick=\"convertToInteractive('df-6924b3c0-c724-4085-8d70-bf31cdf7428b')\"\n",
              "            title=\"Convert this dataframe to an interactive table.\"\n",
              "            style=\"display:none;\">\n",
              "\n",
              "  <svg xmlns=\"http://www.w3.org/2000/svg\" height=\"24px\" viewBox=\"0 -960 960 960\">\n",
              "    <path d=\"M120-120v-720h720v720H120Zm60-500h600v-160H180v160Zm220 220h160v-160H400v160Zm0 220h160v-160H400v160ZM180-400h160v-160H180v160Zm440 0h160v-160H620v160ZM180-180h160v-160H180v160Zm440 0h160v-160H620v160Z\"/>\n",
              "  </svg>\n",
              "    </button>\n",
              "\n",
              "  <style>\n",
              "    .colab-df-container {\n",
              "      display:flex;\n",
              "      gap: 12px;\n",
              "    }\n",
              "\n",
              "    .colab-df-convert {\n",
              "      background-color: #E8F0FE;\n",
              "      border: none;\n",
              "      border-radius: 50%;\n",
              "      cursor: pointer;\n",
              "      display: none;\n",
              "      fill: #1967D2;\n",
              "      height: 32px;\n",
              "      padding: 0 0 0 0;\n",
              "      width: 32px;\n",
              "    }\n",
              "\n",
              "    .colab-df-convert:hover {\n",
              "      background-color: #E2EBFA;\n",
              "      box-shadow: 0px 1px 2px rgba(60, 64, 67, 0.3), 0px 1px 3px 1px rgba(60, 64, 67, 0.15);\n",
              "      fill: #174EA6;\n",
              "    }\n",
              "\n",
              "    .colab-df-buttons div {\n",
              "      margin-bottom: 4px;\n",
              "    }\n",
              "\n",
              "    [theme=dark] .colab-df-convert {\n",
              "      background-color: #3B4455;\n",
              "      fill: #D2E3FC;\n",
              "    }\n",
              "\n",
              "    [theme=dark] .colab-df-convert:hover {\n",
              "      background-color: #434B5C;\n",
              "      box-shadow: 0px 1px 3px 1px rgba(0, 0, 0, 0.15);\n",
              "      filter: drop-shadow(0px 1px 2px rgba(0, 0, 0, 0.3));\n",
              "      fill: #FFFFFF;\n",
              "    }\n",
              "  </style>\n",
              "\n",
              "    <script>\n",
              "      const buttonEl =\n",
              "        document.querySelector('#df-6924b3c0-c724-4085-8d70-bf31cdf7428b button.colab-df-convert');\n",
              "      buttonEl.style.display =\n",
              "        google.colab.kernel.accessAllowed ? 'block' : 'none';\n",
              "\n",
              "      async function convertToInteractive(key) {\n",
              "        const element = document.querySelector('#df-6924b3c0-c724-4085-8d70-bf31cdf7428b');\n",
              "        const dataTable =\n",
              "          await google.colab.kernel.invokeFunction('convertToInteractive',\n",
              "                                                    [key], {});\n",
              "        if (!dataTable) return;\n",
              "\n",
              "        const docLinkHtml = 'Like what you see? Visit the ' +\n",
              "          '<a target=\"_blank\" href=https://colab.research.google.com/notebooks/data_table.ipynb>data table notebook</a>'\n",
              "          + ' to learn more about interactive tables.';\n",
              "        element.innerHTML = '';\n",
              "        dataTable['output_type'] = 'display_data';\n",
              "        await google.colab.output.renderOutput(dataTable, element);\n",
              "        const docLink = document.createElement('div');\n",
              "        docLink.innerHTML = docLinkHtml;\n",
              "        element.appendChild(docLink);\n",
              "      }\n",
              "    </script>\n",
              "  </div>\n",
              "\n",
              "\n",
              "<div id=\"df-d9361c13-3c84-47fe-8432-1ee3d3e7129e\">\n",
              "  <button class=\"colab-df-quickchart\" onclick=\"quickchart('df-d9361c13-3c84-47fe-8432-1ee3d3e7129e')\"\n",
              "            title=\"Suggest charts\"\n",
              "            style=\"display:none;\">\n",
              "\n",
              "<svg xmlns=\"http://www.w3.org/2000/svg\" height=\"24px\"viewBox=\"0 0 24 24\"\n",
              "     width=\"24px\">\n",
              "    <g>\n",
              "        <path d=\"M19 3H5c-1.1 0-2 .9-2 2v14c0 1.1.9 2 2 2h14c1.1 0 2-.9 2-2V5c0-1.1-.9-2-2-2zM9 17H7v-7h2v7zm4 0h-2V7h2v10zm4 0h-2v-4h2v4z\"/>\n",
              "    </g>\n",
              "</svg>\n",
              "  </button>\n",
              "\n",
              "<style>\n",
              "  .colab-df-quickchart {\n",
              "      --bg-color: #E8F0FE;\n",
              "      --fill-color: #1967D2;\n",
              "      --hover-bg-color: #E2EBFA;\n",
              "      --hover-fill-color: #174EA6;\n",
              "      --disabled-fill-color: #AAA;\n",
              "      --disabled-bg-color: #DDD;\n",
              "  }\n",
              "\n",
              "  [theme=dark] .colab-df-quickchart {\n",
              "      --bg-color: #3B4455;\n",
              "      --fill-color: #D2E3FC;\n",
              "      --hover-bg-color: #434B5C;\n",
              "      --hover-fill-color: #FFFFFF;\n",
              "      --disabled-bg-color: #3B4455;\n",
              "      --disabled-fill-color: #666;\n",
              "  }\n",
              "\n",
              "  .colab-df-quickchart {\n",
              "    background-color: var(--bg-color);\n",
              "    border: none;\n",
              "    border-radius: 50%;\n",
              "    cursor: pointer;\n",
              "    display: none;\n",
              "    fill: var(--fill-color);\n",
              "    height: 32px;\n",
              "    padding: 0;\n",
              "    width: 32px;\n",
              "  }\n",
              "\n",
              "  .colab-df-quickchart:hover {\n",
              "    background-color: var(--hover-bg-color);\n",
              "    box-shadow: 0 1px 2px rgba(60, 64, 67, 0.3), 0 1px 3px 1px rgba(60, 64, 67, 0.15);\n",
              "    fill: var(--button-hover-fill-color);\n",
              "  }\n",
              "\n",
              "  .colab-df-quickchart-complete:disabled,\n",
              "  .colab-df-quickchart-complete:disabled:hover {\n",
              "    background-color: var(--disabled-bg-color);\n",
              "    fill: var(--disabled-fill-color);\n",
              "    box-shadow: none;\n",
              "  }\n",
              "\n",
              "  .colab-df-spinner {\n",
              "    border: 2px solid var(--fill-color);\n",
              "    border-color: transparent;\n",
              "    border-bottom-color: var(--fill-color);\n",
              "    animation:\n",
              "      spin 1s steps(1) infinite;\n",
              "  }\n",
              "\n",
              "  @keyframes spin {\n",
              "    0% {\n",
              "      border-color: transparent;\n",
              "      border-bottom-color: var(--fill-color);\n",
              "      border-left-color: var(--fill-color);\n",
              "    }\n",
              "    20% {\n",
              "      border-color: transparent;\n",
              "      border-left-color: var(--fill-color);\n",
              "      border-top-color: var(--fill-color);\n",
              "    }\n",
              "    30% {\n",
              "      border-color: transparent;\n",
              "      border-left-color: var(--fill-color);\n",
              "      border-top-color: var(--fill-color);\n",
              "      border-right-color: var(--fill-color);\n",
              "    }\n",
              "    40% {\n",
              "      border-color: transparent;\n",
              "      border-right-color: var(--fill-color);\n",
              "      border-top-color: var(--fill-color);\n",
              "    }\n",
              "    60% {\n",
              "      border-color: transparent;\n",
              "      border-right-color: var(--fill-color);\n",
              "    }\n",
              "    80% {\n",
              "      border-color: transparent;\n",
              "      border-right-color: var(--fill-color);\n",
              "      border-bottom-color: var(--fill-color);\n",
              "    }\n",
              "    90% {\n",
              "      border-color: transparent;\n",
              "      border-bottom-color: var(--fill-color);\n",
              "    }\n",
              "  }\n",
              "</style>\n",
              "\n",
              "  <script>\n",
              "    async function quickchart(key) {\n",
              "      const quickchartButtonEl =\n",
              "        document.querySelector('#' + key + ' button');\n",
              "      quickchartButtonEl.disabled = true;  // To prevent multiple clicks.\n",
              "      quickchartButtonEl.classList.add('colab-df-spinner');\n",
              "      try {\n",
              "        const charts = await google.colab.kernel.invokeFunction(\n",
              "            'suggestCharts', [key], {});\n",
              "      } catch (error) {\n",
              "        console.error('Error during call to suggestCharts:', error);\n",
              "      }\n",
              "      quickchartButtonEl.classList.remove('colab-df-spinner');\n",
              "      quickchartButtonEl.classList.add('colab-df-quickchart-complete');\n",
              "    }\n",
              "    (() => {\n",
              "      let quickchartButtonEl =\n",
              "        document.querySelector('#df-d9361c13-3c84-47fe-8432-1ee3d3e7129e button');\n",
              "      quickchartButtonEl.style.display =\n",
              "        google.colab.kernel.accessAllowed ? 'block' : 'none';\n",
              "    })();\n",
              "  </script>\n",
              "</div>\n",
              "\n",
              "    </div>\n",
              "  </div>\n"
            ],
            "text/plain": [
              "    age  anemia  creatinine_phosphokinase  diabetes  ejection_fraction  \\\n",
              "0  75.0       0                     582.0         0               20.0   \n",
              "1  55.0       0                    7861.0         0               38.0   \n",
              "2  65.0       0                     146.0         0               20.0   \n",
              "3  50.0       1                     111.0         0               20.0   \n",
              "4  65.0       1                     160.0         1                NaN   \n",
              "\n",
              "   high_blood_pressure  platelets  serum_creatinine  serum_sodium  sex  \\\n",
              "0                    1  265000.00               1.9           130    1   \n",
              "1                    0  263358.03               1.1           136    1   \n",
              "2                    0  162000.00               1.3           129    1   \n",
              "3                    0  210000.00               1.9           137    1   \n",
              "4                    0  327000.00               2.7           116    0   \n",
              "\n",
              "   smoking  time  death_event  \n",
              "0      0.0     4            1  \n",
              "1      0.0     6            1  \n",
              "2      1.0     7            1  \n",
              "3      0.0     7            1  \n",
              "4      0.0     8            1  "
            ]
          },
          "execution_count": 5,
          "metadata": {},
          "output_type": "execute_result"
        }
      ],
      "source": [
        "# Tampilkan data setelah nama kolom berhasil diganti.\n",
        "df.head()"
      ]
    },
    {
      "cell_type": "markdown",
      "metadata": {
        "id": "FBtaaWjLb-nP"
      },
      "source": [
        "## BAB 2 – (J.62DMI00.005.1) Menelaah data"
      ]
    },
    {
      "cell_type": "markdown",
      "metadata": {
        "id": "fYJVHKHuebMz"
      },
      "source": [
        "- Pada tahap ini, kita akan menelaah data yang ada pada dataset Heart Failure Prediction. Kita akan melihat informasi data, statistik deskriptif, dan distribusi data."
      ]
    },
    {
      "cell_type": "markdown",
      "metadata": {
        "id": "PHzs5bTMCb5d"
      },
      "source": [
        "###Melihat Informasi Dataset"
      ]
    },
    {
      "cell_type": "code",
      "execution_count": null,
      "metadata": {
        "colab": {
          "base_uri": "https://localhost:8080/"
        },
        "id": "PVdRI88Mj6Ji",
        "outputId": "d02ca069-7860-4d46-e5fc-88903222e517"
      },
      "outputs": [
        {
          "name": "stdout",
          "output_type": "stream",
          "text": [
            "<class 'pandas.core.frame.DataFrame'>\n",
            "RangeIndex: 299 entries, 0 to 298\n",
            "Data columns (total 13 columns):\n",
            " #   Column                    Non-Null Count  Dtype  \n",
            "---  ------                    --------------  -----  \n",
            " 0   age                       269 non-null    float64\n",
            " 1   anemia                    299 non-null    int64  \n",
            " 2   creatinine_phosphokinase  284 non-null    float64\n",
            " 3   diabetes                  299 non-null    int64  \n",
            " 4   ejection_fraction         296 non-null    float64\n",
            " 5   high_blood_pressure       299 non-null    int64  \n",
            " 6   platelets                 269 non-null    float64\n",
            " 7   serum_creatinine          299 non-null    float64\n",
            " 8   serum_sodium              299 non-null    int64  \n",
            " 9   sex                       299 non-null    int64  \n",
            " 10  smoking                   275 non-null    float64\n",
            " 11  time                      299 non-null    int64  \n",
            " 12  death_event               299 non-null    int64  \n",
            "dtypes: float64(6), int64(7)\n",
            "memory usage: 30.5 KB\n"
          ]
        }
      ],
      "source": [
        "# Melihat Informasi Dataset\n",
        "df.info()"
      ]
    },
    {
      "cell_type": "markdown",
      "metadata": {
        "id": "JfVfDEQOChBz"
      },
      "source": [
        "> Dari informasi dataset di atas, terlihat beberapa hal antara lain:\n",
        "- Terdapat perbedaan jumlah data Non-Null yang mengidentifikasikan adanya beberapa missing value\n",
        "- Seluruh data bertipe numerik"
      ]
    },
    {
      "cell_type": "markdown",
      "metadata": {
        "id": "DyN84GCsDuBT"
      },
      "source": [
        "###Memeriksa Deskripsi Statistik Dataset"
      ]
    },
    {
      "cell_type": "code",
      "execution_count": null,
      "metadata": {
        "colab": {
          "base_uri": "https://localhost:8080/",
          "height": 300
        },
        "id": "LxENhQrfj8p2",
        "outputId": "53d88e50-6a7b-4d99-f8b0-d7591ba5c3b3"
      },
      "outputs": [
        {
          "data": {
            "application/vnd.google.colaboratory.intrinsic+json": {
              "summary": "{\n  \"name\": \"df\",\n  \"rows\": 8,\n  \"fields\": [\n    {\n      \"column\": \"age\",\n      \"properties\": {\n        \"dtype\": \"number\",\n        \"std\": 79.11612185204272,\n        \"min\": 12.09652529407865,\n        \"max\": 269.0,\n        \"num_unique_values\": 8,\n        \"samples\": [\n          61.057003717472114,\n          60.0,\n          269.0\n        ],\n        \"semantic_type\": \"\",\n        \"description\": \"\"\n      }\n    },\n    {\n      \"column\": \"anemia\",\n      \"properties\": {\n        \"dtype\": \"number\",\n        \"std\": 105.56541771928569,\n        \"min\": 0.0,\n        \"max\": 299.0,\n        \"num_unique_values\": 5,\n        \"samples\": [\n          0.431438127090301,\n          1.0,\n          0.49610726813307915\n        ],\n        \"semantic_type\": \"\",\n        \"description\": \"\"\n      }\n    },\n    {\n      \"column\": \"creatinine_phosphokinase\",\n      \"properties\": {\n        \"dtype\": \"number\",\n        \"std\": 2655.675107241598,\n        \"min\": 23.0,\n        \"max\": 7861.0,\n        \"num_unique_values\": 8,\n        \"samples\": [\n          570.9471830985915,\n          247.0,\n          284.0\n        ],\n        \"semantic_type\": \"\",\n        \"description\": \"\"\n      }\n    },\n    {\n      \"column\": \"diabetes\",\n      \"properties\": {\n        \"dtype\": \"number\",\n        \"std\": 105.56619609300547,\n        \"min\": 0.0,\n        \"max\": 299.0,\n        \"num_unique_values\": 5,\n        \"samples\": [\n          0.4180602006688963,\n          1.0,\n          0.49406706510360887\n        ],\n        \"semantic_type\": \"\",\n        \"description\": \"\"\n      }\n    },\n    {\n      \"column\": \"ejection_fraction\",\n      \"properties\": {\n        \"dtype\": \"number\",\n        \"std\": 94.08522769537313,\n        \"min\": 11.77871973783191,\n        \"max\": 296.0,\n        \"num_unique_values\": 8,\n        \"samples\": [\n          38.064189189189186,\n          38.0,\n          296.0\n        ],\n        \"semantic_type\": \"\",\n        \"description\": \"\"\n      }\n    },\n    {\n      \"column\": \"high_blood_pressure\",\n      \"properties\": {\n        \"dtype\": \"number\",\n        \"std\": 105.57037978700328,\n        \"min\": 0.0,\n        \"max\": 299.0,\n        \"num_unique_values\": 5,\n        \"samples\": [\n          0.3511705685618729,\n          1.0,\n          0.4781363790627452\n        ],\n        \"semantic_type\": \"\",\n        \"description\": \"\"\n      }\n    },\n    {\n      \"column\": \"platelets\",\n      \"properties\": {\n        \"dtype\": \"number\",\n        \"std\": 267325.5935497645,\n        \"min\": 269.0,\n        \"max\": 850000.0,\n        \"num_unique_values\": 8,\n        \"samples\": [\n          261182.34479553904,\n          262000.0,\n          269.0\n        ],\n        \"semantic_type\": \"\",\n        \"description\": \"\"\n      }\n    },\n    {\n      \"column\": \"serum_creatinine\",\n      \"properties\": {\n        \"dtype\": \"number\",\n        \"std\": 104.95907923971718,\n        \"min\": 0.5,\n        \"max\": 299.0,\n        \"num_unique_values\": 8,\n        \"samples\": [\n          1.3938795986622072,\n          1.1,\n          299.0\n        ],\n        \"semantic_type\": \"\",\n        \"description\": \"\"\n      }\n    },\n    {\n      \"column\": \"serum_sodium\",\n      \"properties\": {\n        \"dtype\": \"number\",\n        \"std\": 79.73746182740307,\n        \"min\": 4.412477283909233,\n        \"max\": 299.0,\n        \"num_unique_values\": 8,\n        \"samples\": [\n          136.62541806020067,\n          137.0,\n          299.0\n        ],\n        \"semantic_type\": \"\",\n        \"description\": \"\"\n      }\n    },\n    {\n      \"column\": \"sex\",\n      \"properties\": {\n        \"dtype\": \"number\",\n        \"std\": 105.50484411278607,\n        \"min\": 0.0,\n        \"max\": 299.0,\n        \"num_unique_values\": 5,\n        \"samples\": [\n          0.6488294314381271,\n          1.0,\n          0.47813637906274487\n        ],\n        \"semantic_type\": \"\",\n        \"description\": \"\"\n      }\n    },\n    {\n      \"column\": \"smoking\",\n      \"properties\": {\n        \"dtype\": \"number\",\n        \"std\": 97.08703793957704,\n        \"min\": 0.0,\n        \"max\": 275.0,\n        \"num_unique_values\": 5,\n        \"samples\": [\n          0.3236363636363636,\n          1.0,\n          0.46871607375568786\n        ],\n        \"semantic_type\": \"\",\n        \"description\": \"\"\n      }\n    },\n    {\n      \"column\": \"time\",\n      \"properties\": {\n        \"dtype\": \"number\",\n        \"std\": 105.09370187205508,\n        \"min\": 4.0,\n        \"max\": 299.0,\n        \"num_unique_values\": 8,\n        \"samples\": [\n          130.2608695652174,\n          115.0,\n          299.0\n        ],\n        \"semantic_type\": \"\",\n        \"description\": \"\"\n      }\n    },\n    {\n      \"column\": \"death_event\",\n      \"properties\": {\n        \"dtype\": \"number\",\n        \"std\": 105.57243031811801,\n        \"min\": 0.0,\n        \"max\": 299.0,\n        \"num_unique_values\": 5,\n        \"samples\": [\n          0.3210702341137124,\n          1.0,\n          0.4676704280567721\n        ],\n        \"semantic_type\": \"\",\n        \"description\": \"\"\n      }\n    }\n  ]\n}",
              "type": "dataframe"
            },
            "text/html": [
              "\n",
              "  <div id=\"df-bf55c880-8d9a-4af1-a703-da2e8693bfbc\" class=\"colab-df-container\">\n",
              "    <div>\n",
              "<style scoped>\n",
              "    .dataframe tbody tr th:only-of-type {\n",
              "        vertical-align: middle;\n",
              "    }\n",
              "\n",
              "    .dataframe tbody tr th {\n",
              "        vertical-align: top;\n",
              "    }\n",
              "\n",
              "    .dataframe thead th {\n",
              "        text-align: right;\n",
              "    }\n",
              "</style>\n",
              "<table border=\"1\" class=\"dataframe\">\n",
              "  <thead>\n",
              "    <tr style=\"text-align: right;\">\n",
              "      <th></th>\n",
              "      <th>age</th>\n",
              "      <th>anemia</th>\n",
              "      <th>creatinine_phosphokinase</th>\n",
              "      <th>diabetes</th>\n",
              "      <th>ejection_fraction</th>\n",
              "      <th>high_blood_pressure</th>\n",
              "      <th>platelets</th>\n",
              "      <th>serum_creatinine</th>\n",
              "      <th>serum_sodium</th>\n",
              "      <th>sex</th>\n",
              "      <th>smoking</th>\n",
              "      <th>time</th>\n",
              "      <th>death_event</th>\n",
              "    </tr>\n",
              "  </thead>\n",
              "  <tbody>\n",
              "    <tr>\n",
              "      <th>count</th>\n",
              "      <td>269.000000</td>\n",
              "      <td>299.000000</td>\n",
              "      <td>284.000000</td>\n",
              "      <td>299.000000</td>\n",
              "      <td>296.000000</td>\n",
              "      <td>299.000000</td>\n",
              "      <td>269.000000</td>\n",
              "      <td>299.00000</td>\n",
              "      <td>299.000000</td>\n",
              "      <td>299.000000</td>\n",
              "      <td>275.000000</td>\n",
              "      <td>299.000000</td>\n",
              "      <td>299.00000</td>\n",
              "    </tr>\n",
              "    <tr>\n",
              "      <th>mean</th>\n",
              "      <td>61.057004</td>\n",
              "      <td>0.431438</td>\n",
              "      <td>570.947183</td>\n",
              "      <td>0.418060</td>\n",
              "      <td>38.064189</td>\n",
              "      <td>0.351171</td>\n",
              "      <td>261182.344796</td>\n",
              "      <td>1.39388</td>\n",
              "      <td>136.625418</td>\n",
              "      <td>0.648829</td>\n",
              "      <td>0.323636</td>\n",
              "      <td>130.260870</td>\n",
              "      <td>0.32107</td>\n",
              "    </tr>\n",
              "    <tr>\n",
              "      <th>std</th>\n",
              "      <td>12.096525</td>\n",
              "      <td>0.496107</td>\n",
              "      <td>973.348989</td>\n",
              "      <td>0.494067</td>\n",
              "      <td>11.778720</td>\n",
              "      <td>0.478136</td>\n",
              "      <td>98953.721912</td>\n",
              "      <td>1.03451</td>\n",
              "      <td>4.412477</td>\n",
              "      <td>0.478136</td>\n",
              "      <td>0.468716</td>\n",
              "      <td>77.614208</td>\n",
              "      <td>0.46767</td>\n",
              "    </tr>\n",
              "    <tr>\n",
              "      <th>min</th>\n",
              "      <td>40.000000</td>\n",
              "      <td>0.000000</td>\n",
              "      <td>23.000000</td>\n",
              "      <td>0.000000</td>\n",
              "      <td>14.000000</td>\n",
              "      <td>0.000000</td>\n",
              "      <td>25100.000000</td>\n",
              "      <td>0.50000</td>\n",
              "      <td>113.000000</td>\n",
              "      <td>0.000000</td>\n",
              "      <td>0.000000</td>\n",
              "      <td>4.000000</td>\n",
              "      <td>0.00000</td>\n",
              "    </tr>\n",
              "    <tr>\n",
              "      <th>25%</th>\n",
              "      <td>51.000000</td>\n",
              "      <td>0.000000</td>\n",
              "      <td>115.000000</td>\n",
              "      <td>0.000000</td>\n",
              "      <td>30.000000</td>\n",
              "      <td>0.000000</td>\n",
              "      <td>211000.000000</td>\n",
              "      <td>0.90000</td>\n",
              "      <td>134.000000</td>\n",
              "      <td>0.000000</td>\n",
              "      <td>0.000000</td>\n",
              "      <td>73.000000</td>\n",
              "      <td>0.00000</td>\n",
              "    </tr>\n",
              "    <tr>\n",
              "      <th>50%</th>\n",
              "      <td>60.000000</td>\n",
              "      <td>0.000000</td>\n",
              "      <td>247.000000</td>\n",
              "      <td>0.000000</td>\n",
              "      <td>38.000000</td>\n",
              "      <td>0.000000</td>\n",
              "      <td>262000.000000</td>\n",
              "      <td>1.10000</td>\n",
              "      <td>137.000000</td>\n",
              "      <td>1.000000</td>\n",
              "      <td>0.000000</td>\n",
              "      <td>115.000000</td>\n",
              "      <td>0.00000</td>\n",
              "    </tr>\n",
              "    <tr>\n",
              "      <th>75%</th>\n",
              "      <td>70.000000</td>\n",
              "      <td>1.000000</td>\n",
              "      <td>582.000000</td>\n",
              "      <td>1.000000</td>\n",
              "      <td>45.000000</td>\n",
              "      <td>1.000000</td>\n",
              "      <td>302000.000000</td>\n",
              "      <td>1.40000</td>\n",
              "      <td>140.000000</td>\n",
              "      <td>1.000000</td>\n",
              "      <td>1.000000</td>\n",
              "      <td>203.000000</td>\n",
              "      <td>1.00000</td>\n",
              "    </tr>\n",
              "    <tr>\n",
              "      <th>max</th>\n",
              "      <td>95.000000</td>\n",
              "      <td>1.000000</td>\n",
              "      <td>7861.000000</td>\n",
              "      <td>1.000000</td>\n",
              "      <td>80.000000</td>\n",
              "      <td>1.000000</td>\n",
              "      <td>850000.000000</td>\n",
              "      <td>9.40000</td>\n",
              "      <td>148.000000</td>\n",
              "      <td>1.000000</td>\n",
              "      <td>1.000000</td>\n",
              "      <td>285.000000</td>\n",
              "      <td>1.00000</td>\n",
              "    </tr>\n",
              "  </tbody>\n",
              "</table>\n",
              "</div>\n",
              "    <div class=\"colab-df-buttons\">\n",
              "\n",
              "  <div class=\"colab-df-container\">\n",
              "    <button class=\"colab-df-convert\" onclick=\"convertToInteractive('df-bf55c880-8d9a-4af1-a703-da2e8693bfbc')\"\n",
              "            title=\"Convert this dataframe to an interactive table.\"\n",
              "            style=\"display:none;\">\n",
              "\n",
              "  <svg xmlns=\"http://www.w3.org/2000/svg\" height=\"24px\" viewBox=\"0 -960 960 960\">\n",
              "    <path d=\"M120-120v-720h720v720H120Zm60-500h600v-160H180v160Zm220 220h160v-160H400v160Zm0 220h160v-160H400v160ZM180-400h160v-160H180v160Zm440 0h160v-160H620v160ZM180-180h160v-160H180v160Zm440 0h160v-160H620v160Z\"/>\n",
              "  </svg>\n",
              "    </button>\n",
              "\n",
              "  <style>\n",
              "    .colab-df-container {\n",
              "      display:flex;\n",
              "      gap: 12px;\n",
              "    }\n",
              "\n",
              "    .colab-df-convert {\n",
              "      background-color: #E8F0FE;\n",
              "      border: none;\n",
              "      border-radius: 50%;\n",
              "      cursor: pointer;\n",
              "      display: none;\n",
              "      fill: #1967D2;\n",
              "      height: 32px;\n",
              "      padding: 0 0 0 0;\n",
              "      width: 32px;\n",
              "    }\n",
              "\n",
              "    .colab-df-convert:hover {\n",
              "      background-color: #E2EBFA;\n",
              "      box-shadow: 0px 1px 2px rgba(60, 64, 67, 0.3), 0px 1px 3px 1px rgba(60, 64, 67, 0.15);\n",
              "      fill: #174EA6;\n",
              "    }\n",
              "\n",
              "    .colab-df-buttons div {\n",
              "      margin-bottom: 4px;\n",
              "    }\n",
              "\n",
              "    [theme=dark] .colab-df-convert {\n",
              "      background-color: #3B4455;\n",
              "      fill: #D2E3FC;\n",
              "    }\n",
              "\n",
              "    [theme=dark] .colab-df-convert:hover {\n",
              "      background-color: #434B5C;\n",
              "      box-shadow: 0px 1px 3px 1px rgba(0, 0, 0, 0.15);\n",
              "      filter: drop-shadow(0px 1px 2px rgba(0, 0, 0, 0.3));\n",
              "      fill: #FFFFFF;\n",
              "    }\n",
              "  </style>\n",
              "\n",
              "    <script>\n",
              "      const buttonEl =\n",
              "        document.querySelector('#df-bf55c880-8d9a-4af1-a703-da2e8693bfbc button.colab-df-convert');\n",
              "      buttonEl.style.display =\n",
              "        google.colab.kernel.accessAllowed ? 'block' : 'none';\n",
              "\n",
              "      async function convertToInteractive(key) {\n",
              "        const element = document.querySelector('#df-bf55c880-8d9a-4af1-a703-da2e8693bfbc');\n",
              "        const dataTable =\n",
              "          await google.colab.kernel.invokeFunction('convertToInteractive',\n",
              "                                                    [key], {});\n",
              "        if (!dataTable) return;\n",
              "\n",
              "        const docLinkHtml = 'Like what you see? Visit the ' +\n",
              "          '<a target=\"_blank\" href=https://colab.research.google.com/notebooks/data_table.ipynb>data table notebook</a>'\n",
              "          + ' to learn more about interactive tables.';\n",
              "        element.innerHTML = '';\n",
              "        dataTable['output_type'] = 'display_data';\n",
              "        await google.colab.output.renderOutput(dataTable, element);\n",
              "        const docLink = document.createElement('div');\n",
              "        docLink.innerHTML = docLinkHtml;\n",
              "        element.appendChild(docLink);\n",
              "      }\n",
              "    </script>\n",
              "  </div>\n",
              "\n",
              "\n",
              "<div id=\"df-f45097c9-7b6e-4f30-8f04-dd6186cba931\">\n",
              "  <button class=\"colab-df-quickchart\" onclick=\"quickchart('df-f45097c9-7b6e-4f30-8f04-dd6186cba931')\"\n",
              "            title=\"Suggest charts\"\n",
              "            style=\"display:none;\">\n",
              "\n",
              "<svg xmlns=\"http://www.w3.org/2000/svg\" height=\"24px\"viewBox=\"0 0 24 24\"\n",
              "     width=\"24px\">\n",
              "    <g>\n",
              "        <path d=\"M19 3H5c-1.1 0-2 .9-2 2v14c0 1.1.9 2 2 2h14c1.1 0 2-.9 2-2V5c0-1.1-.9-2-2-2zM9 17H7v-7h2v7zm4 0h-2V7h2v10zm4 0h-2v-4h2v4z\"/>\n",
              "    </g>\n",
              "</svg>\n",
              "  </button>\n",
              "\n",
              "<style>\n",
              "  .colab-df-quickchart {\n",
              "      --bg-color: #E8F0FE;\n",
              "      --fill-color: #1967D2;\n",
              "      --hover-bg-color: #E2EBFA;\n",
              "      --hover-fill-color: #174EA6;\n",
              "      --disabled-fill-color: #AAA;\n",
              "      --disabled-bg-color: #DDD;\n",
              "  }\n",
              "\n",
              "  [theme=dark] .colab-df-quickchart {\n",
              "      --bg-color: #3B4455;\n",
              "      --fill-color: #D2E3FC;\n",
              "      --hover-bg-color: #434B5C;\n",
              "      --hover-fill-color: #FFFFFF;\n",
              "      --disabled-bg-color: #3B4455;\n",
              "      --disabled-fill-color: #666;\n",
              "  }\n",
              "\n",
              "  .colab-df-quickchart {\n",
              "    background-color: var(--bg-color);\n",
              "    border: none;\n",
              "    border-radius: 50%;\n",
              "    cursor: pointer;\n",
              "    display: none;\n",
              "    fill: var(--fill-color);\n",
              "    height: 32px;\n",
              "    padding: 0;\n",
              "    width: 32px;\n",
              "  }\n",
              "\n",
              "  .colab-df-quickchart:hover {\n",
              "    background-color: var(--hover-bg-color);\n",
              "    box-shadow: 0 1px 2px rgba(60, 64, 67, 0.3), 0 1px 3px 1px rgba(60, 64, 67, 0.15);\n",
              "    fill: var(--button-hover-fill-color);\n",
              "  }\n",
              "\n",
              "  .colab-df-quickchart-complete:disabled,\n",
              "  .colab-df-quickchart-complete:disabled:hover {\n",
              "    background-color: var(--disabled-bg-color);\n",
              "    fill: var(--disabled-fill-color);\n",
              "    box-shadow: none;\n",
              "  }\n",
              "\n",
              "  .colab-df-spinner {\n",
              "    border: 2px solid var(--fill-color);\n",
              "    border-color: transparent;\n",
              "    border-bottom-color: var(--fill-color);\n",
              "    animation:\n",
              "      spin 1s steps(1) infinite;\n",
              "  }\n",
              "\n",
              "  @keyframes spin {\n",
              "    0% {\n",
              "      border-color: transparent;\n",
              "      border-bottom-color: var(--fill-color);\n",
              "      border-left-color: var(--fill-color);\n",
              "    }\n",
              "    20% {\n",
              "      border-color: transparent;\n",
              "      border-left-color: var(--fill-color);\n",
              "      border-top-color: var(--fill-color);\n",
              "    }\n",
              "    30% {\n",
              "      border-color: transparent;\n",
              "      border-left-color: var(--fill-color);\n",
              "      border-top-color: var(--fill-color);\n",
              "      border-right-color: var(--fill-color);\n",
              "    }\n",
              "    40% {\n",
              "      border-color: transparent;\n",
              "      border-right-color: var(--fill-color);\n",
              "      border-top-color: var(--fill-color);\n",
              "    }\n",
              "    60% {\n",
              "      border-color: transparent;\n",
              "      border-right-color: var(--fill-color);\n",
              "    }\n",
              "    80% {\n",
              "      border-color: transparent;\n",
              "      border-right-color: var(--fill-color);\n",
              "      border-bottom-color: var(--fill-color);\n",
              "    }\n",
              "    90% {\n",
              "      border-color: transparent;\n",
              "      border-bottom-color: var(--fill-color);\n",
              "    }\n",
              "  }\n",
              "</style>\n",
              "\n",
              "  <script>\n",
              "    async function quickchart(key) {\n",
              "      const quickchartButtonEl =\n",
              "        document.querySelector('#' + key + ' button');\n",
              "      quickchartButtonEl.disabled = true;  // To prevent multiple clicks.\n",
              "      quickchartButtonEl.classList.add('colab-df-spinner');\n",
              "      try {\n",
              "        const charts = await google.colab.kernel.invokeFunction(\n",
              "            'suggestCharts', [key], {});\n",
              "      } catch (error) {\n",
              "        console.error('Error during call to suggestCharts:', error);\n",
              "      }\n",
              "      quickchartButtonEl.classList.remove('colab-df-spinner');\n",
              "      quickchartButtonEl.classList.add('colab-df-quickchart-complete');\n",
              "    }\n",
              "    (() => {\n",
              "      let quickchartButtonEl =\n",
              "        document.querySelector('#df-f45097c9-7b6e-4f30-8f04-dd6186cba931 button');\n",
              "      quickchartButtonEl.style.display =\n",
              "        google.colab.kernel.accessAllowed ? 'block' : 'none';\n",
              "    })();\n",
              "  </script>\n",
              "</div>\n",
              "\n",
              "    </div>\n",
              "  </div>\n"
            ],
            "text/plain": [
              "              age      anemia  creatinine_phosphokinase    diabetes  \\\n",
              "count  269.000000  299.000000                284.000000  299.000000   \n",
              "mean    61.057004    0.431438                570.947183    0.418060   \n",
              "std     12.096525    0.496107                973.348989    0.494067   \n",
              "min     40.000000    0.000000                 23.000000    0.000000   \n",
              "25%     51.000000    0.000000                115.000000    0.000000   \n",
              "50%     60.000000    0.000000                247.000000    0.000000   \n",
              "75%     70.000000    1.000000                582.000000    1.000000   \n",
              "max     95.000000    1.000000               7861.000000    1.000000   \n",
              "\n",
              "       ejection_fraction  high_blood_pressure      platelets  \\\n",
              "count         296.000000           299.000000     269.000000   \n",
              "mean           38.064189             0.351171  261182.344796   \n",
              "std            11.778720             0.478136   98953.721912   \n",
              "min            14.000000             0.000000   25100.000000   \n",
              "25%            30.000000             0.000000  211000.000000   \n",
              "50%            38.000000             0.000000  262000.000000   \n",
              "75%            45.000000             1.000000  302000.000000   \n",
              "max            80.000000             1.000000  850000.000000   \n",
              "\n",
              "       serum_creatinine  serum_sodium         sex     smoking        time  \\\n",
              "count         299.00000    299.000000  299.000000  275.000000  299.000000   \n",
              "mean            1.39388    136.625418    0.648829    0.323636  130.260870   \n",
              "std             1.03451      4.412477    0.478136    0.468716   77.614208   \n",
              "min             0.50000    113.000000    0.000000    0.000000    4.000000   \n",
              "25%             0.90000    134.000000    0.000000    0.000000   73.000000   \n",
              "50%             1.10000    137.000000    1.000000    0.000000  115.000000   \n",
              "75%             1.40000    140.000000    1.000000    1.000000  203.000000   \n",
              "max             9.40000    148.000000    1.000000    1.000000  285.000000   \n",
              "\n",
              "       death_event  \n",
              "count    299.00000  \n",
              "mean       0.32107  \n",
              "std        0.46767  \n",
              "min        0.00000  \n",
              "25%        0.00000  \n",
              "50%        0.00000  \n",
              "75%        1.00000  \n",
              "max        1.00000  "
            ]
          },
          "execution_count": 7,
          "metadata": {},
          "output_type": "execute_result"
        }
      ],
      "source": [
        "# Melihat Deskripsi statistik\n",
        "df.describe()"
      ]
    },
    {
      "cell_type": "markdown",
      "metadata": {
        "id": "FPzpBQLLFXcq"
      },
      "source": [
        "###Memeriksa Nilai Unik"
      ]
    },
    {
      "cell_type": "code",
      "execution_count": null,
      "metadata": {
        "colab": {
          "base_uri": "https://localhost:8080/"
        },
        "id": "SyF677edFc5a",
        "outputId": "738e6b43-ca12-4aa3-8cc7-6f6abc1b3da0"
      },
      "outputs": [
        {
          "name": "stdout",
          "output_type": "stream",
          "text": [
            "Unique values in column 'age':\n",
            "[75.    55.    65.    50.    90.    60.       nan 80.    62.    45.\n",
            " 49.    82.    87.    70.    48.    68.    53.    95.    58.    94.\n",
            " 85.    69.    72.    51.    57.    41.    42.    67.    79.    59.\n",
            " 44.    63.    86.    43.    46.    61.    81.    52.    64.    40.\n",
            " 60.667 77.    78.    54.    73.    47.    56.   ]\n",
            "\n",
            "Unique values in column 'anemia':\n",
            "[0 1]\n",
            "\n",
            "Unique values in column 'creatinine_phosphokinase':\n",
            "[ 582. 7861.  146.  111.  160.   47.  246.   nan  157.  123.   81.  231.\n",
            "  981.  168.   80.  379.  149.  125.   52.  128.   63.  148.  112.  122.\n",
            "   60.   70.   23.  249.  159.   94.  855. 2656.  235.  124.  571.  127.\n",
            "  588. 1380.  553.  129.  577.   91. 3964.   69.  260.  371.   75.  789.\n",
            "  364. 7702.  318.  109.   68.  110.  161.  113. 5882.  224.   92.  102.\n",
            "  203.  336.   76.   55.  280.   78.   84.  115.   66.  897.  154.  144.\n",
            "  133.  514.   59.  156.   61.  305.  898. 5209.   53.  328. 1876.  936.\n",
            "  292.  369.  143.  754.  400.   96.  737.  358.  200.  248.  270. 1808.\n",
            " 1082.  719.  193. 4540.  646.  281. 1548.  805.  291.  482.  943.  185.\n",
            "  132. 1610.  233.   30. 1846.  335.   58.  250.  910.   72.  130. 2334.\n",
            " 2442.  776.  196.  835. 3966.  171.  198.   95. 1419.  478.  176.  395.\n",
            "   99.  145.  104. 1896.  151.  244.   62.  121.  418.  167. 1211. 1767.\n",
            "  308.   97.   64.  101.  212. 2281.  972.  131. 1202.  427. 1021.  118.\n",
            "   86.  675.   57. 2794.   56.  211.  166.   93.  119.  232.  720.  180.\n",
            "   90. 1185. 2017.  624.  207.  572.  245.   88.  446.  191.  326.  655.\n",
            "  258.  298. 1199.  135.  213.  257.  618. 1051. 1688.   54.  170.  253.\n",
            "  892.  337.  615.  320.  190.  103. 1820. 2060. 2413.]\n",
            "\n",
            "Unique values in column 'diabetes':\n",
            "[0 1]\n",
            "\n",
            "Unique values in column 'ejection_fraction':\n",
            "[20. 38. nan 40. 15. 60. 65. 35. 25. 30. 50. 14. 55. 45. 62. 80. 17. 70.]\n",
            "\n",
            "Unique values in column 'high_blood_pressure':\n",
            "[1 0]\n",
            "\n",
            "Unique values in column 'platelets':\n",
            "[265000.   263358.03 162000.   210000.   327000.   204000.   127000.\n",
            " 454000.   388000.   368000.         nan 136000.   276000.   427000.\n",
            "  47000.   262000.   166000.   237000.    87000.   297000.   289000.\n",
            " 149000.   196000.   284000.   200000.   360000.   228000.   321000.\n",
            " 305000.   329000.   153000.   185000.   218000.   194000.   310000.\n",
            " 271000.   451000.   140000.   395000.   351000.   255000.   461000.\n",
            " 223000.   216000.   319000.   254000.   390000.   385000.   119000.\n",
            " 274000.   244000.   497000.   374000.   122000.   243000.   266000.\n",
            " 317000.   283000.   324000.   293000.   172000.   302000.   406000.\n",
            " 173000.   304000.   235000.   181000.   249000.   219000.   318000.\n",
            " 221000.   298000.   226000.   286000.   621000.   263000.   850000.\n",
            " 306000.   252000.   164000.   507000.   217000.   300000.   267000.\n",
            " 227000.   250000.   231000.   211000.   348000.   229000.   338000.\n",
            " 242000.   277000.   362000.   174000.   448000.    75000.   334000.\n",
            " 192000.   220000.    70000.   325000.   176000.   189000.   281000.\n",
            " 337000.   105000.   132000.   279000.   303000.   224000.   365000.\n",
            " 201000.   275000.   309000.   260000.   160000.   126000.   259000.\n",
            "  73000.   377000.   212000.   186000.   389000.   147000.   481000.\n",
            " 290000.   358000.   151000.   371000.   130000.   504000.   141000.\n",
            "  62000.   330000.   248000.   257000.   533000.   264000.   314000.\n",
            " 246000.   301000.   236000.   294000.   233000.   203000.   198000.\n",
            " 208000.   133000.   222000.   215000.   150000.   422000.    25100.\n",
            " 232000.   241000.    51000.   336000.   382000.   179000.   155000.\n",
            " 270000.   742000.  ]\n",
            "\n",
            "Unique values in column 'serum_creatinine':\n",
            "[1.9  1.1  1.3  2.7  2.1  1.2  1.5  9.4  4.   0.9  1.   0.8  1.6  1.83\n",
            " 5.8  3.   3.5  2.3  0.6  4.4  1.4  6.8  2.2  2.   1.18 2.9  0.7  1.7\n",
            " 2.5  1.8  3.2  0.75 3.7  3.4  6.1  2.4  9.   5.   0.5  3.8 ]\n",
            "\n",
            "Unique values in column 'serum_sodium':\n",
            "[130 136 129 137 116 132 131 138 133 140 127 121 135 134 144 128 145 142\n",
            " 139 146 141 143 126 124 113 125 148]\n",
            "\n",
            "Unique values in column 'sex':\n",
            "[1 0]\n",
            "\n",
            "Unique values in column 'smoking':\n",
            "[ 0.  1. nan]\n",
            "\n",
            "Unique values in column 'time':\n",
            "[  4   6   7   8  10  11  12  13  14  15  16  20  22  23  24  26  27  28\n",
            "  29  30  31  32  33  35  38  40  41  42  43  44  45  50  54  55  59  60\n",
            "  61  63  64  65  66  67  68  71  72  73  74  75  76  77  78  79  80  82\n",
            "  83  85  86  87  88  90  91  94  95  96  97 100 104 105 106 107 108 109\n",
            " 110 111 112 113 115 117 118 119 120 121 123 126 129 130 134 135 140 145\n",
            " 146 147 148 150 154 162 170 171 172 174 175 180 185 186 187 188 192 193\n",
            " 194 195 196 197 198 200 201 205 206 207 208 209 210 211 212 213 214 215\n",
            " 216 220 230 231 233 235 237 240 241 244 245 246 247 250 256 257 258 270\n",
            " 271 278 280 285]\n",
            "\n",
            "Unique values in column 'death_event':\n",
            "[1 0]\n",
            "\n"
          ]
        }
      ],
      "source": [
        "# Melihat data unik pada masing-masing kolom\n",
        "for col in df.columns:\n",
        "    print(f\"Unique values in column '{col}':\")\n",
        "    print(df[col].unique())\n",
        "    print()"
      ]
    },
    {
      "cell_type": "markdown",
      "metadata": {
        "id": "ABEJskUgGpub"
      },
      "source": [
        "> Setelah melihat deskripsi mengenai masing-masing kolom dataset yang terdapat pada soal dan melihat nilai unik di atas, dapat diperoleh kesimpulan antara lain:\n",
        "*   Terdapat beberapa kolom yang bertipe kategorikal antara lain: anemia, diabetes, high_blood_pressure, sex, smoking, dan death_event\n",
        "*   Terdapat beberapa kolom yang bertipe numerik antara lain: age, creatinine_phosphokinase, ejection_fraction, platelets, serum_creatinine, serum_sodium, dan time\n",
        "\n",
        "\n"
      ]
    },
    {
      "cell_type": "markdown",
      "metadata": {
        "id": "OxV0fHhY75Am"
      },
      "source": [
        "### Nominal Feature"
      ]
    },
    {
      "cell_type": "code",
      "execution_count": null,
      "metadata": {
        "colab": {
          "base_uri": "https://localhost:8080/",
          "height": 1000
        },
        "id": "_GoG3m8JeHkf",
        "outputId": "3f6a768d-cabe-4348-81dd-fe76ed5c51d0"
      },
      "outputs": [
        {
          "data": {
            "image/png": "[encoded data removed]",
            "text/plain": [
              "<Figure size 500x300 with 1 Axes>"
            ]
          },
          "metadata": {},
          "output_type": "display_data"
        },
        {
          "data": {
            "image/png": "[encoded data removed]",
            "text/plain": [
              "<Figure size 500x300 with 1 Axes>"
            ]
          },
          "metadata": {},
          "output_type": "display_data"
        },
        {
          "data": {
            "image/png": "[encoded data removed]",
            "text/plain": [
              "<Figure size 500x300 with 1 Axes>"
            ]
          },
          "metadata": {},
          "output_type": "display_data"
        },
        {
          "data": {
            "image/png": "[encoded data removed]",
            "text/plain": [
              "<Figure size 500x300 with 1 Axes>"
            ]
          },
          "metadata": {},
          "output_type": "display_data"
        },
        {
          "data": {
            "image/png": "[encoded data removed]",
            "text/plain": [
              "<Figure size 500x300 with 1 Axes>"
            ]
          },
          "metadata": {},
          "output_type": "display_data"
        },
        {
          "data": {
            "image/png": "[encoded data removed]",
            "text/plain": [
              "<Figure size 500x300 with 1 Axes>"
            ]
          },
          "metadata": {},
          "output_type": "display_data"
        }
      ],
      "source": [
        "# Visualisasikan fitur nominal / kategorikal misal (menggunakan countplot)\n",
        "categorical_cols = ['anemia', 'diabetes', 'high_blood_pressure', 'sex', 'smoking', 'death_event']\n",
        "for col in categorical_cols:\n",
        "    plt.figure(figsize=(5, 3))\n",
        "\n",
        "    ax = sns.countplot(data=df, x=col, hue=col, palette='Set2', legend=False)\n",
        "    plt.title(f'Distribusi kelas {col}')\n",
        "\n",
        "    plt.show()"
      ]
    },
    {
      "cell_type": "markdown",
      "metadata": {
        "id": "CJFXAG3J7-D6"
      },
      "source": [
        "### Continous features"
      ]
    },
    {
      "cell_type": "code",
      "execution_count": null,
      "metadata": {
        "colab": {
          "base_uri": "https://localhost:8080/",
          "height": 1000
        },
        "id": "vLcARCtveZpb",
        "outputId": "b9c0f024-fd01-478d-93a2-8b9a09084565"
      },
      "outputs": [
        {
          "data": {
            "image/png": "[encoded data removed]",
            "text/plain": [
              "<Figure size 500x300 with 1 Axes>"
            ]
          },
          "metadata": {},
          "output_type": "display_data"
        },
        {
          "data": {
            "image/png": "[encoded data removed]",
            "text/plain": [
              "<Figure size 500x300 with 1 Axes>"
            ]
          },
          "metadata": {},
          "output_type": "display_data"
        },
        {
          "data": {
            "image/png": "[encoded data removed]",
            "text/plain": [
              "<Figure size 500x300 with 1 Axes>"
            ]
          },
          "metadata": {},
          "output_type": "display_data"
        },
        {
          "data": {
            "image/png": "[encoded data removed]",
            "text/plain": [
              "<Figure size 500x300 with 1 Axes>"
            ]
          },
          "metadata": {},
          "output_type": "display_data"
        },
        {
          "data": {
            "image/png": "[encoded data removed]",
            "text/plain": [
              "<Figure size 500x300 with 1 Axes>"
            ]
          },
          "metadata": {},
          "output_type": "display_data"
        },
        {
          "data": {
            "image/png": "[encoded data removed]",
            "text/plain": [
              "<Figure size 500x300 with 1 Axes>"
            ]
          },
          "metadata": {},
          "output_type": "display_data"
        },
        {
          "data": {
            "image/png": "[encoded data removed]",
            "text/plain": [
              "<Figure size 500x300 with 1 Axes>"
            ]
          },
          "metadata": {},
          "output_type": "display_data"
        }
      ],
      "source": [
        "# Visualisasikan fitur numerik continous (misal : histplot)\n",
        "numerical_cols = ['age', 'creatinine_phosphokinase', 'ejection_fraction', 'platelets', 'serum_creatinine', 'serum_sodium', 'time']\n",
        "for col in numerical_cols:\n",
        "    plt.figure(figsize=(5, 3))\n",
        "    ax = sns.histplot(data=df, x=col, kde=True, color='#5F9EA0')"
      ]
    },
    {
      "cell_type": "markdown",
      "metadata": {
        "id": "HlepCGhNervb"
      },
      "source": [
        "## BAB 3 – (J.62DMI00.006.1) memvalidasi data"
      ]
    },
    {
      "cell_type": "markdown",
      "metadata": {
        "id": "ioJcLfRXYAG9"
      },
      "source": [
        "- Pada tahap ini, kita akan mengecek apakah terdapat data yang hilang atau tidak, terdapat duplikat atau tidak, dan apakah terdapat data yang tidak konsisten (bisa melakukan pengecekan nilai unik)"
      ]
    },
    {
      "cell_type": "markdown",
      "metadata": {
        "id": "jzX9sHsvNbor"
      },
      "source": [
        "###Memeriksa Missing Value"
      ]
    },
    {
      "cell_type": "code",
      "execution_count": null,
      "metadata": {
        "colab": {
          "base_uri": "https://localhost:8080/",
          "height": 492
        },
        "id": "bTkwAPXZjhwX",
        "outputId": "b61dca07-63f2-418c-a123-624a14b80511"
      },
      "outputs": [
        {
          "data": {
            "text/html": [
              "<div>\n",
              "<style scoped>\n",
              "    .dataframe tbody tr th:only-of-type {\n",
              "        vertical-align: middle;\n",
              "    }\n",
              "\n",
              "    .dataframe tbody tr th {\n",
              "        vertical-align: top;\n",
              "    }\n",
              "\n",
              "    .dataframe thead th {\n",
              "        text-align: right;\n",
              "    }\n",
              "</style>\n",
              "<table border=\"1\" class=\"dataframe\">\n",
              "  <thead>\n",
              "    <tr style=\"text-align: right;\">\n",
              "      <th></th>\n",
              "      <th>0</th>\n",
              "    </tr>\n",
              "  </thead>\n",
              "  <tbody>\n",
              "    <tr>\n",
              "      <th>age</th>\n",
              "      <td>30</td>\n",
              "    </tr>\n",
              "    <tr>\n",
              "      <th>anemia</th>\n",
              "      <td>0</td>\n",
              "    </tr>\n",
              "    <tr>\n",
              "      <th>creatinine_phosphokinase</th>\n",
              "      <td>15</td>\n",
              "    </tr>\n",
              "    <tr>\n",
              "      <th>diabetes</th>\n",
              "      <td>0</td>\n",
              "    </tr>\n",
              "    <tr>\n",
              "      <th>ejection_fraction</th>\n",
              "      <td>3</td>\n",
              "    </tr>\n",
              "    <tr>\n",
              "      <th>high_blood_pressure</th>\n",
              "      <td>0</td>\n",
              "    </tr>\n",
              "    <tr>\n",
              "      <th>platelets</th>\n",
              "      <td>30</td>\n",
              "    </tr>\n",
              "    <tr>\n",
              "      <th>serum_creatinine</th>\n",
              "      <td>0</td>\n",
              "    </tr>\n",
              "    <tr>\n",
              "      <th>serum_sodium</th>\n",
              "      <td>0</td>\n",
              "    </tr>\n",
              "    <tr>\n",
              "      <th>sex</th>\n",
              "      <td>0</td>\n",
              "    </tr>\n",
              "    <tr>\n",
              "      <th>smoking</th>\n",
              "      <td>24</td>\n",
              "    </tr>\n",
              "    <tr>\n",
              "      <th>time</th>\n",
              "      <td>0</td>\n",
              "    </tr>\n",
              "    <tr>\n",
              "      <th>death_event</th>\n",
              "      <td>0</td>\n",
              "    </tr>\n",
              "  </tbody>\n",
              "</table>\n",
              "</div><br><label><b>dtype:</b> int64</label>"
            ],
            "text/plain": [
              "age                         30\n",
              "anemia                       0\n",
              "creatinine_phosphokinase    15\n",
              "diabetes                     0\n",
              "ejection_fraction            3\n",
              "high_blood_pressure          0\n",
              "platelets                   30\n",
              "serum_creatinine             0\n",
              "serum_sodium                 0\n",
              "sex                          0\n",
              "smoking                     24\n",
              "time                         0\n",
              "death_event                  0\n",
              "dtype: int64"
            ]
          },
          "execution_count": 11,
          "metadata": {},
          "output_type": "execute_result"
        }
      ],
      "source": [
        "# Melihat Nilai null / missing value\n",
        "df.isnull().sum()"
      ]
    },
    {
      "cell_type": "markdown",
      "metadata": {
        "id": "qEBUbkClNn7B"
      },
      "source": [
        "> Terlihat data kosong pada kolom age, creatinine_phosphokinase, ejection_fraction, platelets, dan smoking sehingga dibutuhkan handling missing value"
      ]
    },
    {
      "cell_type": "markdown",
      "metadata": {
        "id": "57kJCpKTN0gE"
      },
      "source": [
        "###Memeriksa Data Duplikat"
      ]
    },
    {
      "cell_type": "code",
      "execution_count": null,
      "metadata": {
        "colab": {
          "base_uri": "https://localhost:8080/"
        },
        "id": "uxjhiIESjlFk",
        "outputId": "55c3dce1-cd58-43b9-e683-80bbe76f631f"
      },
      "outputs": [
        {
          "data": {
            "text/plain": [
              "0"
            ]
          },
          "execution_count": 12,
          "metadata": {},
          "output_type": "execute_result"
        }
      ],
      "source": [
        "# Melihat Data duplikat\n",
        "df.duplicated().sum()"
      ]
    },
    {
      "cell_type": "markdown",
      "metadata": {
        "id": "D5J_EKz8N9oy"
      },
      "source": [
        "> Terlihat bahwa tidak ditemukan data terduplikasi"
      ]
    },
    {
      "cell_type": "markdown",
      "metadata": {
        "id": "nARM0Pl9OL8b"
      },
      "source": [
        "###Memeriksa Data yang Tidak Konsisten"
      ]
    },
    {
      "cell_type": "code",
      "execution_count": null,
      "metadata": {
        "colab": {
          "base_uri": "https://localhost:8080/"
        },
        "id": "Wwf8Qme6jxuL",
        "outputId": "466f9a7a-9cc5-4165-a693-6d03032e12de"
      },
      "outputs": [
        {
          "name": "stdout",
          "output_type": "stream",
          "text": [
            "Unique values in column 'age':\n",
            "[75.    55.    65.    50.    90.    60.       nan 80.    62.    45.\n",
            " 49.    82.    87.    70.    48.    68.    53.    95.    58.    94.\n",
            " 85.    69.    72.    51.    57.    41.    42.    67.    79.    59.\n",
            " 44.    63.    86.    43.    46.    61.    81.    52.    64.    40.\n",
            " 60.667 77.    78.    54.    73.    47.    56.   ]\n",
            "\n",
            "Unique values in column 'anemia':\n",
            "[0 1]\n",
            "\n",
            "Unique values in column 'creatinine_phosphokinase':\n",
            "[ 582. 7861.  146.  111.  160.   47.  246.   nan  157.  123.   81.  231.\n",
            "  981.  168.   80.  379.  149.  125.   52.  128.   63.  148.  112.  122.\n",
            "   60.   70.   23.  249.  159.   94.  855. 2656.  235.  124.  571.  127.\n",
            "  588. 1380.  553.  129.  577.   91. 3964.   69.  260.  371.   75.  789.\n",
            "  364. 7702.  318.  109.   68.  110.  161.  113. 5882.  224.   92.  102.\n",
            "  203.  336.   76.   55.  280.   78.   84.  115.   66.  897.  154.  144.\n",
            "  133.  514.   59.  156.   61.  305.  898. 5209.   53.  328. 1876.  936.\n",
            "  292.  369.  143.  754.  400.   96.  737.  358.  200.  248.  270. 1808.\n",
            " 1082.  719.  193. 4540.  646.  281. 1548.  805.  291.  482.  943.  185.\n",
            "  132. 1610.  233.   30. 1846.  335.   58.  250.  910.   72.  130. 2334.\n",
            " 2442.  776.  196.  835. 3966.  171.  198.   95. 1419.  478.  176.  395.\n",
            "   99.  145.  104. 1896.  151.  244.   62.  121.  418.  167. 1211. 1767.\n",
            "  308.   97.   64.  101.  212. 2281.  972.  131. 1202.  427. 1021.  118.\n",
            "   86.  675.   57. 2794.   56.  211.  166.   93.  119.  232.  720.  180.\n",
            "   90. 1185. 2017.  624.  207.  572.  245.   88.  446.  191.  326.  655.\n",
            "  258.  298. 1199.  135.  213.  257.  618. 1051. 1688.   54.  170.  253.\n",
            "  892.  337.  615.  320.  190.  103. 1820. 2060. 2413.]\n",
            "\n",
            "Unique values in column 'diabetes':\n",
            "[0 1]\n",
            "\n",
            "Unique values in column 'ejection_fraction':\n",
            "[20. 38. nan 40. 15. 60. 65. 35. 25. 30. 50. 14. 55. 45. 62. 80. 17. 70.]\n",
            "\n",
            "Unique values in column 'high_blood_pressure':\n",
            "[1 0]\n",
            "\n",
            "Unique values in column 'platelets':\n",
            "[265000.   263358.03 162000.   210000.   327000.   204000.   127000.\n",
            " 454000.   388000.   368000.         nan 136000.   276000.   427000.\n",
            "  47000.   262000.   166000.   237000.    87000.   297000.   289000.\n",
            " 149000.   196000.   284000.   200000.   360000.   228000.   321000.\n",
            " 305000.   329000.   153000.   185000.   218000.   194000.   310000.\n",
            " 271000.   451000.   140000.   395000.   351000.   255000.   461000.\n",
            " 223000.   216000.   319000.   254000.   390000.   385000.   119000.\n",
            " 274000.   244000.   497000.   374000.   122000.   243000.   266000.\n",
            " 317000.   283000.   324000.   293000.   172000.   302000.   406000.\n",
            " 173000.   304000.   235000.   181000.   249000.   219000.   318000.\n",
            " 221000.   298000.   226000.   286000.   621000.   263000.   850000.\n",
            " 306000.   252000.   164000.   507000.   217000.   300000.   267000.\n",
            " 227000.   250000.   231000.   211000.   348000.   229000.   338000.\n",
            " 242000.   277000.   362000.   174000.   448000.    75000.   334000.\n",
            " 192000.   220000.    70000.   325000.   176000.   189000.   281000.\n",
            " 337000.   105000.   132000.   279000.   303000.   224000.   365000.\n",
            " 201000.   275000.   309000.   260000.   160000.   126000.   259000.\n",
            "  73000.   377000.   212000.   186000.   389000.   147000.   481000.\n",
            " 290000.   358000.   151000.   371000.   130000.   504000.   141000.\n",
            "  62000.   330000.   248000.   257000.   533000.   264000.   314000.\n",
            " 246000.   301000.   236000.   294000.   233000.   203000.   198000.\n",
            " 208000.   133000.   222000.   215000.   150000.   422000.    25100.\n",
            " 232000.   241000.    51000.   336000.   382000.   179000.   155000.\n",
            " 270000.   742000.  ]\n",
            "\n",
            "Unique values in column 'serum_creatinine':\n",
            "[1.9  1.1  1.3  2.7  2.1  1.2  1.5  9.4  4.   0.9  1.   0.8  1.6  1.83\n",
            " 5.8  3.   3.5  2.3  0.6  4.4  1.4  6.8  2.2  2.   1.18 2.9  0.7  1.7\n",
            " 2.5  1.8  3.2  0.75 3.7  3.4  6.1  2.4  9.   5.   0.5  3.8 ]\n",
            "\n",
            "Unique values in column 'serum_sodium':\n",
            "[130 136 129 137 116 132 131 138 133 140 127 121 135 134 144 128 145 142\n",
            " 139 146 141 143 126 124 113 125 148]\n",
            "\n",
            "Unique values in column 'sex':\n",
            "[1 0]\n",
            "\n",
            "Unique values in column 'smoking':\n",
            "[ 0.  1. nan]\n",
            "\n",
            "Unique values in column 'time':\n",
            "[  4   6   7   8  10  11  12  13  14  15  16  20  22  23  24  26  27  28\n",
            "  29  30  31  32  33  35  38  40  41  42  43  44  45  50  54  55  59  60\n",
            "  61  63  64  65  66  67  68  71  72  73  74  75  76  77  78  79  80  82\n",
            "  83  85  86  87  88  90  91  94  95  96  97 100 104 105 106 107 108 109\n",
            " 110 111 112 113 115 117 118 119 120 121 123 126 129 130 134 135 140 145\n",
            " 146 147 148 150 154 162 170 171 172 174 175 180 185 186 187 188 192 193\n",
            " 194 195 196 197 198 200 201 205 206 207 208 209 210 211 212 213 214 215\n",
            " 216 220 230 231 233 235 237 240 241 244 245 246 247 250 256 257 258 270\n",
            " 271 278 280 285]\n",
            "\n",
            "Unique values in column 'death_event':\n",
            "[1 0]\n",
            "\n"
          ]
        }
      ],
      "source": [
        "# Melihat Data yang tidak konsisten\n",
        "for col in df.columns:\n",
        "    print(f\"Unique values in column '{col}':\")\n",
        "    print(df[col].unique())\n",
        "    print()"
      ]
    },
    {
      "cell_type": "markdown",
      "metadata": {
        "id": "ogHQnqabOd8E"
      },
      "source": [
        "> Dari nilai unik dataset di atas, tidak ditemukan data yang tidak konsisten sehingga tidak diperluhan handling konsistensi data\n",
        "\n"
      ]
    },
    {
      "cell_type": "markdown",
      "metadata": {
        "id": "43FQZUVxfQw9"
      },
      "source": [
        "## BAB 4 – (J.62DMI00.007.1) menentukan object data"
      ]
    },
    {
      "cell_type": "markdown",
      "metadata": {
        "id": "DG6RzyFpfL3R"
      },
      "source": [
        "**WAJIB DIISI**,\n",
        "\n",
        "ADA BERAPA FITUR: '12'\n",
        "\n",
        "ADA BERAPA RECORDS: '299'\n",
        "\n",
        "ADA BERAPA FITUR YANG TIDAK DIGUNAKAN: '0'\n",
        "\n",
        "TARGETNYA APA: 'death_event'\n",
        "\n",
        "ADA BERAPA MODEL DATAFRAME YANG HARUS DIBUAT?: '4'\n",
        "\n",
        ">Pada soal, diberikan perintah untuk membandingkan antara model yang menggunakan hanya 2 fitur dan model yang menggunakan seluruh fitur. Untuk mendukung perbandingan tersebut, maka saya mengisi bahwa fitur yang dibutuhkan berjumlah 12 dan tidak ada fitur yang tidak digunakan"
      ]
    },
    {
      "cell_type": "markdown",
      "metadata": {
        "id": "pZEb9tkIQQIF"
      },
      "source": [
        "###Melihat Informasi Dataset"
      ]
    },
    {
      "cell_type": "code",
      "execution_count": null,
      "metadata": {
        "colab": {
          "base_uri": "https://localhost:8080/"
        },
        "id": "H-oavbaJkI0l",
        "outputId": "c6382f74-4fb8-44dc-b641-3302c80a1c61"
      },
      "outputs": [
        {
          "name": "stdout",
          "output_type": "stream",
          "text": [
            "<class 'pandas.core.frame.DataFrame'>\n",
            "RangeIndex: 299 entries, 0 to 298\n",
            "Data columns (total 13 columns):\n",
            " #   Column                    Non-Null Count  Dtype  \n",
            "---  ------                    --------------  -----  \n",
            " 0   age                       269 non-null    float64\n",
            " 1   anemia                    299 non-null    int64  \n",
            " 2   creatinine_phosphokinase  284 non-null    float64\n",
            " 3   diabetes                  299 non-null    int64  \n",
            " 4   ejection_fraction         296 non-null    float64\n",
            " 5   high_blood_pressure       299 non-null    int64  \n",
            " 6   platelets                 269 non-null    float64\n",
            " 7   serum_creatinine          299 non-null    float64\n",
            " 8   serum_sodium              299 non-null    int64  \n",
            " 9   sex                       299 non-null    int64  \n",
            " 10  smoking                   275 non-null    float64\n",
            " 11  time                      299 non-null    int64  \n",
            " 12  death_event               299 non-null    int64  \n",
            "dtypes: float64(6), int64(7)\n",
            "memory usage: 30.5 KB\n"
          ]
        }
      ],
      "source": [
        "# Melihat kembali informasi dataset untuk memahami isi dan tipe data\n",
        "df.info()"
      ]
    },
    {
      "cell_type": "markdown",
      "metadata": {
        "id": "8D7_uzOsfvTV"
      },
      "source": [
        "- Jika ada data yang tidak konsisten, silahkan di tangani pada proses dibawah ini."
      ]
    },
    {
      "cell_type": "code",
      "execution_count": null,
      "metadata": {
        "id": "j8m_TUzefc70"
      },
      "outputs": [],
      "source": [
        "# jika terdapat data yang tidak konsisten"
      ]
    },
    {
      "cell_type": "markdown",
      "metadata": {
        "id": "zmiF6XLWYUIE"
      },
      "source": [
        "> Tidak ditemukan data yang tidak konsisten sehingga tidak diperlukan penanganan data tidak konsisten"
      ]
    },
    {
      "cell_type": "markdown",
      "metadata": {
        "id": "rntdlgQ5QinL"
      },
      "source": [
        "###Menghapus Fitur yang Tidak Diperlukan"
      ]
    },
    {
      "cell_type": "markdown",
      "metadata": {
        "id": "GXijZ0Eqf7iG"
      },
      "source": [
        "- Jika ada fitur yang tidak berguna, bisa dihapus pada cell dibawah ini"
      ]
    },
    {
      "cell_type": "code",
      "execution_count": null,
      "metadata": {
        "id": "ujOI8QvLgB55"
      },
      "outputs": [],
      "source": [
        "# jika terdapar fitur yang tidak berguna"
      ]
    },
    {
      "cell_type": "markdown",
      "metadata": {
        "id": "T-4qH_3ZYd4M"
      },
      "source": [
        "> Tidak ditemukan fitur yang tidak berguna sehingga tidak diperlukan penghapusan fitur yang tidak berguna"
      ]
    },
    {
      "cell_type": "markdown",
      "metadata": {
        "id": "nIDQTlnegLrR"
      },
      "source": [
        "## BAB 5 – (J.62DMI00.008.1) membersihkan data\n",
        "- **ANDA TIDAK PERLU MELAKUKAN OUTLIER REMOVAL** NAMUN HANDLE JIKA TERDAPAT DATA YANG KOSONG (TIDAK DIREKOMENDASIKAN MENGHAPUS), HANDLE JIKA ADA DUPLIKAT"
      ]
    },
    {
      "cell_type": "markdown",
      "metadata": {
        "id": "aBWPBPUQQ-1V"
      },
      "source": [
        "###Handle Data Kosong"
      ]
    },
    {
      "cell_type": "code",
      "execution_count": null,
      "metadata": {
        "colab": {
          "base_uri": "https://localhost:8080/",
          "height": 492
        },
        "id": "Mlvuo1mSgE2D",
        "outputId": "d7f9e4d2-b1d6-47f5-899b-7f11d0a2b0b5"
      },
      "outputs": [
        {
          "data": {
            "text/html": [
              "<div>\n",
              "<style scoped>\n",
              "    .dataframe tbody tr th:only-of-type {\n",
              "        vertical-align: middle;\n",
              "    }\n",
              "\n",
              "    .dataframe tbody tr th {\n",
              "        vertical-align: top;\n",
              "    }\n",
              "\n",
              "    .dataframe thead th {\n",
              "        text-align: right;\n",
              "    }\n",
              "</style>\n",
              "<table border=\"1\" class=\"dataframe\">\n",
              "  <thead>\n",
              "    <tr style=\"text-align: right;\">\n",
              "      <th></th>\n",
              "      <th>0</th>\n",
              "    </tr>\n",
              "  </thead>\n",
              "  <tbody>\n",
              "    <tr>\n",
              "      <th>age</th>\n",
              "      <td>30</td>\n",
              "    </tr>\n",
              "    <tr>\n",
              "      <th>anemia</th>\n",
              "      <td>0</td>\n",
              "    </tr>\n",
              "    <tr>\n",
              "      <th>creatinine_phosphokinase</th>\n",
              "      <td>15</td>\n",
              "    </tr>\n",
              "    <tr>\n",
              "      <th>diabetes</th>\n",
              "      <td>0</td>\n",
              "    </tr>\n",
              "    <tr>\n",
              "      <th>ejection_fraction</th>\n",
              "      <td>3</td>\n",
              "    </tr>\n",
              "    <tr>\n",
              "      <th>high_blood_pressure</th>\n",
              "      <td>0</td>\n",
              "    </tr>\n",
              "    <tr>\n",
              "      <th>platelets</th>\n",
              "      <td>30</td>\n",
              "    </tr>\n",
              "    <tr>\n",
              "      <th>serum_creatinine</th>\n",
              "      <td>0</td>\n",
              "    </tr>\n",
              "    <tr>\n",
              "      <th>serum_sodium</th>\n",
              "      <td>0</td>\n",
              "    </tr>\n",
              "    <tr>\n",
              "      <th>sex</th>\n",
              "      <td>0</td>\n",
              "    </tr>\n",
              "    <tr>\n",
              "      <th>smoking</th>\n",
              "      <td>24</td>\n",
              "    </tr>\n",
              "    <tr>\n",
              "      <th>time</th>\n",
              "      <td>0</td>\n",
              "    </tr>\n",
              "    <tr>\n",
              "      <th>death_event</th>\n",
              "      <td>0</td>\n",
              "    </tr>\n",
              "  </tbody>\n",
              "</table>\n",
              "</div><br><label><b>dtype:</b> int64</label>"
            ],
            "text/plain": [
              "age                         30\n",
              "anemia                       0\n",
              "creatinine_phosphokinase    15\n",
              "diabetes                     0\n",
              "ejection_fraction            3\n",
              "high_blood_pressure          0\n",
              "platelets                   30\n",
              "serum_creatinine             0\n",
              "serum_sodium                 0\n",
              "sex                          0\n",
              "smoking                     24\n",
              "time                         0\n",
              "death_event                  0\n",
              "dtype: int64"
            ]
          },
          "execution_count": 17,
          "metadata": {},
          "output_type": "execute_result"
        }
      ],
      "source": [
        "# Memastikan kembali untuk melihat data kosong\n",
        "df.isnull().sum()"
      ]
    },
    {
      "cell_type": "markdown",
      "metadata": {
        "id": "bSpZeQPHYuE0"
      },
      "source": [
        "> Terdapat missing value pada kolom age, creatinine_phosphokinase, ejection_fraction, platelets, dan smoking sehingga dibutuhkan handling missing value\n",
        "\n",
        "> Handling Missing Value dilakukan dengan menggunakan nilai mean pada data numerik dan nilai modus pada data kategorikal"
      ]
    },
    {
      "cell_type": "code",
      "execution_count": null,
      "metadata": {
        "colab": {
          "base_uri": "https://localhost:8080/"
        },
        "id": "ga4eJHV0RT-F",
        "outputId": "8f3f2807-a6da-4350-f8e7-3986a06e4678"
      },
      "outputs": [
        {
          "name": "stderr",
          "output_type": "stream",
          "text": [
            "<ipython-input-18-cf4782717f1f>:3: FutureWarning: A value is trying to be set on a copy of a DataFrame or Series through chained assignment using an inplace method.\n",
            "The behavior will change in pandas 3.0. This inplace method will never work because the intermediate object on which we are setting values always behaves as a copy.\n",
            "\n",
            "For example, when doing 'df[col].method(value, inplace=True)', try using 'df.method({col: value}, inplace=True)' or df[col] = df[col].method(value) instead, to perform the operation inplace on the original object.\n",
            "\n",
            "\n",
            "  df['age'].fillna(df['age'].mean(), inplace=True)\n",
            "<ipython-input-18-cf4782717f1f>:4: FutureWarning: A value is trying to be set on a copy of a DataFrame or Series through chained assignment using an inplace method.\n",
            "The behavior will change in pandas 3.0. This inplace method will never work because the intermediate object on which we are setting values always behaves as a copy.\n",
            "\n",
            "For example, when doing 'df[col].method(value, inplace=True)', try using 'df.method({col: value}, inplace=True)' or df[col] = df[col].method(value) instead, to perform the operation inplace on the original object.\n",
            "\n",
            "\n",
            "  df['creatinine_phosphokinase'].fillna(df['creatinine_phosphokinase'].mean(), inplace=True)\n",
            "<ipython-input-18-cf4782717f1f>:5: FutureWarning: A value is trying to be set on a copy of a DataFrame or Series through chained assignment using an inplace method.\n",
            "The behavior will change in pandas 3.0. This inplace method will never work because the intermediate object on which we are setting values always behaves as a copy.\n",
            "\n",
            "For example, when doing 'df[col].method(value, inplace=True)', try using 'df.method({col: value}, inplace=True)' or df[col] = df[col].method(value) instead, to perform the operation inplace on the original object.\n",
            "\n",
            "\n",
            "  df['ejection_fraction'].fillna(df['ejection_fraction'].mean(), inplace=True)\n",
            "<ipython-input-18-cf4782717f1f>:6: FutureWarning: A value is trying to be set on a copy of a DataFrame or Series through chained assignment using an inplace method.\n",
            "The behavior will change in pandas 3.0. This inplace method will never work because the intermediate object on which we are setting values always behaves as a copy.\n",
            "\n",
            "For example, when doing 'df[col].method(value, inplace=True)', try using 'df.method({col: value}, inplace=True)' or df[col] = df[col].method(value) instead, to perform the operation inplace on the original object.\n",
            "\n",
            "\n",
            "  df['platelets'].fillna(df['platelets'].mean(), inplace=True)\n",
            "<ipython-input-18-cf4782717f1f>:9: FutureWarning: A value is trying to be set on a copy of a DataFrame or Series through chained assignment using an inplace method.\n",
            "The behavior will change in pandas 3.0. This inplace method will never work because the intermediate object on which we are setting values always behaves as a copy.\n",
            "\n",
            "For example, when doing 'df[col].method(value, inplace=True)', try using 'df.method({col: value}, inplace=True)' or df[col] = df[col].method(value) instead, to perform the operation inplace on the original object.\n",
            "\n",
            "\n",
            "  df['smoking'].fillna(df['smoking'].mode()[0], inplace=True)\n"
          ]
        }
      ],
      "source": [
        "# Proses handle missing value\n",
        "# Mengisi missing value dengan menggunakan nilai mean pada data numerik\n",
        "df['age'].fillna(df['age'].mean(), inplace=True)\n",
        "df['creatinine_phosphokinase'].fillna(df['creatinine_phosphokinase'].mean(), inplace=True)\n",
        "df['ejection_fraction'].fillna(df['ejection_fraction'].mean(), inplace=True)\n",
        "df['platelets'].fillna(df['platelets'].mean(), inplace=True)\n",
        "\n",
        "# Mengisi missing value dengan menggunakan nilai modus pada data kategorikal\n",
        "df['smoking'].fillna(df['smoking'].mode()[0], inplace=True)"
      ]
    },
    {
      "cell_type": "code",
      "execution_count": null,
      "metadata": {
        "colab": {
          "base_uri": "https://localhost:8080/",
          "height": 492
        },
        "id": "zxy3ZbK7Re5r",
        "outputId": "2974bf0b-19f9-41b4-eac0-a75ab0beac94"
      },
      "outputs": [
        {
          "data": {
            "text/html": [
              "<div>\n",
              "<style scoped>\n",
              "    .dataframe tbody tr th:only-of-type {\n",
              "        vertical-align: middle;\n",
              "    }\n",
              "\n",
              "    .dataframe tbody tr th {\n",
              "        vertical-align: top;\n",
              "    }\n",
              "\n",
              "    .dataframe thead th {\n",
              "        text-align: right;\n",
              "    }\n",
              "</style>\n",
              "<table border=\"1\" class=\"dataframe\">\n",
              "  <thead>\n",
              "    <tr style=\"text-align: right;\">\n",
              "      <th></th>\n",
              "      <th>0</th>\n",
              "    </tr>\n",
              "  </thead>\n",
              "  <tbody>\n",
              "    <tr>\n",
              "      <th>age</th>\n",
              "      <td>0</td>\n",
              "    </tr>\n",
              "    <tr>\n",
              "      <th>anemia</th>\n",
              "      <td>0</td>\n",
              "    </tr>\n",
              "    <tr>\n",
              "      <th>creatinine_phosphokinase</th>\n",
              "      <td>0</td>\n",
              "    </tr>\n",
              "    <tr>\n",
              "      <th>diabetes</th>\n",
              "      <td>0</td>\n",
              "    </tr>\n",
              "    <tr>\n",
              "      <th>ejection_fraction</th>\n",
              "      <td>0</td>\n",
              "    </tr>\n",
              "    <tr>\n",
              "      <th>high_blood_pressure</th>\n",
              "      <td>0</td>\n",
              "    </tr>\n",
              "    <tr>\n",
              "      <th>platelets</th>\n",
              "      <td>0</td>\n",
              "    </tr>\n",
              "    <tr>\n",
              "      <th>serum_creatinine</th>\n",
              "      <td>0</td>\n",
              "    </tr>\n",
              "    <tr>\n",
              "      <th>serum_sodium</th>\n",
              "      <td>0</td>\n",
              "    </tr>\n",
              "    <tr>\n",
              "      <th>sex</th>\n",
              "      <td>0</td>\n",
              "    </tr>\n",
              "    <tr>\n",
              "      <th>smoking</th>\n",
              "      <td>0</td>\n",
              "    </tr>\n",
              "    <tr>\n",
              "      <th>time</th>\n",
              "      <td>0</td>\n",
              "    </tr>\n",
              "    <tr>\n",
              "      <th>death_event</th>\n",
              "      <td>0</td>\n",
              "    </tr>\n",
              "  </tbody>\n",
              "</table>\n",
              "</div><br><label><b>dtype:</b> int64</label>"
            ],
            "text/plain": [
              "age                         0\n",
              "anemia                      0\n",
              "creatinine_phosphokinase    0\n",
              "diabetes                    0\n",
              "ejection_fraction           0\n",
              "high_blood_pressure         0\n",
              "platelets                   0\n",
              "serum_creatinine            0\n",
              "serum_sodium                0\n",
              "sex                         0\n",
              "smoking                     0\n",
              "time                        0\n",
              "death_event                 0\n",
              "dtype: int64"
            ]
          },
          "execution_count": 19,
          "metadata": {},
          "output_type": "execute_result"
        }
      ],
      "source": [
        "# Memastikan kembali sudah tidak ada data kosong\n",
        "df.isnull().sum()"
      ]
    },
    {
      "cell_type": "markdown",
      "metadata": {
        "id": "kiaVaYuASMyT"
      },
      "source": [
        "> Terlihat bahwa sudah tidak ada data kosong"
      ]
    },
    {
      "cell_type": "markdown",
      "metadata": {
        "id": "XAQ_fEtVTr90"
      },
      "source": [
        "###Handle Data Duplikat"
      ]
    },
    {
      "cell_type": "code",
      "execution_count": null,
      "metadata": {
        "colab": {
          "base_uri": "https://localhost:8080/"
        },
        "id": "OlEweBMxhIA6",
        "outputId": "0f28521b-de2f-465d-8e43-2f9c1f225489"
      },
      "outputs": [
        {
          "data": {
            "text/plain": [
              "0"
            ]
          },
          "execution_count": 20,
          "metadata": {},
          "output_type": "execute_result"
        }
      ],
      "source": [
        "# Cek duplikasi data & Handle jika terdapat duplikat data\n",
        "df.duplicated().sum()"
      ]
    },
    {
      "cell_type": "markdown",
      "metadata": {
        "id": "cRpJUSZkTZit"
      },
      "source": [
        "> Terlihat bahwa tidak terdapat data duplikasi"
      ]
    },
    {
      "cell_type": "code",
      "execution_count": null,
      "metadata": {
        "id": "iwvdwnzETgn0"
      },
      "outputs": [],
      "source": [
        "# Proses handle data duplikat"
      ]
    },
    {
      "cell_type": "markdown",
      "metadata": {
        "id": "TiA6aY8ZZNB0"
      },
      "source": [
        "> Karena tidak ditemukan data duplikasi, maka tidak dibutuhkan handle data duplikasi"
      ]
    },
    {
      "cell_type": "markdown",
      "metadata": {
        "id": "3is-ZvsuV1m8"
      },
      "source": [
        "- Dari pekerjaan Membersihkan Data yang telah anda lakukan, Bagaimana yang akan anda lakukan jika Dataset anda ternyata memiliki beberapa nilai kosong (missing value)?\n",
        "- Jawab: Dari pekerjaan membersihkan data yang telah saya lakukan di atas, terdapat beberapa missing value pada dataset sehingga saya melakukan handling missing value dengan metode mean."
      ]
    },
    {
      "cell_type": "markdown",
      "metadata": {
        "id": "l8VZ7J86hSAx"
      },
      "source": [
        "## BAB 6 – (J.62DMI00.009.1) mengkonstruksi data\n",
        "CATATAN:\n",
        "- **UNTUK UJIAN INI, ANDA TIDAK PERLU MELAKUKAN FEATURE ENGINEERING DISINI**\n",
        "- NAMUN ANDA WAJIB MELAKUKAN SAMPLING UNTUK BALANCING CLASS (MENYEIMBANGKAN KELAS DENGAN SKEMA OVER SAMPLING), MENUNJUKKAN OUTLIER YANG TERDAPAT PADA DATASETS, DAN MENAMPILKAN HEATMAP KORELASI ANTAR FITUR UNTUK MENGETAHUI FITUR - FITUR YANG MEMILIKI KORELASI TINGGI DAN RENDAH PADA DATASETS"
      ]
    },
    {
      "cell_type": "markdown",
      "metadata": {
        "id": "SxkkgFBdWLtL"
      },
      "source": [
        "### Imbalance Data"
      ]
    },
    {
      "cell_type": "code",
      "execution_count": null,
      "metadata": {
        "colab": {
          "base_uri": "https://localhost:8080/",
          "height": 542
        },
        "id": "KXH95vOihOnp",
        "outputId": "678ad010-be31-4d05-b7b1-adbd0c2f5425"
      },
      "outputs": [
        {
          "name": "stdout",
          "output_type": "stream",
          "text": [
            "death_event\n",
            "0    203\n",
            "1     96\n",
            "Name: count, dtype: int64\n"
          ]
        },
        {
          "data": {
            "text/plain": [
              "<Axes: xlabel='death_event', ylabel='count'>"
            ]
          },
          "execution_count": 22,
          "metadata": {},
          "output_type": "execute_result"
        },
        {
          "data": {
            "image/png": "[encoded data removed]",
            "text/plain": [
              "<Figure size 640x480 with 1 Axes>"
            ]
          },
          "metadata": {},
          "output_type": "display_data"
        }
      ],
      "source": [
        "# visualisasikan persebaran kelas menggunakan countplot\n",
        "print(df['death_event'].value_counts())\n",
        "sns.countplot(data=df, x='death_event')"
      ]
    },
    {
      "cell_type": "markdown",
      "metadata": {
        "id": "Cw9byKXqUt5M"
      },
      "source": [
        "> Terlihat bahwa data tidak seimbang sehingga dibutuhkan handle imbalance data"
      ]
    },
    {
      "cell_type": "code",
      "execution_count": null,
      "metadata": {
        "id": "Q8msoC0Khzn9"
      },
      "outputs": [],
      "source": [
        "# karena jumlah kelas target tidak seimbang, kita akan melakukan resampling\n",
        "# Import Library\n",
        "from imblearn.over_sampling import SMOTE\n",
        "from sklearn.model_selection import train_test_split"
      ]
    },
    {
      "cell_type": "code",
      "execution_count": null,
      "metadata": {
        "id": "hUi0-q81VfU8"
      },
      "outputs": [],
      "source": [
        "# Memisahkan kolom feature dan kolom target\n",
        "X = df.drop(\"death_event\",axis=1)\n",
        "y = df['death_event']\n",
        "\n",
        "# Split data untuk training dan testing\n",
        "X_train, X_test, y_train, y_test = train_test_split(X, y, test_size=0.2, random_state=42)"
      ]
    },
    {
      "cell_type": "code",
      "execution_count": null,
      "metadata": {
        "id": "T_TVZIrWiBh4"
      },
      "outputs": [],
      "source": [
        "# proses resampling menggunakan RandomOverSampler\n",
        "smote = SMOTE(random_state=42)\n",
        "X_over, y_over = smote.fit_resample(X_train, y_train)"
      ]
    },
    {
      "cell_type": "code",
      "execution_count": null,
      "metadata": {
        "colab": {
          "base_uri": "https://localhost:8080/",
          "height": 423
        },
        "id": "IEjljtEliFRE",
        "outputId": "8261edc4-88df-42ac-a912-acf3867f2154"
      },
      "outputs": [
        {
          "data": {
            "application/vnd.google.colaboratory.intrinsic+json": {
              "summary": "{\n  \"name\": \"df_smote\",\n  \"rows\": 336,\n  \"fields\": [\n    {\n      \"column\": \"age\",\n      \"properties\": {\n        \"dtype\": \"number\",\n        \"std\": 11.139135311513346,\n        \"min\": 40.0,\n        \"max\": 95.0,\n        \"num_unique_values\": 141,\n        \"samples\": [\n          64.64470191493237,\n          53.23202932020755,\n          69.0\n        ],\n        \"semantic_type\": \"\",\n        \"description\": \"\"\n      }\n    },\n    {\n      \"column\": \"anemia\",\n      \"properties\": {\n        \"dtype\": \"number\",\n        \"std\": 0,\n        \"min\": 0,\n        \"max\": 1,\n        \"num_unique_values\": 2,\n        \"samples\": [\n          0,\n          1\n        ],\n        \"semantic_type\": \"\",\n        \"description\": \"\"\n      }\n    },\n    {\n      \"column\": \"creatinine_phosphokinase\",\n      \"properties\": {\n        \"dtype\": \"number\",\n        \"std\": 970.5527669948515,\n        \"min\": 23.0,\n        \"max\": 7861.0,\n        \"num_unique_values\": 266,\n        \"samples\": [\n          308.3585073373225,\n          63.0\n        ],\n        \"semantic_type\": \"\",\n        \"description\": \"\"\n      }\n    },\n    {\n      \"column\": \"diabetes\",\n      \"properties\": {\n        \"dtype\": \"number\",\n        \"std\": 0,\n        \"min\": 0,\n        \"max\": 1,\n        \"num_unique_values\": 2,\n        \"samples\": [\n          1,\n          0\n        ],\n        \"semantic_type\": \"\",\n        \"description\": \"\"\n      }\n    },\n    {\n      \"column\": \"ejection_fraction\",\n      \"properties\": {\n        \"dtype\": \"number\",\n        \"std\": 11.313588811042397,\n        \"min\": 15.0,\n        \"max\": 80.0,\n        \"num_unique_values\": 107,\n        \"samples\": [\n          30.151956019688672,\n          45.0\n        ],\n        \"semantic_type\": \"\",\n        \"description\": \"\"\n      }\n    },\n    {\n      \"column\": \"high_blood_pressure\",\n      \"properties\": {\n        \"dtype\": \"number\",\n        \"std\": 0,\n        \"min\": 0,\n        \"max\": 1,\n        \"num_unique_values\": 2,\n        \"samples\": [\n          1,\n          0\n        ],\n        \"semantic_type\": \"\",\n        \"description\": \"\"\n      }\n    },\n    {\n      \"column\": \"platelets\",\n      \"properties\": {\n        \"dtype\": \"number\",\n        \"std\": 92315.09888474426,\n        \"min\": 47000.0,\n        \"max\": 742000.0,\n        \"num_unique_values\": 216,\n        \"samples\": [\n          300513.92099418095,\n          217317.58003528608\n        ],\n        \"semantic_type\": \"\",\n        \"description\": \"\"\n      }\n    },\n    {\n      \"column\": \"serum_creatinine\",\n      \"properties\": {\n        \"dtype\": \"number\",\n        \"std\": 1.0617863739837339,\n        \"min\": 0.5,\n        \"max\": 9.0,\n        \"num_unique_values\": 130,\n        \"samples\": [\n          1.3142957891049796,\n          2.6394008580522934\n        ],\n        \"semantic_type\": \"\",\n        \"description\": \"\"\n      }\n    },\n    {\n      \"column\": \"serum_sodium\",\n      \"properties\": {\n        \"dtype\": \"number\",\n        \"std\": 4,\n        \"min\": 113,\n        \"max\": 146,\n        \"num_unique_values\": 27,\n        \"samples\": [\n          124,\n          121\n        ],\n        \"semantic_type\": \"\",\n        \"description\": \"\"\n      }\n    },\n    {\n      \"column\": \"sex\",\n      \"properties\": {\n        \"dtype\": \"number\",\n        \"std\": 0,\n        \"min\": 0,\n        \"max\": 1,\n        \"num_unique_values\": 2,\n        \"samples\": [\n          0,\n          1\n        ],\n        \"semantic_type\": \"\",\n        \"description\": \"\"\n      }\n    },\n    {\n      \"column\": \"smoking\",\n      \"properties\": {\n        \"dtype\": \"number\",\n        \"std\": 0.43687406425262115,\n        \"min\": 0.0,\n        \"max\": 1.0,\n        \"num_unique_values\": 47,\n        \"samples\": [\n          0.48925269742243427,\n          0.9856504541106007\n        ],\n        \"semantic_type\": \"\",\n        \"description\": \"\"\n      }\n    },\n    {\n      \"column\": \"time\",\n      \"properties\": {\n        \"dtype\": \"number\",\n        \"std\": 78,\n        \"min\": 4,\n        \"max\": 285,\n        \"num_unique_values\": 166,\n        \"samples\": [\n          33,\n          51\n        ],\n        \"semantic_type\": \"\",\n        \"description\": \"\"\n      }\n    },\n    {\n      \"column\": \"death_event\",\n      \"properties\": {\n        \"dtype\": \"number\",\n        \"std\": 0,\n        \"min\": 0,\n        \"max\": 1,\n        \"num_unique_values\": 2,\n        \"samples\": [\n          0,\n          1\n        ],\n        \"semantic_type\": \"\",\n        \"description\": \"\"\n      }\n    }\n  ]\n}",
              "type": "dataframe",
              "variable_name": "df_smote"
            },
            "text/html": [
              "\n",
              "  <div id=\"df-b121a133-53d9-408d-815f-919026c50f34\" class=\"colab-df-container\">\n",
              "    <div>\n",
              "<style scoped>\n",
              "    .dataframe tbody tr th:only-of-type {\n",
              "        vertical-align: middle;\n",
              "    }\n",
              "\n",
              "    .dataframe tbody tr th {\n",
              "        vertical-align: top;\n",
              "    }\n",
              "\n",
              "    .dataframe thead th {\n",
              "        text-align: right;\n",
              "    }\n",
              "</style>\n",
              "<table border=\"1\" class=\"dataframe\">\n",
              "  <thead>\n",
              "    <tr style=\"text-align: right;\">\n",
              "      <th></th>\n",
              "      <th>age</th>\n",
              "      <th>anemia</th>\n",
              "      <th>creatinine_phosphokinase</th>\n",
              "      <th>diabetes</th>\n",
              "      <th>ejection_fraction</th>\n",
              "      <th>high_blood_pressure</th>\n",
              "      <th>platelets</th>\n",
              "      <th>serum_creatinine</th>\n",
              "      <th>serum_sodium</th>\n",
              "      <th>sex</th>\n",
              "      <th>smoking</th>\n",
              "      <th>time</th>\n",
              "      <th>death_event</th>\n",
              "    </tr>\n",
              "  </thead>\n",
              "  <tbody>\n",
              "    <tr>\n",
              "      <th>0</th>\n",
              "      <td>75.000000</td>\n",
              "      <td>1</td>\n",
              "      <td>246.000000</td>\n",
              "      <td>0</td>\n",
              "      <td>15.000000</td>\n",
              "      <td>0</td>\n",
              "      <td>127000.000000</td>\n",
              "      <td>1.200000</td>\n",
              "      <td>137</td>\n",
              "      <td>1</td>\n",
              "      <td>0.000000</td>\n",
              "      <td>10</td>\n",
              "      <td>1</td>\n",
              "    </tr>\n",
              "    <tr>\n",
              "      <th>1</th>\n",
              "      <td>75.000000</td>\n",
              "      <td>0</td>\n",
              "      <td>99.000000</td>\n",
              "      <td>0</td>\n",
              "      <td>38.000000</td>\n",
              "      <td>1</td>\n",
              "      <td>224000.000000</td>\n",
              "      <td>2.500000</td>\n",
              "      <td>134</td>\n",
              "      <td>1</td>\n",
              "      <td>0.000000</td>\n",
              "      <td>162</td>\n",
              "      <td>1</td>\n",
              "    </tr>\n",
              "    <tr>\n",
              "      <th>2</th>\n",
              "      <td>60.667000</td>\n",
              "      <td>1</td>\n",
              "      <td>104.000000</td>\n",
              "      <td>1</td>\n",
              "      <td>30.000000</td>\n",
              "      <td>0</td>\n",
              "      <td>261182.344796</td>\n",
              "      <td>1.500000</td>\n",
              "      <td>136</td>\n",
              "      <td>1</td>\n",
              "      <td>0.000000</td>\n",
              "      <td>171</td>\n",
              "      <td>1</td>\n",
              "    </tr>\n",
              "    <tr>\n",
              "      <th>3</th>\n",
              "      <td>52.000000</td>\n",
              "      <td>0</td>\n",
              "      <td>132.000000</td>\n",
              "      <td>0</td>\n",
              "      <td>30.000000</td>\n",
              "      <td>0</td>\n",
              "      <td>218000.000000</td>\n",
              "      <td>0.700000</td>\n",
              "      <td>136</td>\n",
              "      <td>1</td>\n",
              "      <td>1.000000</td>\n",
              "      <td>112</td>\n",
              "      <td>0</td>\n",
              "    </tr>\n",
              "    <tr>\n",
              "      <th>4</th>\n",
              "      <td>94.000000</td>\n",
              "      <td>0</td>\n",
              "      <td>582.000000</td>\n",
              "      <td>1</td>\n",
              "      <td>38.000000</td>\n",
              "      <td>1</td>\n",
              "      <td>263358.030000</td>\n",
              "      <td>1.830000</td>\n",
              "      <td>134</td>\n",
              "      <td>1</td>\n",
              "      <td>0.000000</td>\n",
              "      <td>27</td>\n",
              "      <td>1</td>\n",
              "    </tr>\n",
              "    <tr>\n",
              "      <th>...</th>\n",
              "      <td>...</td>\n",
              "      <td>...</td>\n",
              "      <td>...</td>\n",
              "      <td>...</td>\n",
              "      <td>...</td>\n",
              "      <td>...</td>\n",
              "      <td>...</td>\n",
              "      <td>...</td>\n",
              "      <td>...</td>\n",
              "      <td>...</td>\n",
              "      <td>...</td>\n",
              "      <td>...</td>\n",
              "      <td>...</td>\n",
              "    </tr>\n",
              "    <tr>\n",
              "      <th>331</th>\n",
              "      <td>68.287889</td>\n",
              "      <td>0</td>\n",
              "      <td>435.388709</td>\n",
              "      <td>0</td>\n",
              "      <td>29.678335</td>\n",
              "      <td>0</td>\n",
              "      <td>312034.929107</td>\n",
              "      <td>1.153577</td>\n",
              "      <td>133</td>\n",
              "      <td>1</td>\n",
              "      <td>1.000000</td>\n",
              "      <td>73</td>\n",
              "      <td>1</td>\n",
              "    </tr>\n",
              "    <tr>\n",
              "      <th>332</th>\n",
              "      <td>60.180580</td>\n",
              "      <td>0</td>\n",
              "      <td>257.381597</td>\n",
              "      <td>0</td>\n",
              "      <td>36.826233</td>\n",
              "      <td>0</td>\n",
              "      <td>255558.202490</td>\n",
              "      <td>2.082623</td>\n",
              "      <td>132</td>\n",
              "      <td>0</td>\n",
              "      <td>1.000000</td>\n",
              "      <td>41</td>\n",
              "      <td>1</td>\n",
              "    </tr>\n",
              "    <tr>\n",
              "      <th>333</th>\n",
              "      <td>54.117438</td>\n",
              "      <td>0</td>\n",
              "      <td>281.931247</td>\n",
              "      <td>0</td>\n",
              "      <td>39.670605</td>\n",
              "      <td>1</td>\n",
              "      <td>217317.580035</td>\n",
              "      <td>2.332940</td>\n",
              "      <td>131</td>\n",
              "      <td>0</td>\n",
              "      <td>0.000000</td>\n",
              "      <td>76</td>\n",
              "      <td>1</td>\n",
              "    </tr>\n",
              "    <tr>\n",
              "      <th>334</th>\n",
              "      <td>52.528581</td>\n",
              "      <td>0</td>\n",
              "      <td>611.287844</td>\n",
              "      <td>0</td>\n",
              "      <td>25.774041</td>\n",
              "      <td>0</td>\n",
              "      <td>322207.800650</td>\n",
              "      <td>1.709482</td>\n",
              "      <td>137</td>\n",
              "      <td>0</td>\n",
              "      <td>0.679220</td>\n",
              "      <td>46</td>\n",
              "      <td>1</td>\n",
              "    </tr>\n",
              "    <tr>\n",
              "      <th>335</th>\n",
              "      <td>68.916889</td>\n",
              "      <td>0</td>\n",
              "      <td>429.878961</td>\n",
              "      <td>0</td>\n",
              "      <td>27.424741</td>\n",
              "      <td>0</td>\n",
              "      <td>264693.742201</td>\n",
              "      <td>1.317507</td>\n",
              "      <td>135</td>\n",
              "      <td>0</td>\n",
              "      <td>0.813481</td>\n",
              "      <td>142</td>\n",
              "      <td>1</td>\n",
              "    </tr>\n",
              "  </tbody>\n",
              "</table>\n",
              "<p>336 rows × 13 columns</p>\n",
              "</div>\n",
              "    <div class=\"colab-df-buttons\">\n",
              "\n",
              "  <div class=\"colab-df-container\">\n",
              "    <button class=\"colab-df-convert\" onclick=\"convertToInteractive('df-b121a133-53d9-408d-815f-919026c50f34')\"\n",
              "            title=\"Convert this dataframe to an interactive table.\"\n",
              "            style=\"display:none;\">\n",
              "\n",
              "  <svg xmlns=\"http://www.w3.org/2000/svg\" height=\"24px\" viewBox=\"0 -960 960 960\">\n",
              "    <path d=\"M120-120v-720h720v720H120Zm60-500h600v-160H180v160Zm220 220h160v-160H400v160Zm0 220h160v-160H400v160ZM180-400h160v-160H180v160Zm440 0h160v-160H620v160ZM180-180h160v-160H180v160Zm440 0h160v-160H620v160Z\"/>\n",
              "  </svg>\n",
              "    </button>\n",
              "\n",
              "  <style>\n",
              "    .colab-df-container {\n",
              "      display:flex;\n",
              "      gap: 12px;\n",
              "    }\n",
              "\n",
              "    .colab-df-convert {\n",
              "      background-color: #E8F0FE;\n",
              "      border: none;\n",
              "      border-radius: 50%;\n",
              "      cursor: pointer;\n",
              "      display: none;\n",
              "      fill: #1967D2;\n",
              "      height: 32px;\n",
              "      padding: 0 0 0 0;\n",
              "      width: 32px;\n",
              "    }\n",
              "\n",
              "    .colab-df-convert:hover {\n",
              "      background-color: #E2EBFA;\n",
              "      box-shadow: 0px 1px 2px rgba(60, 64, 67, 0.3), 0px 1px 3px 1px rgba(60, 64, 67, 0.15);\n",
              "      fill: #174EA6;\n",
              "    }\n",
              "\n",
              "    .colab-df-buttons div {\n",
              "      margin-bottom: 4px;\n",
              "    }\n",
              "\n",
              "    [theme=dark] .colab-df-convert {\n",
              "      background-color: #3B4455;\n",
              "      fill: #D2E3FC;\n",
              "    }\n",
              "\n",
              "    [theme=dark] .colab-df-convert:hover {\n",
              "      background-color: #434B5C;\n",
              "      box-shadow: 0px 1px 3px 1px rgba(0, 0, 0, 0.15);\n",
              "      filter: drop-shadow(0px 1px 2px rgba(0, 0, 0, 0.3));\n",
              "      fill: #FFFFFF;\n",
              "    }\n",
              "  </style>\n",
              "\n",
              "    <script>\n",
              "      const buttonEl =\n",
              "        document.querySelector('#df-b121a133-53d9-408d-815f-919026c50f34 button.colab-df-convert');\n",
              "      buttonEl.style.display =\n",
              "        google.colab.kernel.accessAllowed ? 'block' : 'none';\n",
              "\n",
              "      async function convertToInteractive(key) {\n",
              "        const element = document.querySelector('#df-b121a133-53d9-408d-815f-919026c50f34');\n",
              "        const dataTable =\n",
              "          await google.colab.kernel.invokeFunction('convertToInteractive',\n",
              "                                                    [key], {});\n",
              "        if (!dataTable) return;\n",
              "\n",
              "        const docLinkHtml = 'Like what you see? Visit the ' +\n",
              "          '<a target=\"_blank\" href=https://colab.research.google.com/notebooks/data_table.ipynb>data table notebook</a>'\n",
              "          + ' to learn more about interactive tables.';\n",
              "        element.innerHTML = '';\n",
              "        dataTable['output_type'] = 'display_data';\n",
              "        await google.colab.output.renderOutput(dataTable, element);\n",
              "        const docLink = document.createElement('div');\n",
              "        docLink.innerHTML = docLinkHtml;\n",
              "        element.appendChild(docLink);\n",
              "      }\n",
              "    </script>\n",
              "  </div>\n",
              "\n",
              "\n",
              "<div id=\"df-3d4a952f-b9f6-4e6f-b2cf-7a43b3ec5a68\">\n",
              "  <button class=\"colab-df-quickchart\" onclick=\"quickchart('df-3d4a952f-b9f6-4e6f-b2cf-7a43b3ec5a68')\"\n",
              "            title=\"Suggest charts\"\n",
              "            style=\"display:none;\">\n",
              "\n",
              "<svg xmlns=\"http://www.w3.org/2000/svg\" height=\"24px\"viewBox=\"0 0 24 24\"\n",
              "     width=\"24px\">\n",
              "    <g>\n",
              "        <path d=\"M19 3H5c-1.1 0-2 .9-2 2v14c0 1.1.9 2 2 2h14c1.1 0 2-.9 2-2V5c0-1.1-.9-2-2-2zM9 17H7v-7h2v7zm4 0h-2V7h2v10zm4 0h-2v-4h2v4z\"/>\n",
              "    </g>\n",
              "</svg>\n",
              "  </button>\n",
              "\n",
              "<style>\n",
              "  .colab-df-quickchart {\n",
              "      --bg-color: #E8F0FE;\n",
              "      --fill-color: #1967D2;\n",
              "      --hover-bg-color: #E2EBFA;\n",
              "      --hover-fill-color: #174EA6;\n",
              "      --disabled-fill-color: #AAA;\n",
              "      --disabled-bg-color: #DDD;\n",
              "  }\n",
              "\n",
              "  [theme=dark] .colab-df-quickchart {\n",
              "      --bg-color: #3B4455;\n",
              "      --fill-color: #D2E3FC;\n",
              "      --hover-bg-color: #434B5C;\n",
              "      --hover-fill-color: #FFFFFF;\n",
              "      --disabled-bg-color: #3B4455;\n",
              "      --disabled-fill-color: #666;\n",
              "  }\n",
              "\n",
              "  .colab-df-quickchart {\n",
              "    background-color: var(--bg-color);\n",
              "    border: none;\n",
              "    border-radius: 50%;\n",
              "    cursor: pointer;\n",
              "    display: none;\n",
              "    fill: var(--fill-color);\n",
              "    height: 32px;\n",
              "    padding: 0;\n",
              "    width: 32px;\n",
              "  }\n",
              "\n",
              "  .colab-df-quickchart:hover {\n",
              "    background-color: var(--hover-bg-color);\n",
              "    box-shadow: 0 1px 2px rgba(60, 64, 67, 0.3), 0 1px 3px 1px rgba(60, 64, 67, 0.15);\n",
              "    fill: var(--button-hover-fill-color);\n",
              "  }\n",
              "\n",
              "  .colab-df-quickchart-complete:disabled,\n",
              "  .colab-df-quickchart-complete:disabled:hover {\n",
              "    background-color: var(--disabled-bg-color);\n",
              "    fill: var(--disabled-fill-color);\n",
              "    box-shadow: none;\n",
              "  }\n",
              "\n",
              "  .colab-df-spinner {\n",
              "    border: 2px solid var(--fill-color);\n",
              "    border-color: transparent;\n",
              "    border-bottom-color: var(--fill-color);\n",
              "    animation:\n",
              "      spin 1s steps(1) infinite;\n",
              "  }\n",
              "\n",
              "  @keyframes spin {\n",
              "    0% {\n",
              "      border-color: transparent;\n",
              "      border-bottom-color: var(--fill-color);\n",
              "      border-left-color: var(--fill-color);\n",
              "    }\n",
              "    20% {\n",
              "      border-color: transparent;\n",
              "      border-left-color: var(--fill-color);\n",
              "      border-top-color: var(--fill-color);\n",
              "    }\n",
              "    30% {\n",
              "      border-color: transparent;\n",
              "      border-left-color: var(--fill-color);\n",
              "      border-top-color: var(--fill-color);\n",
              "      border-right-color: var(--fill-color);\n",
              "    }\n",
              "    40% {\n",
              "      border-color: transparent;\n",
              "      border-right-color: var(--fill-color);\n",
              "      border-top-color: var(--fill-color);\n",
              "    }\n",
              "    60% {\n",
              "      border-color: transparent;\n",
              "      border-right-color: var(--fill-color);\n",
              "    }\n",
              "    80% {\n",
              "      border-color: transparent;\n",
              "      border-right-color: var(--fill-color);\n",
              "      border-bottom-color: var(--fill-color);\n",
              "    }\n",
              "    90% {\n",
              "      border-color: transparent;\n",
              "      border-bottom-color: var(--fill-color);\n",
              "    }\n",
              "  }\n",
              "</style>\n",
              "\n",
              "  <script>\n",
              "    async function quickchart(key) {\n",
              "      const quickchartButtonEl =\n",
              "        document.querySelector('#' + key + ' button');\n",
              "      quickchartButtonEl.disabled = true;  // To prevent multiple clicks.\n",
              "      quickchartButtonEl.classList.add('colab-df-spinner');\n",
              "      try {\n",
              "        const charts = await google.colab.kernel.invokeFunction(\n",
              "            'suggestCharts', [key], {});\n",
              "      } catch (error) {\n",
              "        console.error('Error during call to suggestCharts:', error);\n",
              "      }\n",
              "      quickchartButtonEl.classList.remove('colab-df-spinner');\n",
              "      quickchartButtonEl.classList.add('colab-df-quickchart-complete');\n",
              "    }\n",
              "    (() => {\n",
              "      let quickchartButtonEl =\n",
              "        document.querySelector('#df-3d4a952f-b9f6-4e6f-b2cf-7a43b3ec5a68 button');\n",
              "      quickchartButtonEl.style.display =\n",
              "        google.colab.kernel.accessAllowed ? 'block' : 'none';\n",
              "    })();\n",
              "  </script>\n",
              "</div>\n",
              "\n",
              "  <div id=\"id_511f0178-8d06-4480-8d97-97b12dffb678\">\n",
              "    <style>\n",
              "      .colab-df-generate {\n",
              "        background-color: #E8F0FE;\n",
              "        border: none;\n",
              "        border-radius: 50%;\n",
              "        cursor: pointer;\n",
              "        display: none;\n",
              "        fill: #1967D2;\n",
              "        height: 32px;\n",
              "        padding: 0 0 0 0;\n",
              "        width: 32px;\n",
              "      }\n",
              "\n",
              "      .colab-df-generate:hover {\n",
              "        background-color: #E2EBFA;\n",
              "        box-shadow: 0px 1px 2px rgba(60, 64, 67, 0.3), 0px 1px 3px 1px rgba(60, 64, 67, 0.15);\n",
              "        fill: #174EA6;\n",
              "      }\n",
              "\n",
              "      [theme=dark] .colab-df-generate {\n",
              "        background-color: #3B4455;\n",
              "        fill: #D2E3FC;\n",
              "      }\n",
              "\n",
              "      [theme=dark] .colab-df-generate:hover {\n",
              "        background-color: #434B5C;\n",
              "        box-shadow: 0px 1px 3px 1px rgba(0, 0, 0, 0.15);\n",
              "        filter: drop-shadow(0px 1px 2px rgba(0, 0, 0, 0.3));\n",
              "        fill: #FFFFFF;\n",
              "      }\n",
              "    </style>\n",
              "    <button class=\"colab-df-generate\" onclick=\"generateWithVariable('df_smote')\"\n",
              "            title=\"Generate code using this dataframe.\"\n",
              "            style=\"display:none;\">\n",
              "\n",
              "  <svg xmlns=\"http://www.w3.org/2000/svg\" height=\"24px\"viewBox=\"0 0 24 24\"\n",
              "       width=\"24px\">\n",
              "    <path d=\"M7,19H8.4L18.45,9,17,7.55,7,17.6ZM5,21V16.75L18.45,3.32a2,2,0,0,1,2.83,0l1.4,1.43a1.91,1.91,0,0,1,.58,1.4,1.91,1.91,0,0,1-.58,1.4L9.25,21ZM18.45,9,17,7.55Zm-12,3A5.31,5.31,0,0,0,4.9,8.1,5.31,5.31,0,0,0,1,6.5,5.31,5.31,0,0,0,4.9,4.9,5.31,5.31,0,0,0,6.5,1,5.31,5.31,0,0,0,8.1,4.9,5.31,5.31,0,0,0,12,6.5,5.46,5.46,0,0,0,6.5,12Z\"/>\n",
              "  </svg>\n",
              "    </button>\n",
              "    <script>\n",
              "      (() => {\n",
              "      const buttonEl =\n",
              "        document.querySelector('#id_511f0178-8d06-4480-8d97-97b12dffb678 button.colab-df-generate');\n",
              "      buttonEl.style.display =\n",
              "        google.colab.kernel.accessAllowed ? 'block' : 'none';\n",
              "\n",
              "      buttonEl.onclick = () => {\n",
              "        google.colab.notebook.generateWithVariable('df_smote');\n",
              "      }\n",
              "      })();\n",
              "    </script>\n",
              "  </div>\n",
              "\n",
              "    </div>\n",
              "  </div>\n"
            ],
            "text/plain": [
              "           age  anemia  creatinine_phosphokinase  diabetes  ejection_fraction  \\\n",
              "0    75.000000       1                246.000000         0          15.000000   \n",
              "1    75.000000       0                 99.000000         0          38.000000   \n",
              "2    60.667000       1                104.000000         1          30.000000   \n",
              "3    52.000000       0                132.000000         0          30.000000   \n",
              "4    94.000000       0                582.000000         1          38.000000   \n",
              "..         ...     ...                       ...       ...                ...   \n",
              "331  68.287889       0                435.388709         0          29.678335   \n",
              "332  60.180580       0                257.381597         0          36.826233   \n",
              "333  54.117438       0                281.931247         0          39.670605   \n",
              "334  52.528581       0                611.287844         0          25.774041   \n",
              "335  68.916889       0                429.878961         0          27.424741   \n",
              "\n",
              "     high_blood_pressure      platelets  serum_creatinine  serum_sodium  sex  \\\n",
              "0                      0  127000.000000          1.200000           137    1   \n",
              "1                      1  224000.000000          2.500000           134    1   \n",
              "2                      0  261182.344796          1.500000           136    1   \n",
              "3                      0  218000.000000          0.700000           136    1   \n",
              "4                      1  263358.030000          1.830000           134    1   \n",
              "..                   ...            ...               ...           ...  ...   \n",
              "331                    0  312034.929107          1.153577           133    1   \n",
              "332                    0  255558.202490          2.082623           132    0   \n",
              "333                    1  217317.580035          2.332940           131    0   \n",
              "334                    0  322207.800650          1.709482           137    0   \n",
              "335                    0  264693.742201          1.317507           135    0   \n",
              "\n",
              "      smoking  time  death_event  \n",
              "0    0.000000    10            1  \n",
              "1    0.000000   162            1  \n",
              "2    0.000000   171            1  \n",
              "3    1.000000   112            0  \n",
              "4    0.000000    27            1  \n",
              "..        ...   ...          ...  \n",
              "331  1.000000    73            1  \n",
              "332  1.000000    41            1  \n",
              "333  0.000000    76            1  \n",
              "334  0.679220    46            1  \n",
              "335  0.813481   142            1  \n",
              "\n",
              "[336 rows x 13 columns]"
            ]
          },
          "execution_count": 26,
          "metadata": {},
          "output_type": "execute_result"
        }
      ],
      "source": [
        "# Menggabungkan Datasets hasil resampling\n",
        "df_smote = pd.concat([X_over, y_over], axis=1)\n",
        "df_smote"
      ]
    },
    {
      "cell_type": "code",
      "execution_count": null,
      "metadata": {
        "colab": {
          "base_uri": "https://localhost:8080/",
          "height": 542
        },
        "id": "iGWAoRMHEzUr",
        "outputId": "d9415d14-48df-4238-8b5f-f7a871071ddb"
      },
      "outputs": [
        {
          "name": "stdout",
          "output_type": "stream",
          "text": [
            "death_event\n",
            "1    168\n",
            "0    168\n",
            "Name: count, dtype: int64\n"
          ]
        },
        {
          "data": {
            "text/plain": [
              "<Axes: xlabel='death_event', ylabel='count'>"
            ]
          },
          "execution_count": 27,
          "metadata": {},
          "output_type": "execute_result"
        },
        {
          "data": {
            "image/png": "[encoded data removed]",
            "text/plain": [
              "<Figure size 640x480 with 1 Axes>"
            ]
          },
          "metadata": {},
          "output_type": "display_data"
        }
      ],
      "source": [
        "# Tampilkan visualisasi persebaran kelas setelah melalui proses sampling\n",
        "print(df_smote['death_event'].value_counts())\n",
        "sns.countplot(data=df_smote, x='death_event')"
      ]
    },
    {
      "cell_type": "markdown",
      "metadata": {
        "id": "bD_0GmaWV_j0"
      },
      "source": [
        "> Terlihat bahwa data telah seimbang"
      ]
    },
    {
      "cell_type": "markdown",
      "metadata": {
        "id": "bG2vlbRvWOtN"
      },
      "source": [
        "###Outlier Data"
      ]
    },
    {
      "cell_type": "code",
      "execution_count": null,
      "metadata": {
        "colab": {
          "base_uri": "https://localhost:8080/",
          "height": 468
        },
        "id": "8GAnWQvQiW8N",
        "outputId": "ce8c4852-ae26-4bde-f8c9-a9ce9ea34ddc"
      },
      "outputs": [
        {
          "data": {
            "image/png": "[encoded data removed]",
            "text/plain": [
              "<Figure size 1000x500 with 1 Axes>"
            ]
          },
          "metadata": {},
          "output_type": "display_data"
        }
      ],
      "source": [
        "# cek outlier dengan visualisasi (misalnya menggunakan boxplot)\n",
        "plt.figure(figsize=(10,5))\n",
        "sns.boxplot(data=df_smote, orient=\"h\", palette=\"Set2\")\n",
        "plt.title('Boxplot untuk Mendeteksi Outlier')\n",
        "plt.show()"
      ]
    },
    {
      "cell_type": "markdown",
      "metadata": {
        "id": "9DnffCwMWTwU"
      },
      "source": [
        "> Terlihat bahwa data memiliki beberapa outlier. Namun, saya tidak akan melakukan handling outlier karena pada soal terdapat larangan untuk melakukan handling ourlier"
      ]
    },
    {
      "cell_type": "markdown",
      "metadata": {
        "id": "WOuWuTJqaI46"
      },
      "source": [
        "###Korelasi Data"
      ]
    },
    {
      "cell_type": "code",
      "execution_count": null,
      "metadata": {
        "colab": {
          "base_uri": "https://localhost:8080/",
          "height": 1000
        },
        "id": "pmAaVlKVijkJ",
        "outputId": "1019b7ae-4f1f-4ebf-84bb-f9e5bc9e9606"
      },
      "outputs": [
        {
          "data": {
            "image/png": "[encoded data removed]",
            "text/plain": [
              "<Figure size 1000x1000 with 2 Axes>"
            ]
          },
          "metadata": {},
          "output_type": "display_data"
        }
      ],
      "source": [
        "# melihat korelasi antar fitur (heatmap)\n",
        "plt.figure(figsize=(10, 10))\n",
        "sns.heatmap(df_smote.corr(), annot=True, cmap=\"coolwarm\")  # Korelasi antar fitur\n",
        "plt.title(\"Korelasi Antar Fitur\")\n",
        "plt.show()"
      ]
    },
    {
      "cell_type": "markdown",
      "metadata": {
        "id": "X98UxED8itG5"
      },
      "source": [
        "- DAPAT KITA LIHAT PADA HASIL KORELASI BAHWA `serum_creatinine` dan `ejection_fraction` MEMILIKI KORELASI YANG TINGGI, BAIK ITU POSITIF ATAU NEGATIF.\n",
        "- PADA TAHAP SELANJUTNYA SILAHKAN BANDINGAN HASIL PEMODELAN KETIKA HANYA MENGGUNAKAN DUA KOLOM TERSEBUT () DENGAN KITA MENGGUNAKAN SEMUA KOLOM.\n",
        "- SETELAH ITU JAWAB PERTANYAAN BERIKUT :    \n",
        "  - DARI RATA - RATA SEMUA MODEL YANG DI BANDINGKAN (RF, KNN, DAN LOGISTIC REGRESSION) AKURASI YANG DI DAPATKAN LEBIH TINGGI YANG MENGGUNAKAN 2 FITUR SAJA ATAU SEMUA FITUR? : 'ISI DISINI'"
      ]
    },
    {
      "cell_type": "markdown",
      "metadata": {
        "id": "efbd64NKaMFl"
      },
      "source": [
        "###Membagi Data Untuk Melakukan Perbandingan"
      ]
    },
    {
      "cell_type": "markdown",
      "metadata": {
        "id": "-ZPe1vV9aYyD"
      },
      "source": [
        "####2 Fitur"
      ]
    },
    {
      "cell_type": "code",
      "execution_count": null,
      "metadata": {
        "colab": {
          "base_uri": "https://localhost:8080/",
          "height": 206
        },
        "id": "exYEDRw5jwur",
        "outputId": "2ad5e4b4-4703-43c6-aa00-ae449be55dcd"
      },
      "outputs": [
        {
          "data": {
            "application/vnd.google.colaboratory.intrinsic+json": {
              "summary": "{\n  \"name\": \"df_2_fitur\",\n  \"rows\": 336,\n  \"fields\": [\n    {\n      \"column\": \"serum_creatinine\",\n      \"properties\": {\n        \"dtype\": \"number\",\n        \"std\": 1.0617863739837339,\n        \"min\": 0.5,\n        \"max\": 9.0,\n        \"num_unique_values\": 130,\n        \"samples\": [\n          1.3142957891049796,\n          2.6394008580522934,\n          3.7\n        ],\n        \"semantic_type\": \"\",\n        \"description\": \"\"\n      }\n    },\n    {\n      \"column\": \"ejection_fraction\",\n      \"properties\": {\n        \"dtype\": \"number\",\n        \"std\": 11.313588811042397,\n        \"min\": 15.0,\n        \"max\": 80.0,\n        \"num_unique_values\": 107,\n        \"samples\": [\n          30.151956019688672,\n          45.0,\n          60.0\n        ],\n        \"semantic_type\": \"\",\n        \"description\": \"\"\n      }\n    },\n    {\n      \"column\": \"death_event\",\n      \"properties\": {\n        \"dtype\": \"number\",\n        \"std\": 0,\n        \"min\": 0,\n        \"max\": 1,\n        \"num_unique_values\": 2,\n        \"samples\": [\n          0,\n          1\n        ],\n        \"semantic_type\": \"\",\n        \"description\": \"\"\n      }\n    }\n  ]\n}",
              "type": "dataframe",
              "variable_name": "df_2_fitur"
            },
            "text/html": [
              "\n",
              "  <div id=\"df-62214744-0b66-44a9-9d15-ce5f9e92e364\" class=\"colab-df-container\">\n",
              "    <div>\n",
              "<style scoped>\n",
              "    .dataframe tbody tr th:only-of-type {\n",
              "        vertical-align: middle;\n",
              "    }\n",
              "\n",
              "    .dataframe tbody tr th {\n",
              "        vertical-align: top;\n",
              "    }\n",
              "\n",
              "    .dataframe thead th {\n",
              "        text-align: right;\n",
              "    }\n",
              "</style>\n",
              "<table border=\"1\" class=\"dataframe\">\n",
              "  <thead>\n",
              "    <tr style=\"text-align: right;\">\n",
              "      <th></th>\n",
              "      <th>serum_creatinine</th>\n",
              "      <th>ejection_fraction</th>\n",
              "      <th>death_event</th>\n",
              "    </tr>\n",
              "  </thead>\n",
              "  <tbody>\n",
              "    <tr>\n",
              "      <th>0</th>\n",
              "      <td>1.20</td>\n",
              "      <td>15.0</td>\n",
              "      <td>1</td>\n",
              "    </tr>\n",
              "    <tr>\n",
              "      <th>1</th>\n",
              "      <td>2.50</td>\n",
              "      <td>38.0</td>\n",
              "      <td>1</td>\n",
              "    </tr>\n",
              "    <tr>\n",
              "      <th>2</th>\n",
              "      <td>1.50</td>\n",
              "      <td>30.0</td>\n",
              "      <td>1</td>\n",
              "    </tr>\n",
              "    <tr>\n",
              "      <th>3</th>\n",
              "      <td>0.70</td>\n",
              "      <td>30.0</td>\n",
              "      <td>0</td>\n",
              "    </tr>\n",
              "    <tr>\n",
              "      <th>4</th>\n",
              "      <td>1.83</td>\n",
              "      <td>38.0</td>\n",
              "      <td>1</td>\n",
              "    </tr>\n",
              "  </tbody>\n",
              "</table>\n",
              "</div>\n",
              "    <div class=\"colab-df-buttons\">\n",
              "\n",
              "  <div class=\"colab-df-container\">\n",
              "    <button class=\"colab-df-convert\" onclick=\"convertToInteractive('df-62214744-0b66-44a9-9d15-ce5f9e92e364')\"\n",
              "            title=\"Convert this dataframe to an interactive table.\"\n",
              "            style=\"display:none;\">\n",
              "\n",
              "  <svg xmlns=\"http://www.w3.org/2000/svg\" height=\"24px\" viewBox=\"0 -960 960 960\">\n",
              "    <path d=\"M120-120v-720h720v720H120Zm60-500h600v-160H180v160Zm220 220h160v-160H400v160Zm0 220h160v-160H400v160ZM180-400h160v-160H180v160Zm440 0h160v-160H620v160ZM180-180h160v-160H180v160Zm440 0h160v-160H620v160Z\"/>\n",
              "  </svg>\n",
              "    </button>\n",
              "\n",
              "  <style>\n",
              "    .colab-df-container {\n",
              "      display:flex;\n",
              "      gap: 12px;\n",
              "    }\n",
              "\n",
              "    .colab-df-convert {\n",
              "      background-color: #E8F0FE;\n",
              "      border: none;\n",
              "      border-radius: 50%;\n",
              "      cursor: pointer;\n",
              "      display: none;\n",
              "      fill: #1967D2;\n",
              "      height: 32px;\n",
              "      padding: 0 0 0 0;\n",
              "      width: 32px;\n",
              "    }\n",
              "\n",
              "    .colab-df-convert:hover {\n",
              "      background-color: #E2EBFA;\n",
              "      box-shadow: 0px 1px 2px rgba(60, 64, 67, 0.3), 0px 1px 3px 1px rgba(60, 64, 67, 0.15);\n",
              "      fill: #174EA6;\n",
              "    }\n",
              "\n",
              "    .colab-df-buttons div {\n",
              "      margin-bottom: 4px;\n",
              "    }\n",
              "\n",
              "    [theme=dark] .colab-df-convert {\n",
              "      background-color: #3B4455;\n",
              "      fill: #D2E3FC;\n",
              "    }\n",
              "\n",
              "    [theme=dark] .colab-df-convert:hover {\n",
              "      background-color: #434B5C;\n",
              "      box-shadow: 0px 1px 3px 1px rgba(0, 0, 0, 0.15);\n",
              "      filter: drop-shadow(0px 1px 2px rgba(0, 0, 0, 0.3));\n",
              "      fill: #FFFFFF;\n",
              "    }\n",
              "  </style>\n",
              "\n",
              "    <script>\n",
              "      const buttonEl =\n",
              "        document.querySelector('#df-62214744-0b66-44a9-9d15-ce5f9e92e364 button.colab-df-convert');\n",
              "      buttonEl.style.display =\n",
              "        google.colab.kernel.accessAllowed ? 'block' : 'none';\n",
              "\n",
              "      async function convertToInteractive(key) {\n",
              "        const element = document.querySelector('#df-62214744-0b66-44a9-9d15-ce5f9e92e364');\n",
              "        const dataTable =\n",
              "          await google.colab.kernel.invokeFunction('convertToInteractive',\n",
              "                                                    [key], {});\n",
              "        if (!dataTable) return;\n",
              "\n",
              "        const docLinkHtml = 'Like what you see? Visit the ' +\n",
              "          '<a target=\"_blank\" href=https://colab.research.google.com/notebooks/data_table.ipynb>data table notebook</a>'\n",
              "          + ' to learn more about interactive tables.';\n",
              "        element.innerHTML = '';\n",
              "        dataTable['output_type'] = 'display_data';\n",
              "        await google.colab.output.renderOutput(dataTable, element);\n",
              "        const docLink = document.createElement('div');\n",
              "        docLink.innerHTML = docLinkHtml;\n",
              "        element.appendChild(docLink);\n",
              "      }\n",
              "    </script>\n",
              "  </div>\n",
              "\n",
              "\n",
              "<div id=\"df-3790e341-2e97-459d-8b65-278d6417e571\">\n",
              "  <button class=\"colab-df-quickchart\" onclick=\"quickchart('df-3790e341-2e97-459d-8b65-278d6417e571')\"\n",
              "            title=\"Suggest charts\"\n",
              "            style=\"display:none;\">\n",
              "\n",
              "<svg xmlns=\"http://www.w3.org/2000/svg\" height=\"24px\"viewBox=\"0 0 24 24\"\n",
              "     width=\"24px\">\n",
              "    <g>\n",
              "        <path d=\"M19 3H5c-1.1 0-2 .9-2 2v14c0 1.1.9 2 2 2h14c1.1 0 2-.9 2-2V5c0-1.1-.9-2-2-2zM9 17H7v-7h2v7zm4 0h-2V7h2v10zm4 0h-2v-4h2v4z\"/>\n",
              "    </g>\n",
              "</svg>\n",
              "  </button>\n",
              "\n",
              "<style>\n",
              "  .colab-df-quickchart {\n",
              "      --bg-color: #E8F0FE;\n",
              "      --fill-color: #1967D2;\n",
              "      --hover-bg-color: #E2EBFA;\n",
              "      --hover-fill-color: #174EA6;\n",
              "      --disabled-fill-color: #AAA;\n",
              "      --disabled-bg-color: #DDD;\n",
              "  }\n",
              "\n",
              "  [theme=dark] .colab-df-quickchart {\n",
              "      --bg-color: #3B4455;\n",
              "      --fill-color: #D2E3FC;\n",
              "      --hover-bg-color: #434B5C;\n",
              "      --hover-fill-color: #FFFFFF;\n",
              "      --disabled-bg-color: #3B4455;\n",
              "      --disabled-fill-color: #666;\n",
              "  }\n",
              "\n",
              "  .colab-df-quickchart {\n",
              "    background-color: var(--bg-color);\n",
              "    border: none;\n",
              "    border-radius: 50%;\n",
              "    cursor: pointer;\n",
              "    display: none;\n",
              "    fill: var(--fill-color);\n",
              "    height: 32px;\n",
              "    padding: 0;\n",
              "    width: 32px;\n",
              "  }\n",
              "\n",
              "  .colab-df-quickchart:hover {\n",
              "    background-color: var(--hover-bg-color);\n",
              "    box-shadow: 0 1px 2px rgba(60, 64, 67, 0.3), 0 1px 3px 1px rgba(60, 64, 67, 0.15);\n",
              "    fill: var(--button-hover-fill-color);\n",
              "  }\n",
              "\n",
              "  .colab-df-quickchart-complete:disabled,\n",
              "  .colab-df-quickchart-complete:disabled:hover {\n",
              "    background-color: var(--disabled-bg-color);\n",
              "    fill: var(--disabled-fill-color);\n",
              "    box-shadow: none;\n",
              "  }\n",
              "\n",
              "  .colab-df-spinner {\n",
              "    border: 2px solid var(--fill-color);\n",
              "    border-color: transparent;\n",
              "    border-bottom-color: var(--fill-color);\n",
              "    animation:\n",
              "      spin 1s steps(1) infinite;\n",
              "  }\n",
              "\n",
              "  @keyframes spin {\n",
              "    0% {\n",
              "      border-color: transparent;\n",
              "      border-bottom-color: var(--fill-color);\n",
              "      border-left-color: var(--fill-color);\n",
              "    }\n",
              "    20% {\n",
              "      border-color: transparent;\n",
              "      border-left-color: var(--fill-color);\n",
              "      border-top-color: var(--fill-color);\n",
              "    }\n",
              "    30% {\n",
              "      border-color: transparent;\n",
              "      border-left-color: var(--fill-color);\n",
              "      border-top-color: var(--fill-color);\n",
              "      border-right-color: var(--fill-color);\n",
              "    }\n",
              "    40% {\n",
              "      border-color: transparent;\n",
              "      border-right-color: var(--fill-color);\n",
              "      border-top-color: var(--fill-color);\n",
              "    }\n",
              "    60% {\n",
              "      border-color: transparent;\n",
              "      border-right-color: var(--fill-color);\n",
              "    }\n",
              "    80% {\n",
              "      border-color: transparent;\n",
              "      border-right-color: var(--fill-color);\n",
              "      border-bottom-color: var(--fill-color);\n",
              "    }\n",
              "    90% {\n",
              "      border-color: transparent;\n",
              "      border-bottom-color: var(--fill-color);\n",
              "    }\n",
              "  }\n",
              "</style>\n",
              "\n",
              "  <script>\n",
              "    async function quickchart(key) {\n",
              "      const quickchartButtonEl =\n",
              "        document.querySelector('#' + key + ' button');\n",
              "      quickchartButtonEl.disabled = true;  // To prevent multiple clicks.\n",
              "      quickchartButtonEl.classList.add('colab-df-spinner');\n",
              "      try {\n",
              "        const charts = await google.colab.kernel.invokeFunction(\n",
              "            'suggestCharts', [key], {});\n",
              "      } catch (error) {\n",
              "        console.error('Error during call to suggestCharts:', error);\n",
              "      }\n",
              "      quickchartButtonEl.classList.remove('colab-df-spinner');\n",
              "      quickchartButtonEl.classList.add('colab-df-quickchart-complete');\n",
              "    }\n",
              "    (() => {\n",
              "      let quickchartButtonEl =\n",
              "        document.querySelector('#df-3790e341-2e97-459d-8b65-278d6417e571 button');\n",
              "      quickchartButtonEl.style.display =\n",
              "        google.colab.kernel.accessAllowed ? 'block' : 'none';\n",
              "    })();\n",
              "  </script>\n",
              "</div>\n",
              "\n",
              "    </div>\n",
              "  </div>\n"
            ],
            "text/plain": [
              "   serum_creatinine  ejection_fraction  death_event\n",
              "0              1.20               15.0            1\n",
              "1              2.50               38.0            1\n",
              "2              1.50               30.0            1\n",
              "3              0.70               30.0            0\n",
              "4              1.83               38.0            1"
            ]
          },
          "execution_count": 30,
          "metadata": {},
          "output_type": "execute_result"
        }
      ],
      "source": [
        "# ambil hanya 2 fitur serum_creatinine dan ejection_fraction\n",
        "df_2_fitur = df_smote[['serum_creatinine','ejection_fraction', 'death_event']]\n",
        "df_2_fitur.head()"
      ]
    },
    {
      "cell_type": "markdown",
      "metadata": {
        "id": "MP9DhDBJapHT"
      },
      "source": [
        ">Setelah mengambil dua fitur, dapat terjadi perubahan jumlah duplikasi data sehingga perlu dilakukan pengecakan kembali apakah data pada dua fitur sudah bersih dari duplikasi data atau belum"
      ]
    },
    {
      "cell_type": "code",
      "execution_count": null,
      "metadata": {
        "colab": {
          "base_uri": "https://localhost:8080/"
        },
        "id": "KC8iA0kbaig7",
        "outputId": "29196abd-c84b-4c70-e3ee-edd50c8e4efa"
      },
      "outputs": [
        {
          "data": {
            "text/plain": [
              "103"
            ]
          },
          "execution_count": 31,
          "metadata": {},
          "output_type": "execute_result"
        }
      ],
      "source": [
        "# Memeriksa data duplikat\n",
        "df_2_fitur.duplicated().sum()"
      ]
    },
    {
      "cell_type": "markdown",
      "metadata": {
        "id": "zbwk4tk8anhT"
      },
      "source": [
        "> Terlihat bahwa pada data dengan 2 fitur memiliki data duplikat sehingga dibutuhkan handle data duplikat"
      ]
    },
    {
      "cell_type": "code",
      "execution_count": null,
      "metadata": {
        "colab": {
          "base_uri": "https://localhost:8080/"
        },
        "id": "QZjSXsUFciQV",
        "outputId": "8ee1b303-81b6-49f0-e8ba-3ff4536b0d8b"
      },
      "outputs": [
        {
          "name": "stderr",
          "output_type": "stream",
          "text": [
            "<ipython-input-32-3720f92ad4ed>:2: SettingWithCopyWarning: \n",
            "A value is trying to be set on a copy of a slice from a DataFrame\n",
            "\n",
            "See the caveats in the documentation: https://pandas.pydata.org/pandas-docs/stable/user_guide/indexing.html#returning-a-view-versus-a-copy\n",
            "  df_2_fitur.drop_duplicates(inplace=True)\n"
          ]
        }
      ],
      "source": [
        "# Proses handle data duplikat\n",
        "df_2_fitur.drop_duplicates(inplace=True)"
      ]
    },
    {
      "cell_type": "code",
      "execution_count": null,
      "metadata": {
        "colab": {
          "base_uri": "https://localhost:8080/"
        },
        "id": "KRuEBkPccrG7",
        "outputId": "514b4fae-8641-415a-e0ff-6676ac916241"
      },
      "outputs": [
        {
          "data": {
            "text/plain": [
              "0"
            ]
          },
          "execution_count": 33,
          "metadata": {},
          "output_type": "execute_result"
        }
      ],
      "source": [
        "# Memeriksa kembali apakah data telah bersih dari duplikat data\n",
        "df_2_fitur.duplicated().sum()"
      ]
    },
    {
      "cell_type": "markdown",
      "metadata": {
        "id": "jhQHT11DcxbV"
      },
      "source": [
        "> Sudah tidak ditemukan data duplikat"
      ]
    },
    {
      "cell_type": "markdown",
      "metadata": {
        "id": "1KBK5YB6aeLq"
      },
      "source": [
        "####12 Fitur"
      ]
    },
    {
      "cell_type": "code",
      "execution_count": null,
      "metadata": {
        "colab": {
          "base_uri": "https://localhost:8080/",
          "height": 206
        },
        "id": "iX6Vw0nzkPTI",
        "outputId": "b058cb0a-723d-49fe-dfcc-96c44f95c997"
      },
      "outputs": [
        {
          "data": {
            "application/vnd.google.colaboratory.intrinsic+json": {
              "summary": "{\n  \"name\": \"df_all_fitur\",\n  \"rows\": 336,\n  \"fields\": [\n    {\n      \"column\": \"age\",\n      \"properties\": {\n        \"dtype\": \"number\",\n        \"std\": 11.139135311513346,\n        \"min\": 40.0,\n        \"max\": 95.0,\n        \"num_unique_values\": 141,\n        \"samples\": [\n          64.64470191493237,\n          53.23202932020755,\n          69.0\n        ],\n        \"semantic_type\": \"\",\n        \"description\": \"\"\n      }\n    },\n    {\n      \"column\": \"anemia\",\n      \"properties\": {\n        \"dtype\": \"number\",\n        \"std\": 0,\n        \"min\": 0,\n        \"max\": 1,\n        \"num_unique_values\": 2,\n        \"samples\": [\n          0,\n          1\n        ],\n        \"semantic_type\": \"\",\n        \"description\": \"\"\n      }\n    },\n    {\n      \"column\": \"creatinine_phosphokinase\",\n      \"properties\": {\n        \"dtype\": \"number\",\n        \"std\": 970.5527669948515,\n        \"min\": 23.0,\n        \"max\": 7861.0,\n        \"num_unique_values\": 266,\n        \"samples\": [\n          308.3585073373225,\n          63.0\n        ],\n        \"semantic_type\": \"\",\n        \"description\": \"\"\n      }\n    },\n    {\n      \"column\": \"diabetes\",\n      \"properties\": {\n        \"dtype\": \"number\",\n        \"std\": 0,\n        \"min\": 0,\n        \"max\": 1,\n        \"num_unique_values\": 2,\n        \"samples\": [\n          1,\n          0\n        ],\n        \"semantic_type\": \"\",\n        \"description\": \"\"\n      }\n    },\n    {\n      \"column\": \"ejection_fraction\",\n      \"properties\": {\n        \"dtype\": \"number\",\n        \"std\": 11.313588811042397,\n        \"min\": 15.0,\n        \"max\": 80.0,\n        \"num_unique_values\": 107,\n        \"samples\": [\n          30.151956019688672,\n          45.0\n        ],\n        \"semantic_type\": \"\",\n        \"description\": \"\"\n      }\n    },\n    {\n      \"column\": \"high_blood_pressure\",\n      \"properties\": {\n        \"dtype\": \"number\",\n        \"std\": 0,\n        \"min\": 0,\n        \"max\": 1,\n        \"num_unique_values\": 2,\n        \"samples\": [\n          1,\n          0\n        ],\n        \"semantic_type\": \"\",\n        \"description\": \"\"\n      }\n    },\n    {\n      \"column\": \"platelets\",\n      \"properties\": {\n        \"dtype\": \"number\",\n        \"std\": 92315.09888474426,\n        \"min\": 47000.0,\n        \"max\": 742000.0,\n        \"num_unique_values\": 216,\n        \"samples\": [\n          300513.92099418095,\n          217317.58003528608\n        ],\n        \"semantic_type\": \"\",\n        \"description\": \"\"\n      }\n    },\n    {\n      \"column\": \"serum_creatinine\",\n      \"properties\": {\n        \"dtype\": \"number\",\n        \"std\": 1.0617863739837339,\n        \"min\": 0.5,\n        \"max\": 9.0,\n        \"num_unique_values\": 130,\n        \"samples\": [\n          1.3142957891049796,\n          2.6394008580522934\n        ],\n        \"semantic_type\": \"\",\n        \"description\": \"\"\n      }\n    },\n    {\n      \"column\": \"serum_sodium\",\n      \"properties\": {\n        \"dtype\": \"number\",\n        \"std\": 4,\n        \"min\": 113,\n        \"max\": 146,\n        \"num_unique_values\": 27,\n        \"samples\": [\n          124,\n          121\n        ],\n        \"semantic_type\": \"\",\n        \"description\": \"\"\n      }\n    },\n    {\n      \"column\": \"sex\",\n      \"properties\": {\n        \"dtype\": \"number\",\n        \"std\": 0,\n        \"min\": 0,\n        \"max\": 1,\n        \"num_unique_values\": 2,\n        \"samples\": [\n          0,\n          1\n        ],\n        \"semantic_type\": \"\",\n        \"description\": \"\"\n      }\n    },\n    {\n      \"column\": \"smoking\",\n      \"properties\": {\n        \"dtype\": \"number\",\n        \"std\": 0.43687406425262115,\n        \"min\": 0.0,\n        \"max\": 1.0,\n        \"num_unique_values\": 47,\n        \"samples\": [\n          0.48925269742243427,\n          0.9856504541106007\n        ],\n        \"semantic_type\": \"\",\n        \"description\": \"\"\n      }\n    },\n    {\n      \"column\": \"time\",\n      \"properties\": {\n        \"dtype\": \"number\",\n        \"std\": 78,\n        \"min\": 4,\n        \"max\": 285,\n        \"num_unique_values\": 166,\n        \"samples\": [\n          33,\n          51\n        ],\n        \"semantic_type\": \"\",\n        \"description\": \"\"\n      }\n    },\n    {\n      \"column\": \"death_event\",\n      \"properties\": {\n        \"dtype\": \"number\",\n        \"std\": 0,\n        \"min\": 0,\n        \"max\": 1,\n        \"num_unique_values\": 2,\n        \"samples\": [\n          0,\n          1\n        ],\n        \"semantic_type\": \"\",\n        \"description\": \"\"\n      }\n    }\n  ]\n}",
              "type": "dataframe",
              "variable_name": "df_all_fitur"
            },
            "text/html": [
              "\n",
              "  <div id=\"df-834c1e0b-7ed2-4e61-881d-10be3a0d8271\" class=\"colab-df-container\">\n",
              "    <div>\n",
              "<style scoped>\n",
              "    .dataframe tbody tr th:only-of-type {\n",
              "        vertical-align: middle;\n",
              "    }\n",
              "\n",
              "    .dataframe tbody tr th {\n",
              "        vertical-align: top;\n",
              "    }\n",
              "\n",
              "    .dataframe thead th {\n",
              "        text-align: right;\n",
              "    }\n",
              "</style>\n",
              "<table border=\"1\" class=\"dataframe\">\n",
              "  <thead>\n",
              "    <tr style=\"text-align: right;\">\n",
              "      <th></th>\n",
              "      <th>age</th>\n",
              "      <th>anemia</th>\n",
              "      <th>creatinine_phosphokinase</th>\n",
              "      <th>diabetes</th>\n",
              "      <th>ejection_fraction</th>\n",
              "      <th>high_blood_pressure</th>\n",
              "      <th>platelets</th>\n",
              "      <th>serum_creatinine</th>\n",
              "      <th>serum_sodium</th>\n",
              "      <th>sex</th>\n",
              "      <th>smoking</th>\n",
              "      <th>time</th>\n",
              "      <th>death_event</th>\n",
              "    </tr>\n",
              "  </thead>\n",
              "  <tbody>\n",
              "    <tr>\n",
              "      <th>0</th>\n",
              "      <td>75.000</td>\n",
              "      <td>1</td>\n",
              "      <td>246.0</td>\n",
              "      <td>0</td>\n",
              "      <td>15.0</td>\n",
              "      <td>0</td>\n",
              "      <td>127000.000000</td>\n",
              "      <td>1.20</td>\n",
              "      <td>137</td>\n",
              "      <td>1</td>\n",
              "      <td>0.0</td>\n",
              "      <td>10</td>\n",
              "      <td>1</td>\n",
              "    </tr>\n",
              "    <tr>\n",
              "      <th>1</th>\n",
              "      <td>75.000</td>\n",
              "      <td>0</td>\n",
              "      <td>99.0</td>\n",
              "      <td>0</td>\n",
              "      <td>38.0</td>\n",
              "      <td>1</td>\n",
              "      <td>224000.000000</td>\n",
              "      <td>2.50</td>\n",
              "      <td>134</td>\n",
              "      <td>1</td>\n",
              "      <td>0.0</td>\n",
              "      <td>162</td>\n",
              "      <td>1</td>\n",
              "    </tr>\n",
              "    <tr>\n",
              "      <th>2</th>\n",
              "      <td>60.667</td>\n",
              "      <td>1</td>\n",
              "      <td>104.0</td>\n",
              "      <td>1</td>\n",
              "      <td>30.0</td>\n",
              "      <td>0</td>\n",
              "      <td>261182.344796</td>\n",
              "      <td>1.50</td>\n",
              "      <td>136</td>\n",
              "      <td>1</td>\n",
              "      <td>0.0</td>\n",
              "      <td>171</td>\n",
              "      <td>1</td>\n",
              "    </tr>\n",
              "    <tr>\n",
              "      <th>3</th>\n",
              "      <td>52.000</td>\n",
              "      <td>0</td>\n",
              "      <td>132.0</td>\n",
              "      <td>0</td>\n",
              "      <td>30.0</td>\n",
              "      <td>0</td>\n",
              "      <td>218000.000000</td>\n",
              "      <td>0.70</td>\n",
              "      <td>136</td>\n",
              "      <td>1</td>\n",
              "      <td>1.0</td>\n",
              "      <td>112</td>\n",
              "      <td>0</td>\n",
              "    </tr>\n",
              "    <tr>\n",
              "      <th>4</th>\n",
              "      <td>94.000</td>\n",
              "      <td>0</td>\n",
              "      <td>582.0</td>\n",
              "      <td>1</td>\n",
              "      <td>38.0</td>\n",
              "      <td>1</td>\n",
              "      <td>263358.030000</td>\n",
              "      <td>1.83</td>\n",
              "      <td>134</td>\n",
              "      <td>1</td>\n",
              "      <td>0.0</td>\n",
              "      <td>27</td>\n",
              "      <td>1</td>\n",
              "    </tr>\n",
              "  </tbody>\n",
              "</table>\n",
              "</div>\n",
              "    <div class=\"colab-df-buttons\">\n",
              "\n",
              "  <div class=\"colab-df-container\">\n",
              "    <button class=\"colab-df-convert\" onclick=\"convertToInteractive('df-834c1e0b-7ed2-4e61-881d-10be3a0d8271')\"\n",
              "            title=\"Convert this dataframe to an interactive table.\"\n",
              "            style=\"display:none;\">\n",
              "\n",
              "  <svg xmlns=\"http://www.w3.org/2000/svg\" height=\"24px\" viewBox=\"0 -960 960 960\">\n",
              "    <path d=\"M120-120v-720h720v720H120Zm60-500h600v-160H180v160Zm220 220h160v-160H400v160Zm0 220h160v-160H400v160ZM180-400h160v-160H180v160Zm440 0h160v-160H620v160ZM180-180h160v-160H180v160Zm440 0h160v-160H620v160Z\"/>\n",
              "  </svg>\n",
              "    </button>\n",
              "\n",
              "  <style>\n",
              "    .colab-df-container {\n",
              "      display:flex;\n",
              "      gap: 12px;\n",
              "    }\n",
              "\n",
              "    .colab-df-convert {\n",
              "      background-color: #E8F0FE;\n",
              "      border: none;\n",
              "      border-radius: 50%;\n",
              "      cursor: pointer;\n",
              "      display: none;\n",
              "      fill: #1967D2;\n",
              "      height: 32px;\n",
              "      padding: 0 0 0 0;\n",
              "      width: 32px;\n",
              "    }\n",
              "\n",
              "    .colab-df-convert:hover {\n",
              "      background-color: #E2EBFA;\n",
              "      box-shadow: 0px 1px 2px rgba(60, 64, 67, 0.3), 0px 1px 3px 1px rgba(60, 64, 67, 0.15);\n",
              "      fill: #174EA6;\n",
              "    }\n",
              "\n",
              "    .colab-df-buttons div {\n",
              "      margin-bottom: 4px;\n",
              "    }\n",
              "\n",
              "    [theme=dark] .colab-df-convert {\n",
              "      background-color: #3B4455;\n",
              "      fill: #D2E3FC;\n",
              "    }\n",
              "\n",
              "    [theme=dark] .colab-df-convert:hover {\n",
              "      background-color: #434B5C;\n",
              "      box-shadow: 0px 1px 3px 1px rgba(0, 0, 0, 0.15);\n",
              "      filter: drop-shadow(0px 1px 2px rgba(0, 0, 0, 0.3));\n",
              "      fill: #FFFFFF;\n",
              "    }\n",
              "  </style>\n",
              "\n",
              "    <script>\n",
              "      const buttonEl =\n",
              "        document.querySelector('#df-834c1e0b-7ed2-4e61-881d-10be3a0d8271 button.colab-df-convert');\n",
              "      buttonEl.style.display =\n",
              "        google.colab.kernel.accessAllowed ? 'block' : 'none';\n",
              "\n",
              "      async function convertToInteractive(key) {\n",
              "        const element = document.querySelector('#df-834c1e0b-7ed2-4e61-881d-10be3a0d8271');\n",
              "        const dataTable =\n",
              "          await google.colab.kernel.invokeFunction('convertToInteractive',\n",
              "                                                    [key], {});\n",
              "        if (!dataTable) return;\n",
              "\n",
              "        const docLinkHtml = 'Like what you see? Visit the ' +\n",
              "          '<a target=\"_blank\" href=https://colab.research.google.com/notebooks/data_table.ipynb>data table notebook</a>'\n",
              "          + ' to learn more about interactive tables.';\n",
              "        element.innerHTML = '';\n",
              "        dataTable['output_type'] = 'display_data';\n",
              "        await google.colab.output.renderOutput(dataTable, element);\n",
              "        const docLink = document.createElement('div');\n",
              "        docLink.innerHTML = docLinkHtml;\n",
              "        element.appendChild(docLink);\n",
              "      }\n",
              "    </script>\n",
              "  </div>\n",
              "\n",
              "\n",
              "<div id=\"df-54d965a0-a5df-40ba-83de-a6e6755650d6\">\n",
              "  <button class=\"colab-df-quickchart\" onclick=\"quickchart('df-54d965a0-a5df-40ba-83de-a6e6755650d6')\"\n",
              "            title=\"Suggest charts\"\n",
              "            style=\"display:none;\">\n",
              "\n",
              "<svg xmlns=\"http://www.w3.org/2000/svg\" height=\"24px\"viewBox=\"0 0 24 24\"\n",
              "     width=\"24px\">\n",
              "    <g>\n",
              "        <path d=\"M19 3H5c-1.1 0-2 .9-2 2v14c0 1.1.9 2 2 2h14c1.1 0 2-.9 2-2V5c0-1.1-.9-2-2-2zM9 17H7v-7h2v7zm4 0h-2V7h2v10zm4 0h-2v-4h2v4z\"/>\n",
              "    </g>\n",
              "</svg>\n",
              "  </button>\n",
              "\n",
              "<style>\n",
              "  .colab-df-quickchart {\n",
              "      --bg-color: #E8F0FE;\n",
              "      --fill-color: #1967D2;\n",
              "      --hover-bg-color: #E2EBFA;\n",
              "      --hover-fill-color: #174EA6;\n",
              "      --disabled-fill-color: #AAA;\n",
              "      --disabled-bg-color: #DDD;\n",
              "  }\n",
              "\n",
              "  [theme=dark] .colab-df-quickchart {\n",
              "      --bg-color: #3B4455;\n",
              "      --fill-color: #D2E3FC;\n",
              "      --hover-bg-color: #434B5C;\n",
              "      --hover-fill-color: #FFFFFF;\n",
              "      --disabled-bg-color: #3B4455;\n",
              "      --disabled-fill-color: #666;\n",
              "  }\n",
              "\n",
              "  .colab-df-quickchart {\n",
              "    background-color: var(--bg-color);\n",
              "    border: none;\n",
              "    border-radius: 50%;\n",
              "    cursor: pointer;\n",
              "    display: none;\n",
              "    fill: var(--fill-color);\n",
              "    height: 32px;\n",
              "    padding: 0;\n",
              "    width: 32px;\n",
              "  }\n",
              "\n",
              "  .colab-df-quickchart:hover {\n",
              "    background-color: var(--hover-bg-color);\n",
              "    box-shadow: 0 1px 2px rgba(60, 64, 67, 0.3), 0 1px 3px 1px rgba(60, 64, 67, 0.15);\n",
              "    fill: var(--button-hover-fill-color);\n",
              "  }\n",
              "\n",
              "  .colab-df-quickchart-complete:disabled,\n",
              "  .colab-df-quickchart-complete:disabled:hover {\n",
              "    background-color: var(--disabled-bg-color);\n",
              "    fill: var(--disabled-fill-color);\n",
              "    box-shadow: none;\n",
              "  }\n",
              "\n",
              "  .colab-df-spinner {\n",
              "    border: 2px solid var(--fill-color);\n",
              "    border-color: transparent;\n",
              "    border-bottom-color: var(--fill-color);\n",
              "    animation:\n",
              "      spin 1s steps(1) infinite;\n",
              "  }\n",
              "\n",
              "  @keyframes spin {\n",
              "    0% {\n",
              "      border-color: transparent;\n",
              "      border-bottom-color: var(--fill-color);\n",
              "      border-left-color: var(--fill-color);\n",
              "    }\n",
              "    20% {\n",
              "      border-color: transparent;\n",
              "      border-left-color: var(--fill-color);\n",
              "      border-top-color: var(--fill-color);\n",
              "    }\n",
              "    30% {\n",
              "      border-color: transparent;\n",
              "      border-left-color: var(--fill-color);\n",
              "      border-top-color: var(--fill-color);\n",
              "      border-right-color: var(--fill-color);\n",
              "    }\n",
              "    40% {\n",
              "      border-color: transparent;\n",
              "      border-right-color: var(--fill-color);\n",
              "      border-top-color: var(--fill-color);\n",
              "    }\n",
              "    60% {\n",
              "      border-color: transparent;\n",
              "      border-right-color: var(--fill-color);\n",
              "    }\n",
              "    80% {\n",
              "      border-color: transparent;\n",
              "      border-right-color: var(--fill-color);\n",
              "      border-bottom-color: var(--fill-color);\n",
              "    }\n",
              "    90% {\n",
              "      border-color: transparent;\n",
              "      border-bottom-color: var(--fill-color);\n",
              "    }\n",
              "  }\n",
              "</style>\n",
              "\n",
              "  <script>\n",
              "    async function quickchart(key) {\n",
              "      const quickchartButtonEl =\n",
              "        document.querySelector('#' + key + ' button');\n",
              "      quickchartButtonEl.disabled = true;  // To prevent multiple clicks.\n",
              "      quickchartButtonEl.classList.add('colab-df-spinner');\n",
              "      try {\n",
              "        const charts = await google.colab.kernel.invokeFunction(\n",
              "            'suggestCharts', [key], {});\n",
              "      } catch (error) {\n",
              "        console.error('Error during call to suggestCharts:', error);\n",
              "      }\n",
              "      quickchartButtonEl.classList.remove('colab-df-spinner');\n",
              "      quickchartButtonEl.classList.add('colab-df-quickchart-complete');\n",
              "    }\n",
              "    (() => {\n",
              "      let quickchartButtonEl =\n",
              "        document.querySelector('#df-54d965a0-a5df-40ba-83de-a6e6755650d6 button');\n",
              "      quickchartButtonEl.style.display =\n",
              "        google.colab.kernel.accessAllowed ? 'block' : 'none';\n",
              "    })();\n",
              "  </script>\n",
              "</div>\n",
              "\n",
              "    </div>\n",
              "  </div>\n"
            ],
            "text/plain": [
              "      age  anemia  creatinine_phosphokinase  diabetes  ejection_fraction  \\\n",
              "0  75.000       1                     246.0         0               15.0   \n",
              "1  75.000       0                      99.0         0               38.0   \n",
              "2  60.667       1                     104.0         1               30.0   \n",
              "3  52.000       0                     132.0         0               30.0   \n",
              "4  94.000       0                     582.0         1               38.0   \n",
              "\n",
              "   high_blood_pressure      platelets  serum_creatinine  serum_sodium  sex  \\\n",
              "0                    0  127000.000000              1.20           137    1   \n",
              "1                    1  224000.000000              2.50           134    1   \n",
              "2                    0  261182.344796              1.50           136    1   \n",
              "3                    0  218000.000000              0.70           136    1   \n",
              "4                    1  263358.030000              1.83           134    1   \n",
              "\n",
              "   smoking  time  death_event  \n",
              "0      0.0    10            1  \n",
              "1      0.0   162            1  \n",
              "2      0.0   171            1  \n",
              "3      1.0   112            0  \n",
              "4      0.0    27            1  "
            ]
          },
          "execution_count": 34,
          "metadata": {},
          "output_type": "execute_result"
        }
      ],
      "source": [
        "# ambil semua fitur\n",
        "df_all_fitur = df_smote\n",
        "df_all_fitur.head()"
      ]
    },
    {
      "cell_type": "markdown",
      "metadata": {
        "id": "9pmDKoCJkgHM"
      },
      "source": [
        "## BAB 7 – (J.62DMI00.010.1) menentukan label data"
      ]
    },
    {
      "cell_type": "markdown",
      "metadata": {
        "id": "7dfdUkdHkwWq"
      },
      "source": [
        "- Gunakan 2 nama variabel yang berbeda untuk proses splitting dataset baik untuk X,y,train,test contoh :    \n",
        "  - `X_2_fitur` = Untuk menampung dataset yang akan dimodelkan menggunakan hanya 2 kolom utama.\n",
        "  - `y_2_fitur` = Untuk menampung target / kelas yang akan diprediksi pada model dengan 2 kolom utama.\n",
        "  - `X_2_train`,`X_2_test`, `y_2_train`, `y_2_test` = untuk menampung data yang dihasilkan `train_test_split` menggunakan `X_2_fitur` dan `y_2_fitur`\n",
        "\n",
        "  - `X_all_fitur` = Untuk menampung semua dataset yang akan dimodelkan menggunakan.\n",
        "  - `y_all_fitur` = Untuk menampung target / kelas yang akan diprediksi pada model dengan semua dataset.\n",
        "  - `X_all_train`,`X_all_test`, `y_all_train`, `y_all_test` = untuk menampung data yang dihasilkan `train_test_split` menggunakan `X_all_fitur` dan `y_all_fitur`\n"
      ]
    },
    {
      "cell_type": "markdown",
      "metadata": {
        "id": "PA-WFyA3kjdy"
      },
      "source": [
        "- yang menjadi target adalah: 'death_event'\n",
        "- yang menjadi fitur pada df_2_fitur adalah : 'serum_creatinine dan ejection_fraction'\n",
        "- yang menjadi fitur pada df_all_fitur adalah : 'age, anemia, creatinine_phosphokinase, diabetes, ejection_fraction, high_blood_pressure, platelets\tserum_creatinine, serum_sodium, sex, smoking, dan time'"
      ]
    },
    {
      "cell_type": "code",
      "execution_count": null,
      "metadata": {
        "id": "s_Zxco5RkhJU"
      },
      "outputs": [],
      "source": [
        "from sklearn.model_selection import train_test_split\n",
        "from sklearn.preprocessing import RobustScaler"
      ]
    },
    {
      "cell_type": "code",
      "execution_count": null,
      "metadata": {
        "id": "rmhVvJv0krLe"
      },
      "outputs": [],
      "source": [
        "# Memisahkan fitur dan target dataset 2 fitur\n",
        "X_2_fitur = df_2_fitur.drop('death_event', axis = 1)\n",
        "y_2_fitur = df_2_fitur['death_event']"
      ]
    },
    {
      "cell_type": "code",
      "execution_count": null,
      "metadata": {
        "id": "o0qAkO02mr05"
      },
      "outputs": [],
      "source": [
        "# Memisahkan fitur dan target dataset all fitur\n",
        "X_all_fitur = df_all_fitur.drop('death_event', axis = 1)\n",
        "y_all_fitur = df_all_fitur['death_event']"
      ]
    },
    {
      "cell_type": "markdown",
      "metadata": {
        "id": "LSJXlt3I0ndM"
      },
      "source": [
        "###Normalisasi Data"
      ]
    },
    {
      "cell_type": "markdown",
      "metadata": {
        "id": "dF7ZVb28l9dK"
      },
      "source": [
        "- ANDA PERLU MELAKUKAN NORMALISASI DISINI"
      ]
    },
    {
      "cell_type": "markdown",
      "metadata": {
        "id": "3hGlVkyNjKnS"
      },
      "source": [
        "> Sebelum dilakukan normalisasi, perlu dicek apakah normalisasi diperlukan atau tidak dengan cara melihat nilai rentang pada setiap kolom"
      ]
    },
    {
      "cell_type": "code",
      "execution_count": null,
      "metadata": {
        "colab": {
          "base_uri": "https://localhost:8080/"
        },
        "id": "WGpqIuAGkCed",
        "outputId": "e53bc687-f237-4089-8c94-ad86293fe2b4"
      },
      "outputs": [
        {
          "name": "stdout",
          "output_type": "stream",
          "text": [
            "Rentang Nilai pada kolom df_2_fitur 'serum_creatinine':\n",
            "Nilai Minimum: 0.5\n",
            "Nilai Maksimum: 9.0\n",
            "\n",
            "Rentang Nilai pada kolom df_2_fitur 'ejection_fraction':\n",
            "Nilai Minimum: 15.0\n",
            "Nilai Maksimum: 80.0\n",
            "\n",
            "Rentang Nilai pada kolom df_2_fitur 'death_event':\n",
            "Nilai Minimum: 0\n",
            "Nilai Maksimum: 1\n",
            "\n"
          ]
        }
      ],
      "source": [
        "# Melihat nilai rentang di setiap kolom pada data df_2_fitur\n",
        "for col in df_2_fitur.columns:\n",
        "    print(f\"Rentang Nilai pada kolom df_2_fitur '{col}':\")\n",
        "    print(f\"Nilai Minimum: {df_2_fitur[col].min()}\")\n",
        "    print(f\"Nilai Maksimum: {df_2_fitur[col].max()}\")\n",
        "    print()"
      ]
    },
    {
      "cell_type": "code",
      "execution_count": null,
      "metadata": {
        "colab": {
          "base_uri": "https://localhost:8080/"
        },
        "id": "wYC_oyHRkSL6",
        "outputId": "7df71005-1d20-44a7-dd35-762c527e3d3d"
      },
      "outputs": [
        {
          "name": "stdout",
          "output_type": "stream",
          "text": [
            "Rentang Nilai pada kolom df_all_fitur 'age':\n",
            "Nilai Minimum: 40.0\n",
            "Nilai Maksimum: 95.0\n",
            "\n",
            "Rentang Nilai pada kolom df_all_fitur 'anemia':\n",
            "Nilai Minimum: 0\n",
            "Nilai Maksimum: 1\n",
            "\n",
            "Rentang Nilai pada kolom df_all_fitur 'creatinine_phosphokinase':\n",
            "Nilai Minimum: 23.0\n",
            "Nilai Maksimum: 7861.0\n",
            "\n",
            "Rentang Nilai pada kolom df_all_fitur 'diabetes':\n",
            "Nilai Minimum: 0\n",
            "Nilai Maksimum: 1\n",
            "\n",
            "Rentang Nilai pada kolom df_all_fitur 'ejection_fraction':\n",
            "Nilai Minimum: 15.0\n",
            "Nilai Maksimum: 80.0\n",
            "\n",
            "Rentang Nilai pada kolom df_all_fitur 'high_blood_pressure':\n",
            "Nilai Minimum: 0\n",
            "Nilai Maksimum: 1\n",
            "\n",
            "Rentang Nilai pada kolom df_all_fitur 'platelets':\n",
            "Nilai Minimum: 47000.0\n",
            "Nilai Maksimum: 742000.0\n",
            "\n",
            "Rentang Nilai pada kolom df_all_fitur 'serum_creatinine':\n",
            "Nilai Minimum: 0.5\n",
            "Nilai Maksimum: 9.0\n",
            "\n",
            "Rentang Nilai pada kolom df_all_fitur 'serum_sodium':\n",
            "Nilai Minimum: 113\n",
            "Nilai Maksimum: 146\n",
            "\n",
            "Rentang Nilai pada kolom df_all_fitur 'sex':\n",
            "Nilai Minimum: 0\n",
            "Nilai Maksimum: 1\n",
            "\n",
            "Rentang Nilai pada kolom df_all_fitur 'smoking':\n",
            "Nilai Minimum: 0.0\n",
            "Nilai Maksimum: 1.0\n",
            "\n",
            "Rentang Nilai pada kolom df_all_fitur 'time':\n",
            "Nilai Minimum: 4\n",
            "Nilai Maksimum: 285\n",
            "\n",
            "Rentang Nilai pada kolom df_all_fitur 'death_event':\n",
            "Nilai Minimum: 0\n",
            "Nilai Maksimum: 1\n",
            "\n"
          ]
        }
      ],
      "source": [
        "# Melihat nilai rentang di setiap kolom pada data df_all_fitur\n",
        "for col in df_all_fitur.columns:\n",
        "    print(f\"Rentang Nilai pada kolom df_all_fitur '{col}':\")\n",
        "    print(f\"Nilai Minimum: {df_all_fitur[col].min()}\")\n",
        "    print(f\"Nilai Maksimum: {df_all_fitur[col].max()}\")\n",
        "    print()"
      ]
    },
    {
      "cell_type": "markdown",
      "metadata": {
        "id": "mczOs0lkkeAW"
      },
      "source": [
        "> Melihat rentang kolom yang bervariasi, maka diputuskan untuk melakukan normalisasi pada data"
      ]
    },
    {
      "cell_type": "code",
      "execution_count": null,
      "metadata": {
        "id": "U5-3M0SUluwz"
      },
      "outputs": [],
      "source": [
        "# proses normalisasi / scalling\n",
        "robust_scaler = RobustScaler()\n",
        "\n",
        "X_2_fitur = robust_scaler.fit_transform(X_2_fitur)\n",
        "X_all_fitur = robust_scaler.fit_transform(X_all_fitur)"
      ]
    },
    {
      "cell_type": "markdown",
      "metadata": {
        "id": "JQVWT5VJmKd1"
      },
      "source": [
        "- LAKUKAN SPLITTING DISINI"
      ]
    },
    {
      "cell_type": "code",
      "execution_count": null,
      "metadata": {
        "colab": {
          "base_uri": "https://localhost:8080/"
        },
        "id": "QFG3PeyfmIn8",
        "outputId": "714f7a88-f0e2-4e4b-a516-3b1a52107587"
      },
      "outputs": [
        {
          "data": {
            "text/plain": [
              "((186, 2), (47, 2), (186,), (47,))"
            ]
          },
          "execution_count": 41,
          "metadata": {},
          "output_type": "execute_result"
        }
      ],
      "source": [
        "# Splitting data untuk dataset yang hanya menggunakan 2 fitur\n",
        "X_2_train, X_2_test, y_2_train, y_2_test = train_test_split(X_2_fitur, y_2_fitur, test_size=0.2, random_state=42)\n",
        "X_2_train.shape, X_2_test.shape, y_2_train.shape, y_2_test.shape"
      ]
    },
    {
      "cell_type": "code",
      "execution_count": null,
      "metadata": {
        "colab": {
          "base_uri": "https://localhost:8080/"
        },
        "id": "_Bc6OGFemWVe",
        "outputId": "cc591d4d-ba3f-47db-9f78-4ccbffbc0461"
      },
      "outputs": [
        {
          "data": {
            "text/plain": [
              "((268, 12), (68, 12), (268,), (68,))"
            ]
          },
          "execution_count": 42,
          "metadata": {},
          "output_type": "execute_result"
        }
      ],
      "source": [
        "# Splitting data untuk dataset yang menggunakan semua fitur\n",
        "X_all_train, X_all_test, y_all_train, y_all_test = train_test_split(X_all_fitur, y_all_fitur, test_size=0.2, random_state=42)\n",
        "X_all_train.shape, X_all_test.shape, y_all_train.shape, y_all_test.shape"
      ]
    },
    {
      "cell_type": "markdown",
      "metadata": {
        "id": "hukyz1XKG56f"
      },
      "source": [
        "- Dari pekerjaan Mengkonstruksi Data yang telah anda lakukan, bagaimana cara Anda menentukan fitur-fitur pada dataset anda perlu dinormalisasi atau tidak? : 'Penentuan apakah dataset perlu dinormalisasi atau tidak diputuskan berdasarkan rentang data yang terlihat bervariasi'"
      ]
    },
    {
      "cell_type": "markdown",
      "metadata": {
        "id": "pOd56ErQm89M"
      },
      "source": [
        "## BAB 8 – (J.62DMI00.013.1) membangun model\n",
        "- BANGUN MODEL DENGAN MENGGUNAKAN ALGORITMA KLASIFIKASI SEPERTI RANDOM FOREST (RF), K-NEAREST NEIGHBOUR (KNN), DAN LOGISTIC REGRESSION (LR) UNTUK KEDUA DATASET (HANYA 2 FITUR & MEMAKAI SEMUA FITUR)"
      ]
    },
    {
      "cell_type": "code",
      "execution_count": null,
      "metadata": {
        "id": "GXia2yNHmqEK"
      },
      "outputs": [],
      "source": [
        "# Import Library\n",
        "from sklearn.ensemble import RandomForestClassifier\n",
        "from sklearn.neighbors import KNeighborsClassifier\n",
        "from sklearn.linear_model import LogisticRegression\n",
        "from sklearn.metrics import classification_report, accuracy_score, confusion_matrix"
      ]
    },
    {
      "cell_type": "code",
      "execution_count": null,
      "metadata": {
        "id": "aeJvVj1XnLSq"
      },
      "outputs": [],
      "source": [
        "rf_model_2_fitur = RandomForestClassifier(random_state=42)\n",
        "knn_model_2_fitur = KNeighborsClassifier()\n",
        "lr_model_2_fitur = LogisticRegression(random_state=42)\n",
        "\n",
        "rf_model_all_fitur = RandomForestClassifier(random_state=42)\n",
        "knn_model_all_fitur = KNeighborsClassifier()\n",
        "lr_model_all_fitur = LogisticRegression(random_state=42)"
      ]
    },
    {
      "cell_type": "markdown",
      "metadata": {
        "id": "6G5yjp3YnvcC"
      },
      "source": [
        "### Random Forest"
      ]
    },
    {
      "cell_type": "code",
      "execution_count": null,
      "metadata": {
        "colab": {
          "base_uri": "https://localhost:8080/",
          "height": 633
        },
        "id": "Wo4iuUt5nO5w",
        "outputId": "8a5eaf0e-1577-4b3d-bb7a-ce81f1901984"
      },
      "outputs": [
        {
          "name": "stdout",
          "output_type": "stream",
          "text": [
            "Random Forest Classifier 2 fitur\n",
            "              precision    recall  f1-score   support\n",
            "\n",
            "           0       0.61      0.69      0.65        16\n",
            "           1       0.83      0.77      0.80        31\n",
            "\n",
            "    accuracy                           0.74        47\n",
            "   macro avg       0.72      0.73      0.72        47\n",
            "weighted avg       0.75      0.74      0.75        47\n",
            "\n"
          ]
        },
        {
          "data": {
            "text/plain": [
              "<Axes: >"
            ]
          },
          "execution_count": 45,
          "metadata": {},
          "output_type": "execute_result"
        },
        {
          "data": {
            "image/png": "[encoded data removed]",
            "text/plain": [
              "<Figure size 640x480 with 2 Axes>"
            ]
          },
          "metadata": {},
          "output_type": "display_data"
        }
      ],
      "source": [
        "rf_model_2_fitur.fit(X_2_train, y_2_train)\n",
        "y_rf_pred_2_fitur = rf_model_2_fitur.predict(X_2_test)\n",
        "\n",
        "# confusion matrix dan classification report\n",
        "print(\"Random Forest Classifier 2 fitur\")\n",
        "print(classification_report(y_2_test, y_rf_pred_2_fitur))\n",
        "sns.heatmap(confusion_matrix(y_2_test, y_rf_pred_2_fitur), annot=True, cmap='viridis')"
      ]
    },
    {
      "cell_type": "code",
      "execution_count": null,
      "metadata": {
        "colab": {
          "base_uri": "https://localhost:8080/",
          "height": 633
        },
        "id": "1HLTqq_BnpMn",
        "outputId": "da04056d-d95c-4dad-f15e-5d648258fd0e"
      },
      "outputs": [
        {
          "name": "stdout",
          "output_type": "stream",
          "text": [
            "Random Forest Classifier all fitur\n",
            "              precision    recall  f1-score   support\n",
            "\n",
            "           0       0.97      0.86      0.91        37\n",
            "           1       0.86      0.97      0.91        31\n",
            "\n",
            "    accuracy                           0.91        68\n",
            "   macro avg       0.91      0.92      0.91        68\n",
            "weighted avg       0.92      0.91      0.91        68\n",
            "\n"
          ]
        },
        {
          "data": {
            "text/plain": [
              "<Axes: >"
            ]
          },
          "execution_count": 46,
          "metadata": {},
          "output_type": "execute_result"
        },
        {
          "data": {
            "image/png": "[encoded data removed]",
            "text/plain": [
              "<Figure size 640x480 with 2 Axes>"
            ]
          },
          "metadata": {},
          "output_type": "display_data"
        }
      ],
      "source": [
        "rf_model_all_fitur.fit(X_all_train, y_all_train)\n",
        "y_rf_pred_all_fitur = rf_model_all_fitur.predict(X_all_test)\n",
        "\n",
        "# confusion matrix dan classification report\n",
        "print(\"Random Forest Classifier all fitur\")\n",
        "print(classification_report(y_all_test, y_rf_pred_all_fitur))\n",
        "sns.heatmap(confusion_matrix(y_all_test, y_rf_pred_all_fitur), annot=True, cmap='viridis')"
      ]
    },
    {
      "cell_type": "markdown",
      "metadata": {
        "id": "0JaVhl29n25a"
      },
      "source": [
        "### KNN"
      ]
    },
    {
      "cell_type": "code",
      "execution_count": null,
      "metadata": {
        "colab": {
          "base_uri": "https://localhost:8080/",
          "height": 638
        },
        "id": "GYigYgp4n1DP",
        "outputId": "11d898e6-c094-40fb-a2ca-742331c6bfd4"
      },
      "outputs": [
        {
          "name": "stdout",
          "output_type": "stream",
          "text": [
            "K-Nearest Neighbor Classifier 2 fitur\n",
            "              precision    recall  f1-score   support\n",
            "\n",
            "           0       0.65      0.69      0.67        16\n",
            "           1       0.83      0.81      0.82        31\n",
            "\n",
            "    accuracy                           0.77        47\n",
            "   macro avg       0.74      0.75      0.74        47\n",
            "weighted avg       0.77      0.77      0.77        47\n",
            "\n"
          ]
        },
        {
          "data": {
            "text/plain": [
              "<Axes: >"
            ]
          },
          "execution_count": 47,
          "metadata": {},
          "output_type": "execute_result"
        },
        {
          "data": {
            "image/png": "[encoded data removed]",
            "text/plain": [
              "<Figure size 640x480 with 2 Axes>"
            ]
          },
          "metadata": {},
          "output_type": "display_data"
        }
      ],
      "source": [
        "knn_model_2_fitur.fit(X_2_train, y_2_train)\n",
        "y_knn_pred_2_fitur = knn_model_2_fitur.predict(X_2_test)\n",
        "\n",
        "# confusion matrix dan classification report\n",
        "print(\"K-Nearest Neighbor Classifier 2 fitur\")\n",
        "print(classification_report(y_2_test, y_knn_pred_2_fitur))\n",
        "sns.heatmap(confusion_matrix(y_2_test, y_knn_pred_2_fitur), annot=True, cmap='viridis')"
      ]
    },
    {
      "cell_type": "code",
      "execution_count": null,
      "metadata": {
        "colab": {
          "base_uri": "https://localhost:8080/",
          "height": 633
        },
        "id": "y6hSkTMyn-St",
        "outputId": "3cafbf1d-3f6c-4eae-a4f3-1e2df3feec77"
      },
      "outputs": [
        {
          "name": "stdout",
          "output_type": "stream",
          "text": [
            "K-Nearest Neighbor Classifier all fitur\n",
            "              precision    recall  f1-score   support\n",
            "\n",
            "           0       0.83      0.78      0.81        37\n",
            "           1       0.76      0.81      0.78        31\n",
            "\n",
            "    accuracy                           0.79        68\n",
            "   macro avg       0.79      0.80      0.79        68\n",
            "weighted avg       0.80      0.79      0.79        68\n",
            "\n"
          ]
        },
        {
          "data": {
            "text/plain": [
              "<Axes: >"
            ]
          },
          "execution_count": 48,
          "metadata": {},
          "output_type": "execute_result"
        },
        {
          "data": {
            "image/png": "[encoded data removed]",
            "text/plain": [
              "<Figure size 640x480 with 2 Axes>"
            ]
          },
          "metadata": {},
          "output_type": "display_data"
        }
      ],
      "source": [
        "knn_model_all_fitur.fit(X_all_train, y_all_train)\n",
        "y_knn_pred_all_fitur = knn_model_all_fitur.predict(X_all_test)\n",
        "\n",
        "# confusion matrix dan classification report\n",
        "print(\"K-Nearest Neighbor Classifier all fitur\")\n",
        "print(classification_report(y_all_test, y_knn_pred_all_fitur))\n",
        "sns.heatmap(confusion_matrix(y_all_test, y_knn_pred_all_fitur), annot=True, cmap='viridis')"
      ]
    },
    {
      "cell_type": "markdown",
      "metadata": {
        "id": "TG3j2HyVoCIw"
      },
      "source": [
        "### Logistic Regression"
      ]
    },
    {
      "cell_type": "code",
      "execution_count": null,
      "metadata": {
        "colab": {
          "base_uri": "https://localhost:8080/",
          "height": 633
        },
        "id": "ufHf-O_7n87s",
        "outputId": "b745fdf8-080d-4671-c642-79061d681a7b"
      },
      "outputs": [
        {
          "name": "stdout",
          "output_type": "stream",
          "text": [
            "Logistic Regression Classifier 2 fitur\n",
            "              precision    recall  f1-score   support\n",
            "\n",
            "           0       0.56      0.62      0.59        16\n",
            "           1       0.79      0.74      0.77        31\n",
            "\n",
            "    accuracy                           0.70        47\n",
            "   macro avg       0.67      0.68      0.68        47\n",
            "weighted avg       0.71      0.70      0.71        47\n",
            "\n"
          ]
        },
        {
          "data": {
            "text/plain": [
              "<Axes: >"
            ]
          },
          "execution_count": 49,
          "metadata": {},
          "output_type": "execute_result"
        },
        {
          "data": {
            "image/png": "[encoded data removed]",
            "text/plain": [
              "<Figure size 640x480 with 2 Axes>"
            ]
          },
          "metadata": {},
          "output_type": "display_data"
        }
      ],
      "source": [
        "lr_model_2_fitur.fit(X_2_train, y_2_train)\n",
        "y_lr_pred_2_fitur = lr_model_2_fitur.predict(X_2_test)\n",
        "\n",
        "# confusion matrix dan classification report\n",
        "print(\"Logistic Regression Classifier 2 fitur\")\n",
        "print(classification_report(y_2_test, y_lr_pred_2_fitur))\n",
        "sns.heatmap(confusion_matrix(y_2_test, y_lr_pred_2_fitur), annot=True, cmap='viridis')"
      ]
    },
    {
      "cell_type": "code",
      "execution_count": null,
      "metadata": {
        "colab": {
          "base_uri": "https://localhost:8080/",
          "height": 633
        },
        "id": "wPtu-BduoHWt",
        "outputId": "9d3817eb-2d3c-4251-cafa-5bf1cb3271d2"
      },
      "outputs": [
        {
          "name": "stdout",
          "output_type": "stream",
          "text": [
            "Logistic Regression Classifier all fitur\n",
            "              precision    recall  f1-score   support\n",
            "\n",
            "           0       1.00      0.81      0.90        37\n",
            "           1       0.82      1.00      0.90        31\n",
            "\n",
            "    accuracy                           0.90        68\n",
            "   macro avg       0.91      0.91      0.90        68\n",
            "weighted avg       0.92      0.90      0.90        68\n",
            "\n"
          ]
        },
        {
          "data": {
            "text/plain": [
              "<Axes: >"
            ]
          },
          "execution_count": 50,
          "metadata": {},
          "output_type": "execute_result"
        },
        {
          "data": {
            "image/png": "[encoded data removed]",
            "text/plain": [
              "<Figure size 640x480 with 2 Axes>"
            ]
          },
          "metadata": {},
          "output_type": "display_data"
        }
      ],
      "source": [
        "lr_model_all_fitur.fit(X_all_train, y_all_train)\n",
        "y_lr_pred_all_fitur = lr_model_all_fitur.predict(X_all_test)\n",
        "\n",
        "# confusion matrix dan classification report\n",
        "print(\"Logistic Regression Classifier all fitur\")\n",
        "print(classification_report(y_all_test, y_lr_pred_all_fitur))\n",
        "sns.heatmap(confusion_matrix(y_all_test, y_lr_pred_all_fitur), annot=True, cmap='viridis')"
      ]
    },
    {
      "cell_type": "markdown",
      "metadata": {
        "id": "SoFJpV_roq3w"
      },
      "source": [
        "> Setelah melakukan modeling diatas, dapat disimpulkan bahwa:\n",
        "* akurasi tertinggi pada data 2 fitur terletak pada model KNN yaitu sebesar 77%\n",
        "* akurasi tertinggi pada data all fitur terletak pada model Random Forest yaitu sebesar 91%\n",
        "* dari keseluruhan model, data all fitur menghasilkan akurasi yang lebih tinggi dari pada data 2 fitur\n"
      ]
    },
    {
      "cell_type": "markdown",
      "metadata": {
        "id": "lhgP-XO8GkTT"
      },
      "source": [
        "- Dari pekerjaan Membangun Model yang telah anda lakukan, bagaimana cara Anda meningkatkan hasil akurasi pada sebuah model? : 'dengan melakukan optimisasi model'"
      ]
    },
    {
      "cell_type": "markdown",
      "metadata": {
        "id": "qRzpAqW9poH6"
      },
      "source": [
        "###Optimisasi Model"
      ]
    },
    {
      "cell_type": "markdown",
      "metadata": {
        "id": "dmCB87_Mptjy"
      },
      "source": [
        "> Lakukan optimisasi model dengan mencoba menggunakan parameter GridSearchCV pada model"
      ]
    },
    {
      "cell_type": "code",
      "execution_count": null,
      "metadata": {
        "id": "ean49czgrLcb"
      },
      "outputs": [],
      "source": [
        "# Import Library\n",
        "from sklearn.model_selection import GridSearchCV"
      ]
    },
    {
      "cell_type": "code",
      "execution_count": null,
      "metadata": {
        "colab": {
          "base_uri": "https://localhost:8080/"
        },
        "id": "bvQOsV96pvAy",
        "outputId": "33d756f9-1da4-458e-95de-13288f9ffdd8"
      },
      "outputs": [
        {
          "name": "stdout",
          "output_type": "stream",
          "text": [
            "Best Parameters: {'n_neighbors': 7, 'p': 1, 'weights': 'uniform'}\n"
          ]
        }
      ],
      "source": [
        "# Melakukan optimisasi pada model KNN dengan data 2 fitur\n",
        "param_grid_knn = {'n_neighbors': [3, 5, 7, 9],\n",
        "                  'weights': ['uniform', 'distance'],\n",
        "                  'p': [1, 2]\n",
        "                  }\n",
        "\n",
        "knn_grid = GridSearchCV(knn_model_2_fitur, param_grid_knn, cv=5)\n",
        "knn_grid.fit(X_2_train, y_2_train)\n",
        "\n",
        "best_model_knn = knn_grid.best_estimator_\n",
        "print(\"Best Parameters:\", knn_grid.best_params_)"
      ]
    },
    {
      "cell_type": "code",
      "execution_count": null,
      "metadata": {
        "colab": {
          "base_uri": "https://localhost:8080/",
          "height": 633
        },
        "id": "_BEuJwigqetU",
        "outputId": "5197c78e-63d2-4c42-bdc6-6f0ea2341bc6"
      },
      "outputs": [
        {
          "name": "stdout",
          "output_type": "stream",
          "text": [
            "Best K-Nearest Neighbor Classifier 2 fitur\n",
            "              precision    recall  f1-score   support\n",
            "\n",
            "           0       0.79      0.69      0.73        16\n",
            "           1       0.85      0.90      0.88        31\n",
            "\n",
            "    accuracy                           0.83        47\n",
            "   macro avg       0.82      0.80      0.80        47\n",
            "weighted avg       0.83      0.83      0.83        47\n",
            "\n"
          ]
        },
        {
          "data": {
            "text/plain": [
              "<Axes: >"
            ]
          },
          "execution_count": 53,
          "metadata": {},
          "output_type": "execute_result"
        },
        {
          "data": {
            "image/png": "[encoded data removed]",
            "text/plain": [
              "<Figure size 640x480 with 2 Axes>"
            ]
          },
          "metadata": {},
          "output_type": "display_data"
        }
      ],
      "source": [
        "# Evaluasi best_model_knn\n",
        "best_y_knn_pred_2_fitur = best_model_knn.predict(X_2_test)\n",
        "\n",
        "# confusion matrix dan classification report\n",
        "print(\"Best K-Nearest Neighbor Classifier 2 fitur\")\n",
        "print(classification_report(y_2_test, best_y_knn_pred_2_fitur))\n",
        "sns.heatmap(confusion_matrix(y_2_test, best_y_knn_pred_2_fitur), annot=True, cmap='viridis')"
      ]
    },
    {
      "cell_type": "code",
      "execution_count": null,
      "metadata": {
        "colab": {
          "base_uri": "https://localhost:8080/"
        },
        "id": "_Pyabhjtqpya",
        "outputId": "7bd4f8d2-82b9-4ff0-c883-7f7faeea8453"
      },
      "outputs": [
        {
          "name": "stdout",
          "output_type": "stream",
          "text": [
            "Best Parameters: {'max_depth': None, 'min_samples_leaf': 1, 'min_samples_split': 5, 'n_estimators': 300}\n"
          ]
        }
      ],
      "source": [
        "# Melakukan optimisasi pada model Random Forest dengan data all fitur\n",
        "param_grid_rf = {'n_estimators': [100, 200, 300],\n",
        "                 'max_depth': [None, 5, 10],\n",
        "                 'min_samples_split': [2, 5, 10],\n",
        "                 'min_samples_leaf': [1, 2, 4]\n",
        "                 }\n",
        "rf_grid = GridSearchCV(rf_model_all_fitur, param_grid_rf, cv=5)\n",
        "rf_grid.fit(X_all_train, y_all_train)\n",
        "\n",
        "best_model_rf = rf_grid.best_estimator_\n",
        "print(\"Best Parameters:\", rf_grid.best_params_)"
      ]
    },
    {
      "cell_type": "code",
      "execution_count": null,
      "metadata": {
        "colab": {
          "base_uri": "https://localhost:8080/",
          "height": 633
        },
        "id": "X8UwrB_Nsd25",
        "outputId": "d55f24eb-4d41-42ea-e179-54920d5f2763"
      },
      "outputs": [
        {
          "name": "stdout",
          "output_type": "stream",
          "text": [
            "Best Ramdom Forest Classifier all fitur\n",
            "              precision    recall  f1-score   support\n",
            "\n",
            "           0       1.00      0.86      0.93        37\n",
            "           1       0.86      1.00      0.93        31\n",
            "\n",
            "    accuracy                           0.93        68\n",
            "   macro avg       0.93      0.93      0.93        68\n",
            "weighted avg       0.94      0.93      0.93        68\n",
            "\n"
          ]
        },
        {
          "data": {
            "text/plain": [
              "<Axes: >"
            ]
          },
          "execution_count": 55,
          "metadata": {},
          "output_type": "execute_result"
        },
        {
          "data": {
            "image/png": "[encoded data removed]",
            "text/plain": [
              "<Figure size 640x480 with 2 Axes>"
            ]
          },
          "metadata": {},
          "output_type": "display_data"
        }
      ],
      "source": [
        "# Evaluasi best_model_rf\n",
        "best_y_rf_pred_all_fitur = best_model_rf.predict(X_all_test)\n",
        "\n",
        "# confusion matrix dan classification report\n",
        "print(\"Best Ramdom Forest Classifier all fitur\")\n",
        "print(classification_report(y_all_test, best_y_rf_pred_all_fitur))\n",
        "sns.heatmap(confusion_matrix(y_all_test, best_y_rf_pred_all_fitur), annot=True, cmap='viridis')"
      ]
    },
    {
      "cell_type": "markdown",
      "metadata": {
        "id": "epQAfmdtojYE"
      },
      "source": [
        "## BAB 9 – (J.62DMI00.014.1) mengevaluasi hasil pemodelan\n",
        "- BANDINGKAN SEMUA MODEL UNTUK MENGETAHUI MODEL MANA YANG MEMILIKI AKURASI YANG TINGGI"
      ]
    },
    {
      "cell_type": "code",
      "execution_count": null,
      "metadata": {
        "colab": {
          "base_uri": "https://localhost:8080/"
        },
        "id": "X8ioMMyd6Y1C",
        "outputId": "0e114170-03aa-453e-e276-3aa69956420d"
      },
      "outputs": [
        {
          "data": {
            "text/plain": [
              "(233, 3)"
            ]
          },
          "execution_count": 56,
          "metadata": {},
          "output_type": "execute_result"
        }
      ],
      "source": [
        "# Melihat dimensi data pada data 2 fitur\n",
        "df_2_fitur.shape"
      ]
    },
    {
      "cell_type": "code",
      "execution_count": null,
      "metadata": {
        "colab": {
          "base_uri": "https://localhost:8080/"
        },
        "id": "lqTU_5WV6dZF",
        "outputId": "00e344c8-713d-4733-fc2b-8fb40d02d4f3"
      },
      "outputs": [
        {
          "data": {
            "text/plain": [
              "(336, 13)"
            ]
          },
          "execution_count": 57,
          "metadata": {},
          "output_type": "execute_result"
        }
      ],
      "source": [
        "# Melihat dimensi data pada data all fitur\n",
        "df_all_fitur.shape"
      ]
    },
    {
      "cell_type": "markdown",
      "metadata": {
        "id": "5Etz1tU46DFr"
      },
      "source": [
        "> Untuk membandingkan model mana yang memiliki akurasi yang tinggi, komparasi yang dilakukan akan dipisah menurut data yang digunakan karena dimensi pada data 2 fitur berbeda dengan all fitur, sehingga tidak dapat dilakukan komparasi gabungan keseluruhan"
      ]
    },
    {
      "cell_type": "code",
      "execution_count": null,
      "metadata": {
        "colab": {
          "base_uri": "https://localhost:8080/",
          "height": 585
        },
        "id": "bEoUqnYGxNPq",
        "outputId": "9ef51f82-36b8-49dd-8911-361ecd493076"
      },
      "outputs": [
        {
          "name": "stderr",
          "output_type": "stream",
          "text": [
            "<ipython-input-58-d349a6ec0722>:12: FutureWarning: \n",
            "\n",
            "Passing `palette` without assigning `hue` is deprecated and will be removed in v0.14.0. Assign the `x` variable to `hue` and set `legend=False` for the same effect.\n",
            "\n",
            "  sns.barplot(x=models, y=accuracies, palette='viridis')\n"
          ]
        },
        {
          "data": {
            "image/png": "[encoded data removed]",
            "text/plain": [
              "<Figure size 1000x500 with 1 Axes>"
            ]
          },
          "metadata": {},
          "output_type": "display_data"
        }
      ],
      "source": [
        "# komparasi model pada data 2 fitur menggunakan visualisasi\n",
        "# plot komparasi akurasi dari masing -masing model\n",
        "\n",
        "models = ['Random Forest', 'Logistic Regression', 'KNN', 'Optimized KNN']\n",
        "accuracies = [\n",
        "    accuracy_score(y_2_test, y_rf_pred_2_fitur),\n",
        "    accuracy_score(y_2_test, y_lr_pred_2_fitur),\n",
        "    accuracy_score(y_2_test, y_knn_pred_2_fitur),\n",
        "    accuracy_score(y_2_test, best_y_knn_pred_2_fitur)\n",
        "]\n",
        "plt.figure(figsize=(10, 5))\n",
        "sns.barplot(x=models, y=accuracies, palette='viridis')\n",
        "for i, acc in enumerate(accuracies):\n",
        "    plt.text(i, acc + 0.01, f'{acc:.2f}', ha='center', va='bottom', fontsize=10, color='black')\n",
        "plt.title('Model Comparison in 2 Feature Data - Accuracy', fontsize=16)\n",
        "plt.ylabel('Accuracy', fontsize=12)\n",
        "plt.xlabel('Models', fontsize=12)\n",
        "plt.ylim(0, 1)\n",
        "plt.show()"
      ]
    },
    {
      "cell_type": "code",
      "execution_count": null,
      "metadata": {
        "colab": {
          "base_uri": "https://localhost:8080/",
          "height": 585
        },
        "id": "8vg0GwDYxcCp",
        "outputId": "e30b4e08-b2bc-41ec-dee9-a362c45389a3"
      },
      "outputs": [
        {
          "name": "stderr",
          "output_type": "stream",
          "text": [
            "<ipython-input-59-5817cc39cb42>:12: FutureWarning: \n",
            "\n",
            "Passing `palette` without assigning `hue` is deprecated and will be removed in v0.14.0. Assign the `x` variable to `hue` and set `legend=False` for the same effect.\n",
            "\n",
            "  sns.barplot(x=models, y=accuracies, palette='viridis')\n"
          ]
        },
        {
          "data": {
            "image/png": "[encoded data removed]",
            "text/plain": [
              "<Figure size 1000x500 with 1 Axes>"
            ]
          },
          "metadata": {},
          "output_type": "display_data"
        }
      ],
      "source": [
        "# komparasi model pada data all fitur menggunakan visualisasi\n",
        "# plot komparasi akurasi dari masing -masing model\n",
        "\n",
        "models = ['Random Forest', 'Logistic Regression', 'KNN', 'Optimized Random Forest']\n",
        "accuracies = [\n",
        "    accuracy_score(y_all_test, y_rf_pred_all_fitur),\n",
        "    accuracy_score(y_all_test, y_lr_pred_all_fitur),\n",
        "    accuracy_score(y_all_test, y_knn_pred_all_fitur),\n",
        "    accuracy_score(y_all_test, best_y_rf_pred_all_fitur)\n",
        "]\n",
        "plt.figure(figsize=(10, 5))\n",
        "sns.barplot(x=models, y=accuracies, palette='viridis')\n",
        "for i, acc in enumerate(accuracies):\n",
        "    plt.text(i, acc + 0.01, f'{acc:.2f}', ha='center', va='bottom', fontsize=10, color='black')\n",
        "plt.title('Model Comparison in All Feature Data - Accuracy', fontsize=16)\n",
        "plt.ylabel('Accuracy', fontsize=12)\n",
        "plt.xlabel('Models', fontsize=12)\n",
        "plt.ylim(0, 1)\n",
        "plt.show()"
      ]
    },
    {
      "cell_type": "markdown",
      "metadata": {
        "id": "r3HDZ2EFtXQL"
      },
      "source": [
        "- 3 MODEL YANG MEMILIKI AKURASI TINGGI ? : 'Optimized Random Forest(93%), Random Forest(91%), Logistic Regression(90%)'\n",
        "- Jelaskan :\n",
        "'Setelah dilakukan pelatihan menggunakan dataset Heart Failure Prediction dengan tujuan untuk memprediksi tingkat kematian pasien, dapat diambil kesimpulan model terbaik yaitu Random Forest yang telah melalui optimisasi yaitu dengan perolehan akurasi 93%. Selain itu, metrik precision, recall, dan F1 Score pada model Random Forest juga mengalami peningkatan setelah dilakukan optimisasi.'\n"
      ]
    }
  ],
  "metadata": {
    "colab": {
      "provenance": []
    },
    "kernelspec": {
      "display_name": "Python 3",
      "name": "python3"
    },
    "language_info": {
      "name": "python"
    }
  },
  "nbformat": 4,
  "nbformat_minor": 0
}
